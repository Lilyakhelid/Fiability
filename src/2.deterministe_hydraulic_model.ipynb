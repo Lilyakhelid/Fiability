{
 "cells": [
  {
   "cell_type": "markdown",
   "metadata": {},
   "source": [
    "## 📌 Théorie : Modèle Hydraulique\n",
    "\n",
    "### 👉 Objectif : Calculer la hauteur d’eau  H  et la surverse  S  en fonction du débit  Q ."
   ]
  },
  {
   "cell_type": "markdown",
   "metadata": {},
   "source": [
    "On utilise une équation hydraulique simplifiée pour estimer la hauteur d’eau $H$ en fonction du débit $Q$ :\n",
    "\n",
    "$$H = \\left( \\frac{Q}{K_s \\sqrt{\\frac{Z_m - Z_v}{L} B}} \\right)^{\\frac{3}{5}}$$\n",
    "\n",
    "où :\n",
    "- $Q$ : débit de la rivière ($\\text{m}^3$/s)\n",
    "- $K_s$ : coefficient de Strickler\n",
    "- $Z_m, Z_v$ : cotes du fond de la rivière en amont et aval\n",
    "- $L$ : longueur du tronçon étudié (m)\n",
    "- $B$ : largeur du cours d’eau (m)\n",
    "\n",
    "📌 **Surverse $S$** : dépassement de la digue\n",
    "\n",
    "$$S = Z_v + H - h_d - Z_b$$\n",
    "\n",
    "où :\n",
    "- $h_d$ : hauteur de la digue\n",
    "- $Z_b$ : cote de la berge"
   ]
  },
  {
   "cell_type": "markdown",
   "metadata": {},
   "source": [
    "### 📂 Importation des données & librairies"
   ]
  },
  {
   "cell_type": "code",
   "execution_count": 1,
   "metadata": {},
   "outputs": [],
   "source": [
    "from utils import *\n",
    "import numpy as np\n",
    "import plotly.express as px\n",
    "params = load_hydraulic_params()"
   ]
  },
  {
   "cell_type": "code",
   "execution_count": 2,
   "metadata": {},
   "outputs": [],
   "source": [
    "df = load_cleaned_data()"
   ]
  },
  {
   "cell_type": "code",
   "execution_count": 3,
   "metadata": {},
   "outputs": [
    {
     "data": {
      "text/html": [
       "<div>\n",
       "<style scoped>\n",
       "    .dataframe tbody tr th:only-of-type {\n",
       "        vertical-align: middle;\n",
       "    }\n",
       "\n",
       "    .dataframe tbody tr th {\n",
       "        vertical-align: top;\n",
       "    }\n",
       "\n",
       "    .dataframe thead th {\n",
       "        text-align: right;\n",
       "    }\n",
       "</style>\n",
       "<table border=\"1\" class=\"dataframe\">\n",
       "  <thead>\n",
       "    <tr style=\"text-align: right;\">\n",
       "      <th></th>\n",
       "      <th>Annee</th>\n",
       "      <th>Debit</th>\n",
       "      <th>Hauteur</th>\n",
       "    </tr>\n",
       "  </thead>\n",
       "  <tbody>\n",
       "    <tr>\n",
       "      <th>0</th>\n",
       "      <td>1850</td>\n",
       "      <td>1256.402143</td>\n",
       "      <td>4.0</td>\n",
       "    </tr>\n",
       "    <tr>\n",
       "      <th>1</th>\n",
       "      <td>1851</td>\n",
       "      <td>1648.542191</td>\n",
       "      <td>4.5</td>\n",
       "    </tr>\n",
       "    <tr>\n",
       "      <th>2</th>\n",
       "      <td>1852</td>\n",
       "      <td>1604.857094</td>\n",
       "      <td>4.3</td>\n",
       "    </tr>\n",
       "    <tr>\n",
       "      <th>3</th>\n",
       "      <td>1853</td>\n",
       "      <td>341.157419</td>\n",
       "      <td>1.7</td>\n",
       "    </tr>\n",
       "    <tr>\n",
       "      <th>4</th>\n",
       "      <td>1854</td>\n",
       "      <td>1148.712945</td>\n",
       "      <td>3.4</td>\n",
       "    </tr>\n",
       "  </tbody>\n",
       "</table>\n",
       "</div>"
      ],
      "text/plain": [
       "   Annee        Debit  Hauteur\n",
       "0   1850  1256.402143      4.0\n",
       "1   1851  1648.542191      4.5\n",
       "2   1852  1604.857094      4.3\n",
       "3   1853   341.157419      1.7\n",
       "4   1854  1148.712945      3.4"
      ]
     },
     "execution_count": 3,
     "metadata": {},
     "output_type": "execute_result"
    }
   ],
   "source": [
    "df.head()"
   ]
  },
  {
   "cell_type": "markdown",
   "metadata": {},
   "source": [
    "\n",
    "| Paramètre dans le code | Notation mathématique | Explication |\n",
    "|------------------------|----------------------|-------------|\n",
    "| `params[\"L\"]`  | $L$  | Longueur du tronçon étudié (m) |\n",
    "| `params[\"B\"]`  | $B$  | Largeur moyenne de la rivière (m) |\n",
    "| `params[\"Ks\"]` | $K_s$ | Coefficient de Strickler (rugosité du lit) |\n",
    "| `params[\"Zm\"]` | $Z_m$ | Cote du fond en amont (m NGF) |\n",
    "| `params[\"Zv\"]` | $Z_v$ | Cote du fond en aval (m NGF) |\n",
    "| `params[\"Zb\"]` | $Z_b$ | Cote de la berge (m NGF) |\n",
    "| `params[\"hd\"]` | $h_d$ | Hauteur de la digue estimée (m) |"
   ]
  },
  {
   "cell_type": "code",
   "execution_count": 4,
   "metadata": {},
   "outputs": [
    {
     "name": "stdout",
     "output_type": "stream",
     "text": [
      "Paramètres du modèle hydraulique :\n",
      "{'L': 5000, 'B': 300, 'Ks': 30, 'Zm': 55, 'Zv': 50, 'Zb': 55.5, 'hd': 5.5, 'H_IC_95': [1.19, 4.03], 'S_IC_95': [-10.72, -7.36]}\n"
     ]
    }
   ],
   "source": [
    "L = params[\"L\"]\n",
    "B = params[\"B\"]\n",
    "Ks = params[\"Ks\"]\n",
    "Zm = params[\"Zm\"]\n",
    "Zv = params[\"Zv\"]\n",
    "Zb = params[\"Zb\"]\n",
    "hd = params[\"hd\"]\n",
    "print(\"Paramètres du modèle hydraulique :\")\n",
    "print(params)"
   ]
  },
  {
   "cell_type": "markdown",
   "metadata": {},
   "source": [
    "$$H = \\left( \\frac{Q}{K_s \\sqrt{\\frac{Z_m - Z_v}{L} B}} \\right)^{\\frac{3}{5}}$$"
   ]
  },
  {
   "cell_type": "code",
   "execution_count": 5,
   "metadata": {},
   "outputs": [
    {
     "data": {
      "text/html": [
       "<div>\n",
       "<style scoped>\n",
       "    .dataframe tbody tr th:only-of-type {\n",
       "        vertical-align: middle;\n",
       "    }\n",
       "\n",
       "    .dataframe tbody tr th {\n",
       "        vertical-align: top;\n",
       "    }\n",
       "\n",
       "    .dataframe thead th {\n",
       "        text-align: right;\n",
       "    }\n",
       "</style>\n",
       "<table border=\"1\" class=\"dataframe\">\n",
       "  <thead>\n",
       "    <tr style=\"text-align: right;\">\n",
       "      <th></th>\n",
       "      <th>Debit</th>\n",
       "      <th>H_calculé</th>\n",
       "    </tr>\n",
       "  </thead>\n",
       "  <tbody>\n",
       "    <tr>\n",
       "      <th>0</th>\n",
       "      <td>1256.402143</td>\n",
       "      <td>2.437427</td>\n",
       "    </tr>\n",
       "    <tr>\n",
       "      <th>1</th>\n",
       "      <td>1648.542191</td>\n",
       "      <td>2.868894</td>\n",
       "    </tr>\n",
       "    <tr>\n",
       "      <th>2</th>\n",
       "      <td>1604.857094</td>\n",
       "      <td>2.823035</td>\n",
       "    </tr>\n",
       "    <tr>\n",
       "      <th>3</th>\n",
       "      <td>341.157419</td>\n",
       "      <td>1.114878</td>\n",
       "    </tr>\n",
       "    <tr>\n",
       "      <th>4</th>\n",
       "      <td>1148.712945</td>\n",
       "      <td>2.309837</td>\n",
       "    </tr>\n",
       "  </tbody>\n",
       "</table>\n",
       "</div>"
      ],
      "text/plain": [
       "         Debit  H_calculé\n",
       "0  1256.402143   2.437427\n",
       "1  1648.542191   2.868894\n",
       "2  1604.857094   2.823035\n",
       "3   341.157419   1.114878\n",
       "4  1148.712945   2.309837"
      ]
     },
     "execution_count": 5,
     "metadata": {},
     "output_type": "execute_result"
    }
   ],
   "source": [
    "df[\"H_calculé\"] = (df[\"Debit\"] / (Ks * np.sqrt((Zm - Zv) / L) * B)) ** (3/5)\n",
    "df[[\"Debit\", \"H_calculé\"]].head()"
   ]
  },
  {
   "cell_type": "markdown",
   "metadata": {},
   "source": [
    "$$S = Z_v + H - h_d - Z_b$$\n"
   ]
  },
  {
   "cell_type": "code",
   "execution_count": 6,
   "metadata": {},
   "outputs": [
    {
     "data": {
      "text/html": [
       "<div>\n",
       "<style scoped>\n",
       "    .dataframe tbody tr th:only-of-type {\n",
       "        vertical-align: middle;\n",
       "    }\n",
       "\n",
       "    .dataframe tbody tr th {\n",
       "        vertical-align: top;\n",
       "    }\n",
       "\n",
       "    .dataframe thead th {\n",
       "        text-align: right;\n",
       "    }\n",
       "</style>\n",
       "<table border=\"1\" class=\"dataframe\">\n",
       "  <thead>\n",
       "    <tr style=\"text-align: right;\">\n",
       "      <th></th>\n",
       "      <th>Debit</th>\n",
       "      <th>H_calculé</th>\n",
       "      <th>S_calculé</th>\n",
       "    </tr>\n",
       "  </thead>\n",
       "  <tbody>\n",
       "    <tr>\n",
       "      <th>0</th>\n",
       "      <td>1256.402143</td>\n",
       "      <td>2.437427</td>\n",
       "      <td>-8.562573</td>\n",
       "    </tr>\n",
       "    <tr>\n",
       "      <th>1</th>\n",
       "      <td>1648.542191</td>\n",
       "      <td>2.868894</td>\n",
       "      <td>-8.131106</td>\n",
       "    </tr>\n",
       "    <tr>\n",
       "      <th>2</th>\n",
       "      <td>1604.857094</td>\n",
       "      <td>2.823035</td>\n",
       "      <td>-8.176965</td>\n",
       "    </tr>\n",
       "    <tr>\n",
       "      <th>3</th>\n",
       "      <td>341.157419</td>\n",
       "      <td>1.114878</td>\n",
       "      <td>-9.885122</td>\n",
       "    </tr>\n",
       "    <tr>\n",
       "      <th>4</th>\n",
       "      <td>1148.712945</td>\n",
       "      <td>2.309837</td>\n",
       "      <td>-8.690163</td>\n",
       "    </tr>\n",
       "  </tbody>\n",
       "</table>\n",
       "</div>"
      ],
      "text/plain": [
       "         Debit  H_calculé  S_calculé\n",
       "0  1256.402143   2.437427  -8.562573\n",
       "1  1648.542191   2.868894  -8.131106\n",
       "2  1604.857094   2.823035  -8.176965\n",
       "3   341.157419   1.114878  -9.885122\n",
       "4  1148.712945   2.309837  -8.690163"
      ]
     },
     "execution_count": 6,
     "metadata": {},
     "output_type": "execute_result"
    }
   ],
   "source": [
    "df[\"S_calculé\"] = Zv + df[\"H_calculé\"] - hd - Zb\n",
    "df[[\"Debit\", \"H_calculé\", \"S_calculé\"]].head()"
   ]
  },
  {
   "cell_type": "code",
   "execution_count": 7,
   "metadata": {},
   "outputs": [
    {
     "data": {
      "application/vnd.plotly.v1+json": {
       "config": {
        "plotlyServerURL": "https://plot.ly"
       },
       "data": [
        {
         "hovertemplate": "Débit (m³/s)=%{x}<br>Hauteur d'eau (m)=%{y}<extra></extra>",
         "legendgroup": "",
         "marker": {
          "color": "#636efa",
          "symbol": "circle"
         },
         "mode": "markers",
         "name": "",
         "orientation": "v",
         "showlegend": false,
         "type": "scatter",
         "x": [
          1256.402143175037,
          1648.54219084634,
          1604.857093544096,
          341.1574185276561,
          1148.712944669766,
          868.2714973451419,
          1147.880794203966,
          1227.466678027988,
          1990.668280993508,
          1255.005113202517,
          1366.085105180794,
          1099.786108469176,
          1836.974183296215,
          350.5600633604942,
          1084.273729747291,
          1923.57348339864,
          842.6677964723345,
          2646.592877442351,
          1247.613976407765,
          2416.864880014663,
          1399.610653367994,
          2078.464811149675,
          1432.656350317372,
          917.2280037966834,
          1529.899684754615,
          2442.455386718339,
          2150.96305780439,
          1909.417421503598,
          630.3296921872956,
          2434.99389611769,
          1920.114728377885,
          1512.210666197346,
          1377.240721699465,
          3330.488103670534,
          1857.969024863263,
          1359.370490346106,
          714.2476255659377,
          1528.02920024466,
          1034.818124850376,
          1025.765636451536,
          1127.409291820889,
          1839.017922065459,
          581.6403181637562,
          1259.857190466651,
          1330.62678475256,
          1283.141893721952,
          1347.847955929912,
          1048.383184923423,
          1348.257477275626,
          382.5804087124052,
          1525.826658570982,
          789.4413372403599,
          810.7482177053162,
          1073.492708839973,
          964.5429773568743,
          618.8841102157688,
          3361.255607571254,
          523.2684017451577,
          493.1757419261207,
          423.8204568960127,
          2016.607293344455,
          1958.256909416421,
          3191.885647816079,
          1556.425908748663,
          1169.481036696287,
          1510.546058274252,
          1515.390160734174,
          2490.974433143753,
          880.6266911233805,
          845.504697738958,
          856.4055021294165,
          1036.080909438689,
          1830.144390580889,
          1390.515664029838,
          1333.823573621211,
          1511.86903978012,
          1791.945100563997,
          135.7775431130155,
          890.5060418581809,
          635.3562928088406,
          733.0797254758158,
          757.9781836406348,
          1367.686472056224,
          935.1153564848182,
          1172.663174794731,
          547.1040404921354,
          669.2910984629056,
          330.8071276894134,
          226.7400863332653,
          2036.970089302865,
          3223.578195987553,
          1525.24577521479,
          766.1160487463029,
          1574.760271636326,
          1837.021251045593,
          1628.875118036684,
          1420.689029300363,
          2203.937335177608,
          956.2947117644953,
          970.6632359720114,
          1382.967561583485,
          540.8612964440994,
          702.7632236080101,
          2090.375541507963,
          799.9188351556087,
          650.9143351984061,
          1152.813303759871,
          703.665914758199,
          1770.700216344204,
          1432.917063967551,
          238.2104053790122,
          122.4355996731037,
          1306.166075596537,
          732.7708898990838,
          792.6299723361645,
          855.5399334137255,
          1902.767036417,
          1594.3089970996,
          740.1786945408916,
          3044.380648404041,
          1127.889906295005,
          522.1513700244392,
          642.328260859533
         ],
         "xaxis": "x",
         "y": [
          2.437427436937555,
          2.868894211307952,
          2.8230353346339987,
          1.1148781039310556,
          2.3098373701905075,
          1.9527552818507676,
          2.308833249448531,
          2.4035896267589716,
          3.212579119212566,
          2.435800927373242,
          2.5629559857756306,
          2.250294880712562,
          3.061373552861486,
          1.1332140686318002,
          2.231196683493369,
          3.147166815802738,
          1.917998806719093,
          3.811244213224246,
          2.427183622948494,
          3.6091581834937583,
          2.6005118556685125,
          3.2968569231570366,
          2.6371796257844644,
          2.0180916139968854,
          2.743167125049901,
          3.6320387905638727,
          3.3653812075191807,
          3.133249815611005,
          1.6113695538555937,
          3.625377378039956,
          3.1437702634132876,
          2.724092638098175,
          2.575493199606204,
          4.374810304292755,
          3.082318947444993,
          2.555390036063909,
          1.736855857012394,
          2.741154323669217,
          2.169566220513431,
          2.1581587227309096,
          2.284038710853374,
          3.06341667020761,
          1.535490720999779,
          2.441446914938938,
          2.5228315358472853,
          2.4684214127141795,
          2.542371649264889,
          2.1865857945773595,
          2.5428350956926207,
          1.1942304223825193,
          2.738782936397157,
          1.8443630476372401,
          1.8740712399675037,
          2.217859108646619,
          2.079923895289531,
          1.5937496182766486,
          4.399014750160636,
          1.4410836816067747,
          1.3907706540980564,
          1.2698828076913442,
          3.237630587979333,
          3.1810924790548696,
          4.264645034324252,
          2.771606462458836,
          2.3348038714821686,
          2.72229306938382,
          2.727527714688026,
          3.675158352360791,
          1.969380353133285,
          1.921870450129357,
          1.9366991575365686,
          2.1711543410460172,
          3.054539231039518,
          2.5903594065460562,
          2.5264664043347214,
          2.723723378411901,
          3.0161248471584257,
          0.6414329444859997,
          1.982606914898162,
          1.6190672785456226,
          1.764189445250872,
          1.7999005837998123,
          2.5647581887750137,
          2.0416138712780616,
          2.338613576835639,
          1.4801183661451227,
          1.6704117017699611,
          1.094458779463039,
          0.8725121411122913,
          3.257206445171719,
          4.290001263396532,
          2.7381572947219572,
          1.8114703519860755,
          2.7911499199773933,
          3.061420616525002,
          2.8483094312522907,
          2.6239400625098472,
          3.41486893281062,
          2.0692337191829457,
          2.087832448161637,
          2.581913512832935,
          1.4699617606616913,
          1.720045400018003,
          3.308179632558201,
          1.8590113790548315,
          1.6427398634482167,
          2.3147808571239348,
          1.7213706866039151,
          2.9946186056796997,
          2.6374675624014245,
          0.8987335022052315,
          0.6028359201193056,
          2.4949022475188842,
          1.763743471617839,
          1.8488291873782594,
          1.9355244673590424,
          3.126697495638608,
          2.8118878325934853,
          1.7744200756456172,
          4.1452799514224115,
          2.2846228723448507,
          1.4392371063516394,
          1.6297039288256132
         ],
         "yaxis": "y"
        }
       ],
       "layout": {
        "legend": {
         "tracegroupgap": 0
        },
        "template": {
         "data": {
          "bar": [
           {
            "error_x": {
             "color": "#2a3f5f"
            },
            "error_y": {
             "color": "#2a3f5f"
            },
            "marker": {
             "line": {
              "color": "#E5ECF6",
              "width": 0.5
             },
             "pattern": {
              "fillmode": "overlay",
              "size": 10,
              "solidity": 0.2
             }
            },
            "type": "bar"
           }
          ],
          "barpolar": [
           {
            "marker": {
             "line": {
              "color": "#E5ECF6",
              "width": 0.5
             },
             "pattern": {
              "fillmode": "overlay",
              "size": 10,
              "solidity": 0.2
             }
            },
            "type": "barpolar"
           }
          ],
          "carpet": [
           {
            "aaxis": {
             "endlinecolor": "#2a3f5f",
             "gridcolor": "white",
             "linecolor": "white",
             "minorgridcolor": "white",
             "startlinecolor": "#2a3f5f"
            },
            "baxis": {
             "endlinecolor": "#2a3f5f",
             "gridcolor": "white",
             "linecolor": "white",
             "minorgridcolor": "white",
             "startlinecolor": "#2a3f5f"
            },
            "type": "carpet"
           }
          ],
          "choropleth": [
           {
            "colorbar": {
             "outlinewidth": 0,
             "ticks": ""
            },
            "type": "choropleth"
           }
          ],
          "contour": [
           {
            "colorbar": {
             "outlinewidth": 0,
             "ticks": ""
            },
            "colorscale": [
             [
              0,
              "#0d0887"
             ],
             [
              0.1111111111111111,
              "#46039f"
             ],
             [
              0.2222222222222222,
              "#7201a8"
             ],
             [
              0.3333333333333333,
              "#9c179e"
             ],
             [
              0.4444444444444444,
              "#bd3786"
             ],
             [
              0.5555555555555556,
              "#d8576b"
             ],
             [
              0.6666666666666666,
              "#ed7953"
             ],
             [
              0.7777777777777778,
              "#fb9f3a"
             ],
             [
              0.8888888888888888,
              "#fdca26"
             ],
             [
              1,
              "#f0f921"
             ]
            ],
            "type": "contour"
           }
          ],
          "contourcarpet": [
           {
            "colorbar": {
             "outlinewidth": 0,
             "ticks": ""
            },
            "type": "contourcarpet"
           }
          ],
          "heatmap": [
           {
            "colorbar": {
             "outlinewidth": 0,
             "ticks": ""
            },
            "colorscale": [
             [
              0,
              "#0d0887"
             ],
             [
              0.1111111111111111,
              "#46039f"
             ],
             [
              0.2222222222222222,
              "#7201a8"
             ],
             [
              0.3333333333333333,
              "#9c179e"
             ],
             [
              0.4444444444444444,
              "#bd3786"
             ],
             [
              0.5555555555555556,
              "#d8576b"
             ],
             [
              0.6666666666666666,
              "#ed7953"
             ],
             [
              0.7777777777777778,
              "#fb9f3a"
             ],
             [
              0.8888888888888888,
              "#fdca26"
             ],
             [
              1,
              "#f0f921"
             ]
            ],
            "type": "heatmap"
           }
          ],
          "heatmapgl": [
           {
            "colorbar": {
             "outlinewidth": 0,
             "ticks": ""
            },
            "colorscale": [
             [
              0,
              "#0d0887"
             ],
             [
              0.1111111111111111,
              "#46039f"
             ],
             [
              0.2222222222222222,
              "#7201a8"
             ],
             [
              0.3333333333333333,
              "#9c179e"
             ],
             [
              0.4444444444444444,
              "#bd3786"
             ],
             [
              0.5555555555555556,
              "#d8576b"
             ],
             [
              0.6666666666666666,
              "#ed7953"
             ],
             [
              0.7777777777777778,
              "#fb9f3a"
             ],
             [
              0.8888888888888888,
              "#fdca26"
             ],
             [
              1,
              "#f0f921"
             ]
            ],
            "type": "heatmapgl"
           }
          ],
          "histogram": [
           {
            "marker": {
             "pattern": {
              "fillmode": "overlay",
              "size": 10,
              "solidity": 0.2
             }
            },
            "type": "histogram"
           }
          ],
          "histogram2d": [
           {
            "colorbar": {
             "outlinewidth": 0,
             "ticks": ""
            },
            "colorscale": [
             [
              0,
              "#0d0887"
             ],
             [
              0.1111111111111111,
              "#46039f"
             ],
             [
              0.2222222222222222,
              "#7201a8"
             ],
             [
              0.3333333333333333,
              "#9c179e"
             ],
             [
              0.4444444444444444,
              "#bd3786"
             ],
             [
              0.5555555555555556,
              "#d8576b"
             ],
             [
              0.6666666666666666,
              "#ed7953"
             ],
             [
              0.7777777777777778,
              "#fb9f3a"
             ],
             [
              0.8888888888888888,
              "#fdca26"
             ],
             [
              1,
              "#f0f921"
             ]
            ],
            "type": "histogram2d"
           }
          ],
          "histogram2dcontour": [
           {
            "colorbar": {
             "outlinewidth": 0,
             "ticks": ""
            },
            "colorscale": [
             [
              0,
              "#0d0887"
             ],
             [
              0.1111111111111111,
              "#46039f"
             ],
             [
              0.2222222222222222,
              "#7201a8"
             ],
             [
              0.3333333333333333,
              "#9c179e"
             ],
             [
              0.4444444444444444,
              "#bd3786"
             ],
             [
              0.5555555555555556,
              "#d8576b"
             ],
             [
              0.6666666666666666,
              "#ed7953"
             ],
             [
              0.7777777777777778,
              "#fb9f3a"
             ],
             [
              0.8888888888888888,
              "#fdca26"
             ],
             [
              1,
              "#f0f921"
             ]
            ],
            "type": "histogram2dcontour"
           }
          ],
          "mesh3d": [
           {
            "colorbar": {
             "outlinewidth": 0,
             "ticks": ""
            },
            "type": "mesh3d"
           }
          ],
          "parcoords": [
           {
            "line": {
             "colorbar": {
              "outlinewidth": 0,
              "ticks": ""
             }
            },
            "type": "parcoords"
           }
          ],
          "pie": [
           {
            "automargin": true,
            "type": "pie"
           }
          ],
          "scatter": [
           {
            "fillpattern": {
             "fillmode": "overlay",
             "size": 10,
             "solidity": 0.2
            },
            "type": "scatter"
           }
          ],
          "scatter3d": [
           {
            "line": {
             "colorbar": {
              "outlinewidth": 0,
              "ticks": ""
             }
            },
            "marker": {
             "colorbar": {
              "outlinewidth": 0,
              "ticks": ""
             }
            },
            "type": "scatter3d"
           }
          ],
          "scattercarpet": [
           {
            "marker": {
             "colorbar": {
              "outlinewidth": 0,
              "ticks": ""
             }
            },
            "type": "scattercarpet"
           }
          ],
          "scattergeo": [
           {
            "marker": {
             "colorbar": {
              "outlinewidth": 0,
              "ticks": ""
             }
            },
            "type": "scattergeo"
           }
          ],
          "scattergl": [
           {
            "marker": {
             "colorbar": {
              "outlinewidth": 0,
              "ticks": ""
             }
            },
            "type": "scattergl"
           }
          ],
          "scattermapbox": [
           {
            "marker": {
             "colorbar": {
              "outlinewidth": 0,
              "ticks": ""
             }
            },
            "type": "scattermapbox"
           }
          ],
          "scatterpolar": [
           {
            "marker": {
             "colorbar": {
              "outlinewidth": 0,
              "ticks": ""
             }
            },
            "type": "scatterpolar"
           }
          ],
          "scatterpolargl": [
           {
            "marker": {
             "colorbar": {
              "outlinewidth": 0,
              "ticks": ""
             }
            },
            "type": "scatterpolargl"
           }
          ],
          "scatterternary": [
           {
            "marker": {
             "colorbar": {
              "outlinewidth": 0,
              "ticks": ""
             }
            },
            "type": "scatterternary"
           }
          ],
          "surface": [
           {
            "colorbar": {
             "outlinewidth": 0,
             "ticks": ""
            },
            "colorscale": [
             [
              0,
              "#0d0887"
             ],
             [
              0.1111111111111111,
              "#46039f"
             ],
             [
              0.2222222222222222,
              "#7201a8"
             ],
             [
              0.3333333333333333,
              "#9c179e"
             ],
             [
              0.4444444444444444,
              "#bd3786"
             ],
             [
              0.5555555555555556,
              "#d8576b"
             ],
             [
              0.6666666666666666,
              "#ed7953"
             ],
             [
              0.7777777777777778,
              "#fb9f3a"
             ],
             [
              0.8888888888888888,
              "#fdca26"
             ],
             [
              1,
              "#f0f921"
             ]
            ],
            "type": "surface"
           }
          ],
          "table": [
           {
            "cells": {
             "fill": {
              "color": "#EBF0F8"
             },
             "line": {
              "color": "white"
             }
            },
            "header": {
             "fill": {
              "color": "#C8D4E3"
             },
             "line": {
              "color": "white"
             }
            },
            "type": "table"
           }
          ]
         },
         "layout": {
          "annotationdefaults": {
           "arrowcolor": "#2a3f5f",
           "arrowhead": 0,
           "arrowwidth": 1
          },
          "autotypenumbers": "strict",
          "coloraxis": {
           "colorbar": {
            "outlinewidth": 0,
            "ticks": ""
           }
          },
          "colorscale": {
           "diverging": [
            [
             0,
             "#8e0152"
            ],
            [
             0.1,
             "#c51b7d"
            ],
            [
             0.2,
             "#de77ae"
            ],
            [
             0.3,
             "#f1b6da"
            ],
            [
             0.4,
             "#fde0ef"
            ],
            [
             0.5,
             "#f7f7f7"
            ],
            [
             0.6,
             "#e6f5d0"
            ],
            [
             0.7,
             "#b8e186"
            ],
            [
             0.8,
             "#7fbc41"
            ],
            [
             0.9,
             "#4d9221"
            ],
            [
             1,
             "#276419"
            ]
           ],
           "sequential": [
            [
             0,
             "#0d0887"
            ],
            [
             0.1111111111111111,
             "#46039f"
            ],
            [
             0.2222222222222222,
             "#7201a8"
            ],
            [
             0.3333333333333333,
             "#9c179e"
            ],
            [
             0.4444444444444444,
             "#bd3786"
            ],
            [
             0.5555555555555556,
             "#d8576b"
            ],
            [
             0.6666666666666666,
             "#ed7953"
            ],
            [
             0.7777777777777778,
             "#fb9f3a"
            ],
            [
             0.8888888888888888,
             "#fdca26"
            ],
            [
             1,
             "#f0f921"
            ]
           ],
           "sequentialminus": [
            [
             0,
             "#0d0887"
            ],
            [
             0.1111111111111111,
             "#46039f"
            ],
            [
             0.2222222222222222,
             "#7201a8"
            ],
            [
             0.3333333333333333,
             "#9c179e"
            ],
            [
             0.4444444444444444,
             "#bd3786"
            ],
            [
             0.5555555555555556,
             "#d8576b"
            ],
            [
             0.6666666666666666,
             "#ed7953"
            ],
            [
             0.7777777777777778,
             "#fb9f3a"
            ],
            [
             0.8888888888888888,
             "#fdca26"
            ],
            [
             1,
             "#f0f921"
            ]
           ]
          },
          "colorway": [
           "#636efa",
           "#EF553B",
           "#00cc96",
           "#ab63fa",
           "#FFA15A",
           "#19d3f3",
           "#FF6692",
           "#B6E880",
           "#FF97FF",
           "#FECB52"
          ],
          "font": {
           "color": "#2a3f5f"
          },
          "geo": {
           "bgcolor": "white",
           "lakecolor": "white",
           "landcolor": "#E5ECF6",
           "showlakes": true,
           "showland": true,
           "subunitcolor": "white"
          },
          "hoverlabel": {
           "align": "left"
          },
          "hovermode": "closest",
          "mapbox": {
           "style": "light"
          },
          "paper_bgcolor": "white",
          "plot_bgcolor": "#E5ECF6",
          "polar": {
           "angularaxis": {
            "gridcolor": "white",
            "linecolor": "white",
            "ticks": ""
           },
           "bgcolor": "#E5ECF6",
           "radialaxis": {
            "gridcolor": "white",
            "linecolor": "white",
            "ticks": ""
           }
          },
          "scene": {
           "xaxis": {
            "backgroundcolor": "#E5ECF6",
            "gridcolor": "white",
            "gridwidth": 2,
            "linecolor": "white",
            "showbackground": true,
            "ticks": "",
            "zerolinecolor": "white"
           },
           "yaxis": {
            "backgroundcolor": "#E5ECF6",
            "gridcolor": "white",
            "gridwidth": 2,
            "linecolor": "white",
            "showbackground": true,
            "ticks": "",
            "zerolinecolor": "white"
           },
           "zaxis": {
            "backgroundcolor": "#E5ECF6",
            "gridcolor": "white",
            "gridwidth": 2,
            "linecolor": "white",
            "showbackground": true,
            "ticks": "",
            "zerolinecolor": "white"
           }
          },
          "shapedefaults": {
           "line": {
            "color": "#2a3f5f"
           }
          },
          "ternary": {
           "aaxis": {
            "gridcolor": "white",
            "linecolor": "white",
            "ticks": ""
           },
           "baxis": {
            "gridcolor": "white",
            "linecolor": "white",
            "ticks": ""
           },
           "bgcolor": "#E5ECF6",
           "caxis": {
            "gridcolor": "white",
            "linecolor": "white",
            "ticks": ""
           }
          },
          "title": {
           "x": 0.05
          },
          "xaxis": {
           "automargin": true,
           "gridcolor": "white",
           "linecolor": "white",
           "ticks": "",
           "title": {
            "standoff": 15
           },
           "zerolinecolor": "white",
           "zerolinewidth": 2
          },
          "yaxis": {
           "automargin": true,
           "gridcolor": "white",
           "linecolor": "white",
           "ticks": "",
           "title": {
            "standoff": 15
           },
           "zerolinecolor": "white",
           "zerolinewidth": 2
          }
         }
        },
        "title": {
         "text": "Relation entre le débit et la hauteur d'eau"
        },
        "xaxis": {
         "anchor": "y",
         "domain": [
          0,
          1
         ],
         "title": {
          "text": "Débit (m³/s)"
         }
        },
        "yaxis": {
         "anchor": "x",
         "domain": [
          0,
          1
         ],
         "title": {
          "text": "Hauteur d'eau (m)"
         }
        }
       }
      }
     },
     "metadata": {},
     "output_type": "display_data"
    },
    {
     "data": {
      "application/vnd.plotly.v1+json": {
       "config": {
        "plotlyServerURL": "https://plot.ly"
       },
       "data": [
        {
         "hovertemplate": "Débit (m³/s)=%{x}<br>Surverse (m)=%{y}<extra></extra>",
         "legendgroup": "",
         "marker": {
          "color": "#636efa",
          "symbol": "circle"
         },
         "mode": "markers",
         "name": "",
         "orientation": "v",
         "showlegend": false,
         "type": "scatter",
         "x": [
          1256.402143175037,
          1648.54219084634,
          1604.857093544096,
          341.1574185276561,
          1148.712944669766,
          868.2714973451419,
          1147.880794203966,
          1227.466678027988,
          1990.668280993508,
          1255.005113202517,
          1366.085105180794,
          1099.786108469176,
          1836.974183296215,
          350.5600633604942,
          1084.273729747291,
          1923.57348339864,
          842.6677964723345,
          2646.592877442351,
          1247.613976407765,
          2416.864880014663,
          1399.610653367994,
          2078.464811149675,
          1432.656350317372,
          917.2280037966834,
          1529.899684754615,
          2442.455386718339,
          2150.96305780439,
          1909.417421503598,
          630.3296921872956,
          2434.99389611769,
          1920.114728377885,
          1512.210666197346,
          1377.240721699465,
          3330.488103670534,
          1857.969024863263,
          1359.370490346106,
          714.2476255659377,
          1528.02920024466,
          1034.818124850376,
          1025.765636451536,
          1127.409291820889,
          1839.017922065459,
          581.6403181637562,
          1259.857190466651,
          1330.62678475256,
          1283.141893721952,
          1347.847955929912,
          1048.383184923423,
          1348.257477275626,
          382.5804087124052,
          1525.826658570982,
          789.4413372403599,
          810.7482177053162,
          1073.492708839973,
          964.5429773568743,
          618.8841102157688,
          3361.255607571254,
          523.2684017451577,
          493.1757419261207,
          423.8204568960127,
          2016.607293344455,
          1958.256909416421,
          3191.885647816079,
          1556.425908748663,
          1169.481036696287,
          1510.546058274252,
          1515.390160734174,
          2490.974433143753,
          880.6266911233805,
          845.504697738958,
          856.4055021294165,
          1036.080909438689,
          1830.144390580889,
          1390.515664029838,
          1333.823573621211,
          1511.86903978012,
          1791.945100563997,
          135.7775431130155,
          890.5060418581809,
          635.3562928088406,
          733.0797254758158,
          757.9781836406348,
          1367.686472056224,
          935.1153564848182,
          1172.663174794731,
          547.1040404921354,
          669.2910984629056,
          330.8071276894134,
          226.7400863332653,
          2036.970089302865,
          3223.578195987553,
          1525.24577521479,
          766.1160487463029,
          1574.760271636326,
          1837.021251045593,
          1628.875118036684,
          1420.689029300363,
          2203.937335177608,
          956.2947117644953,
          970.6632359720114,
          1382.967561583485,
          540.8612964440994,
          702.7632236080101,
          2090.375541507963,
          799.9188351556087,
          650.9143351984061,
          1152.813303759871,
          703.665914758199,
          1770.700216344204,
          1432.917063967551,
          238.2104053790122,
          122.4355996731037,
          1306.166075596537,
          732.7708898990838,
          792.6299723361645,
          855.5399334137255,
          1902.767036417,
          1594.3089970996,
          740.1786945408916,
          3044.380648404041,
          1127.889906295005,
          522.1513700244392,
          642.328260859533
         ],
         "xaxis": "x",
         "y": [
          -8.562572563062446,
          -8.131105788692047,
          -8.176964665366,
          -9.885121896068945,
          -8.690162629809493,
          -9.04724471814923,
          -8.691166750551467,
          -8.596410373241028,
          -7.787420880787437,
          -8.564199072626757,
          -8.43704401422437,
          -8.74970511928744,
          -7.9386264471385175,
          -9.866785931368199,
          -8.768803316506634,
          -7.852833184197259,
          -9.08200119328091,
          -7.188755786775751,
          -8.57281637705151,
          -7.390841816506239,
          -8.399488144331485,
          -7.703143076842963,
          -8.362820374215538,
          -8.981908386003113,
          -8.2568328749501,
          -7.367961209436125,
          -7.634618792480822,
          -7.866750184388998,
          -9.388630446144404,
          -7.374622621960043,
          -7.856229736586712,
          -8.275907361901822,
          -8.424506800393793,
          -6.625189695707249,
          -7.917681052555004,
          -8.444609963936088,
          -9.263144142987606,
          -8.258845676330786,
          -8.830433779486569,
          -8.84184127726909,
          -8.715961289146627,
          -7.936583329792391,
          -9.464509279000218,
          -8.558553085061064,
          -8.477168464152712,
          -8.531578587285821,
          -8.457628350735114,
          -8.813414205422639,
          -8.457164904307376,
          -9.805769577617482,
          -8.261217063602842,
          -9.155636952362762,
          -9.125928760032494,
          -8.782140891353379,
          -8.920076104710468,
          -9.406250381723353,
          -6.600985249839361,
          -9.558916318393223,
          -9.609229345901944,
          -9.730117192308654,
          -7.762369412020668,
          -7.818907520945132,
          -6.7353549656757465,
          -8.228393537541166,
          -8.665196128517834,
          -8.277706930616176,
          -8.272472285311977,
          -7.324841647639211,
          -9.030619646866718,
          -9.078129549870646,
          -9.063300842463434,
          -8.82884565895398,
          -7.94546076896048,
          -8.409640593453943,
          -8.47353359566528,
          -8.276276621588096,
          -7.983875152841577,
          -10.358567055514001,
          -9.017393085101837,
          -9.380932721454379,
          -9.23581055474913,
          -9.200099416200189,
          -8.435241811224984,
          -8.95838612872194,
          -8.661386423164359,
          -9.51988163385488,
          -9.329588298230036,
          -9.90554122053696,
          -10.127487858887712,
          -7.742793554828282,
          -6.709998736603467,
          -8.261842705278042,
          -9.188529648013926,
          -8.208850080022607,
          -7.938579383474995,
          -8.15169056874771,
          -8.376059937490155,
          -7.58513106718938,
          -8.930766280817053,
          -8.912167551838365,
          -8.418086487167066,
          -9.53003823933831,
          -9.279954599981998,
          -7.6918203674417995,
          -9.140988620945166,
          -9.357260136551787,
          -8.685219142876065,
          -9.278629313396088,
          -8.005381394320302,
          -8.362532437598574,
          -10.101266497794768,
          -10.397164079880696,
          -8.505097752481113,
          -9.236256528382164,
          -9.151170812621743,
          -9.064475532640955,
          -7.873302504361391,
          -8.188112167406516,
          -9.225579924354385,
          -6.85472004857759,
          -8.715377127655152,
          -9.56076289364836,
          -9.370296071174387
         ],
         "yaxis": "y"
        }
       ],
       "layout": {
        "legend": {
         "tracegroupgap": 0
        },
        "template": {
         "data": {
          "bar": [
           {
            "error_x": {
             "color": "#2a3f5f"
            },
            "error_y": {
             "color": "#2a3f5f"
            },
            "marker": {
             "line": {
              "color": "#E5ECF6",
              "width": 0.5
             },
             "pattern": {
              "fillmode": "overlay",
              "size": 10,
              "solidity": 0.2
             }
            },
            "type": "bar"
           }
          ],
          "barpolar": [
           {
            "marker": {
             "line": {
              "color": "#E5ECF6",
              "width": 0.5
             },
             "pattern": {
              "fillmode": "overlay",
              "size": 10,
              "solidity": 0.2
             }
            },
            "type": "barpolar"
           }
          ],
          "carpet": [
           {
            "aaxis": {
             "endlinecolor": "#2a3f5f",
             "gridcolor": "white",
             "linecolor": "white",
             "minorgridcolor": "white",
             "startlinecolor": "#2a3f5f"
            },
            "baxis": {
             "endlinecolor": "#2a3f5f",
             "gridcolor": "white",
             "linecolor": "white",
             "minorgridcolor": "white",
             "startlinecolor": "#2a3f5f"
            },
            "type": "carpet"
           }
          ],
          "choropleth": [
           {
            "colorbar": {
             "outlinewidth": 0,
             "ticks": ""
            },
            "type": "choropleth"
           }
          ],
          "contour": [
           {
            "colorbar": {
             "outlinewidth": 0,
             "ticks": ""
            },
            "colorscale": [
             [
              0,
              "#0d0887"
             ],
             [
              0.1111111111111111,
              "#46039f"
             ],
             [
              0.2222222222222222,
              "#7201a8"
             ],
             [
              0.3333333333333333,
              "#9c179e"
             ],
             [
              0.4444444444444444,
              "#bd3786"
             ],
             [
              0.5555555555555556,
              "#d8576b"
             ],
             [
              0.6666666666666666,
              "#ed7953"
             ],
             [
              0.7777777777777778,
              "#fb9f3a"
             ],
             [
              0.8888888888888888,
              "#fdca26"
             ],
             [
              1,
              "#f0f921"
             ]
            ],
            "type": "contour"
           }
          ],
          "contourcarpet": [
           {
            "colorbar": {
             "outlinewidth": 0,
             "ticks": ""
            },
            "type": "contourcarpet"
           }
          ],
          "heatmap": [
           {
            "colorbar": {
             "outlinewidth": 0,
             "ticks": ""
            },
            "colorscale": [
             [
              0,
              "#0d0887"
             ],
             [
              0.1111111111111111,
              "#46039f"
             ],
             [
              0.2222222222222222,
              "#7201a8"
             ],
             [
              0.3333333333333333,
              "#9c179e"
             ],
             [
              0.4444444444444444,
              "#bd3786"
             ],
             [
              0.5555555555555556,
              "#d8576b"
             ],
             [
              0.6666666666666666,
              "#ed7953"
             ],
             [
              0.7777777777777778,
              "#fb9f3a"
             ],
             [
              0.8888888888888888,
              "#fdca26"
             ],
             [
              1,
              "#f0f921"
             ]
            ],
            "type": "heatmap"
           }
          ],
          "heatmapgl": [
           {
            "colorbar": {
             "outlinewidth": 0,
             "ticks": ""
            },
            "colorscale": [
             [
              0,
              "#0d0887"
             ],
             [
              0.1111111111111111,
              "#46039f"
             ],
             [
              0.2222222222222222,
              "#7201a8"
             ],
             [
              0.3333333333333333,
              "#9c179e"
             ],
             [
              0.4444444444444444,
              "#bd3786"
             ],
             [
              0.5555555555555556,
              "#d8576b"
             ],
             [
              0.6666666666666666,
              "#ed7953"
             ],
             [
              0.7777777777777778,
              "#fb9f3a"
             ],
             [
              0.8888888888888888,
              "#fdca26"
             ],
             [
              1,
              "#f0f921"
             ]
            ],
            "type": "heatmapgl"
           }
          ],
          "histogram": [
           {
            "marker": {
             "pattern": {
              "fillmode": "overlay",
              "size": 10,
              "solidity": 0.2
             }
            },
            "type": "histogram"
           }
          ],
          "histogram2d": [
           {
            "colorbar": {
             "outlinewidth": 0,
             "ticks": ""
            },
            "colorscale": [
             [
              0,
              "#0d0887"
             ],
             [
              0.1111111111111111,
              "#46039f"
             ],
             [
              0.2222222222222222,
              "#7201a8"
             ],
             [
              0.3333333333333333,
              "#9c179e"
             ],
             [
              0.4444444444444444,
              "#bd3786"
             ],
             [
              0.5555555555555556,
              "#d8576b"
             ],
             [
              0.6666666666666666,
              "#ed7953"
             ],
             [
              0.7777777777777778,
              "#fb9f3a"
             ],
             [
              0.8888888888888888,
              "#fdca26"
             ],
             [
              1,
              "#f0f921"
             ]
            ],
            "type": "histogram2d"
           }
          ],
          "histogram2dcontour": [
           {
            "colorbar": {
             "outlinewidth": 0,
             "ticks": ""
            },
            "colorscale": [
             [
              0,
              "#0d0887"
             ],
             [
              0.1111111111111111,
              "#46039f"
             ],
             [
              0.2222222222222222,
              "#7201a8"
             ],
             [
              0.3333333333333333,
              "#9c179e"
             ],
             [
              0.4444444444444444,
              "#bd3786"
             ],
             [
              0.5555555555555556,
              "#d8576b"
             ],
             [
              0.6666666666666666,
              "#ed7953"
             ],
             [
              0.7777777777777778,
              "#fb9f3a"
             ],
             [
              0.8888888888888888,
              "#fdca26"
             ],
             [
              1,
              "#f0f921"
             ]
            ],
            "type": "histogram2dcontour"
           }
          ],
          "mesh3d": [
           {
            "colorbar": {
             "outlinewidth": 0,
             "ticks": ""
            },
            "type": "mesh3d"
           }
          ],
          "parcoords": [
           {
            "line": {
             "colorbar": {
              "outlinewidth": 0,
              "ticks": ""
             }
            },
            "type": "parcoords"
           }
          ],
          "pie": [
           {
            "automargin": true,
            "type": "pie"
           }
          ],
          "scatter": [
           {
            "fillpattern": {
             "fillmode": "overlay",
             "size": 10,
             "solidity": 0.2
            },
            "type": "scatter"
           }
          ],
          "scatter3d": [
           {
            "line": {
             "colorbar": {
              "outlinewidth": 0,
              "ticks": ""
             }
            },
            "marker": {
             "colorbar": {
              "outlinewidth": 0,
              "ticks": ""
             }
            },
            "type": "scatter3d"
           }
          ],
          "scattercarpet": [
           {
            "marker": {
             "colorbar": {
              "outlinewidth": 0,
              "ticks": ""
             }
            },
            "type": "scattercarpet"
           }
          ],
          "scattergeo": [
           {
            "marker": {
             "colorbar": {
              "outlinewidth": 0,
              "ticks": ""
             }
            },
            "type": "scattergeo"
           }
          ],
          "scattergl": [
           {
            "marker": {
             "colorbar": {
              "outlinewidth": 0,
              "ticks": ""
             }
            },
            "type": "scattergl"
           }
          ],
          "scattermapbox": [
           {
            "marker": {
             "colorbar": {
              "outlinewidth": 0,
              "ticks": ""
             }
            },
            "type": "scattermapbox"
           }
          ],
          "scatterpolar": [
           {
            "marker": {
             "colorbar": {
              "outlinewidth": 0,
              "ticks": ""
             }
            },
            "type": "scatterpolar"
           }
          ],
          "scatterpolargl": [
           {
            "marker": {
             "colorbar": {
              "outlinewidth": 0,
              "ticks": ""
             }
            },
            "type": "scatterpolargl"
           }
          ],
          "scatterternary": [
           {
            "marker": {
             "colorbar": {
              "outlinewidth": 0,
              "ticks": ""
             }
            },
            "type": "scatterternary"
           }
          ],
          "surface": [
           {
            "colorbar": {
             "outlinewidth": 0,
             "ticks": ""
            },
            "colorscale": [
             [
              0,
              "#0d0887"
             ],
             [
              0.1111111111111111,
              "#46039f"
             ],
             [
              0.2222222222222222,
              "#7201a8"
             ],
             [
              0.3333333333333333,
              "#9c179e"
             ],
             [
              0.4444444444444444,
              "#bd3786"
             ],
             [
              0.5555555555555556,
              "#d8576b"
             ],
             [
              0.6666666666666666,
              "#ed7953"
             ],
             [
              0.7777777777777778,
              "#fb9f3a"
             ],
             [
              0.8888888888888888,
              "#fdca26"
             ],
             [
              1,
              "#f0f921"
             ]
            ],
            "type": "surface"
           }
          ],
          "table": [
           {
            "cells": {
             "fill": {
              "color": "#EBF0F8"
             },
             "line": {
              "color": "white"
             }
            },
            "header": {
             "fill": {
              "color": "#C8D4E3"
             },
             "line": {
              "color": "white"
             }
            },
            "type": "table"
           }
          ]
         },
         "layout": {
          "annotationdefaults": {
           "arrowcolor": "#2a3f5f",
           "arrowhead": 0,
           "arrowwidth": 1
          },
          "autotypenumbers": "strict",
          "coloraxis": {
           "colorbar": {
            "outlinewidth": 0,
            "ticks": ""
           }
          },
          "colorscale": {
           "diverging": [
            [
             0,
             "#8e0152"
            ],
            [
             0.1,
             "#c51b7d"
            ],
            [
             0.2,
             "#de77ae"
            ],
            [
             0.3,
             "#f1b6da"
            ],
            [
             0.4,
             "#fde0ef"
            ],
            [
             0.5,
             "#f7f7f7"
            ],
            [
             0.6,
             "#e6f5d0"
            ],
            [
             0.7,
             "#b8e186"
            ],
            [
             0.8,
             "#7fbc41"
            ],
            [
             0.9,
             "#4d9221"
            ],
            [
             1,
             "#276419"
            ]
           ],
           "sequential": [
            [
             0,
             "#0d0887"
            ],
            [
             0.1111111111111111,
             "#46039f"
            ],
            [
             0.2222222222222222,
             "#7201a8"
            ],
            [
             0.3333333333333333,
             "#9c179e"
            ],
            [
             0.4444444444444444,
             "#bd3786"
            ],
            [
             0.5555555555555556,
             "#d8576b"
            ],
            [
             0.6666666666666666,
             "#ed7953"
            ],
            [
             0.7777777777777778,
             "#fb9f3a"
            ],
            [
             0.8888888888888888,
             "#fdca26"
            ],
            [
             1,
             "#f0f921"
            ]
           ],
           "sequentialminus": [
            [
             0,
             "#0d0887"
            ],
            [
             0.1111111111111111,
             "#46039f"
            ],
            [
             0.2222222222222222,
             "#7201a8"
            ],
            [
             0.3333333333333333,
             "#9c179e"
            ],
            [
             0.4444444444444444,
             "#bd3786"
            ],
            [
             0.5555555555555556,
             "#d8576b"
            ],
            [
             0.6666666666666666,
             "#ed7953"
            ],
            [
             0.7777777777777778,
             "#fb9f3a"
            ],
            [
             0.8888888888888888,
             "#fdca26"
            ],
            [
             1,
             "#f0f921"
            ]
           ]
          },
          "colorway": [
           "#636efa",
           "#EF553B",
           "#00cc96",
           "#ab63fa",
           "#FFA15A",
           "#19d3f3",
           "#FF6692",
           "#B6E880",
           "#FF97FF",
           "#FECB52"
          ],
          "font": {
           "color": "#2a3f5f"
          },
          "geo": {
           "bgcolor": "white",
           "lakecolor": "white",
           "landcolor": "#E5ECF6",
           "showlakes": true,
           "showland": true,
           "subunitcolor": "white"
          },
          "hoverlabel": {
           "align": "left"
          },
          "hovermode": "closest",
          "mapbox": {
           "style": "light"
          },
          "paper_bgcolor": "white",
          "plot_bgcolor": "#E5ECF6",
          "polar": {
           "angularaxis": {
            "gridcolor": "white",
            "linecolor": "white",
            "ticks": ""
           },
           "bgcolor": "#E5ECF6",
           "radialaxis": {
            "gridcolor": "white",
            "linecolor": "white",
            "ticks": ""
           }
          },
          "scene": {
           "xaxis": {
            "backgroundcolor": "#E5ECF6",
            "gridcolor": "white",
            "gridwidth": 2,
            "linecolor": "white",
            "showbackground": true,
            "ticks": "",
            "zerolinecolor": "white"
           },
           "yaxis": {
            "backgroundcolor": "#E5ECF6",
            "gridcolor": "white",
            "gridwidth": 2,
            "linecolor": "white",
            "showbackground": true,
            "ticks": "",
            "zerolinecolor": "white"
           },
           "zaxis": {
            "backgroundcolor": "#E5ECF6",
            "gridcolor": "white",
            "gridwidth": 2,
            "linecolor": "white",
            "showbackground": true,
            "ticks": "",
            "zerolinecolor": "white"
           }
          },
          "shapedefaults": {
           "line": {
            "color": "#2a3f5f"
           }
          },
          "ternary": {
           "aaxis": {
            "gridcolor": "white",
            "linecolor": "white",
            "ticks": ""
           },
           "baxis": {
            "gridcolor": "white",
            "linecolor": "white",
            "ticks": ""
           },
           "bgcolor": "#E5ECF6",
           "caxis": {
            "gridcolor": "white",
            "linecolor": "white",
            "ticks": ""
           }
          },
          "title": {
           "x": 0.05
          },
          "xaxis": {
           "automargin": true,
           "gridcolor": "white",
           "linecolor": "white",
           "ticks": "",
           "title": {
            "standoff": 15
           },
           "zerolinecolor": "white",
           "zerolinewidth": 2
          },
          "yaxis": {
           "automargin": true,
           "gridcolor": "white",
           "linecolor": "white",
           "ticks": "",
           "title": {
            "standoff": 15
           },
           "zerolinecolor": "white",
           "zerolinewidth": 2
          }
         }
        },
        "title": {
         "text": "Relation entre le débit et la surverse"
        },
        "xaxis": {
         "anchor": "y",
         "domain": [
          0,
          1
         ],
         "title": {
          "text": "Débit (m³/s)"
         }
        },
        "yaxis": {
         "anchor": "x",
         "domain": [
          0,
          1
         ],
         "title": {
          "text": "Surverse (m)"
         }
        }
       }
      }
     },
     "metadata": {},
     "output_type": "display_data"
    }
   ],
   "source": [
    "fig_H = px.scatter(df, x=\"Debit\", y=\"H_calculé\", title=\"Relation entre le débit et la hauteur d'eau\",\n",
    "                   labels={\"Debit\": \"Débit (m³/s)\", \"H_calculé\": \"Hauteur d'eau (m)\"})\n",
    "fig_H.show()\n",
    "\n",
    "fig_S = px.scatter(df, x=\"Debit\", y=\"S_calculé\", title=\"Relation entre le débit et la surverse\",\n",
    "                   labels={\"Debit\": \"Débit (m³/s)\", \"S_calculé\": \"Surverse (m)\"})\n",
    "fig_S.show()"
   ]
  },
  {
   "cell_type": "markdown",
   "metadata": {},
   "source": [
    "> \tLa surverse  S  est toujours négative, ce qui signifie que l’eau ne dépasse jamais la digue"
   ]
  },
  {
   "cell_type": "markdown",
   "metadata": {},
   "source": [
    "💡 Les résultats montrent que la digue est bien dimensionnée pour les crues observées dans les données historiques. Toutefois, une analyse économique est nécessaire pour voir si cette hauteur de digue est optimale en termes de coûts de construction et de maintenance."
   ]
  }
 ],
 "metadata": {
  "kernelspec": {
   "display_name": "venv",
   "language": "python",
   "name": "python3"
  },
  "language_info": {
   "codemirror_mode": {
    "name": "ipython",
    "version": 3
   },
   "file_extension": ".py",
   "mimetype": "text/x-python",
   "name": "python",
   "nbconvert_exporter": "python",
   "pygments_lexer": "ipython3",
   "version": "3.9.6"
  }
 },
 "nbformat": 4,
 "nbformat_minor": 2
}
