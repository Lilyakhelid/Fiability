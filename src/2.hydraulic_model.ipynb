{
 "cells": [
  {
   "cell_type": "markdown",
   "metadata": {},
   "source": [
    "## 📌 Théorie : Modèle Hydraulique\n",
    "\n",
    "### 👉 Objectif : Calculer la hauteur d’eau  H  et la surverse  S  en fonction du débit  Q ."
   ]
  },
  {
   "cell_type": "markdown",
   "metadata": {},
   "source": [
    "On utilise une équation hydraulique simplifiée pour estimer la hauteur d’eau $H$ en fonction du débit $Q$ :\n",
    "\n",
    "$$H = \\left( \\frac{Q}{K_s \\sqrt{\\frac{Z_m - Z_v}{L} B}} \\right)^{\\frac{3}{5}}$$\n",
    "\n",
    "où :\n",
    "- $Q$ : débit de la rivière ($\\text{m}^3$/s)\n",
    "- $K_s$ : coefficient de Strickler\n",
    "- $Z_m, Z_v$ : cotes du fond de la rivière en amont et aval\n",
    "- $L$ : longueur du tronçon étudié (m)\n",
    "- $B$ : largeur du cours d’eau (m)\n",
    "\n",
    "📌 **Surverse $S$** : dépassement de la digue\n",
    "\n",
    "$$S = Z_v + H - h_d - Z_b$$\n",
    "\n",
    "où :\n",
    "- $h_d$ : hauteur de la digue\n",
    "- $Z_b$ : cote de la berge"
   ]
  },
  {
   "cell_type": "markdown",
   "metadata": {},
   "source": [
    "### 📂 Importation des données & librairies"
   ]
  },
  {
   "cell_type": "code",
   "execution_count": 12,
   "metadata": {},
   "outputs": [],
   "source": [
    "from utils import *\n",
    "import numpy as np\n",
    "import plotly.express as px\n",
    "params = load_hydraulic_params()"
   ]
  },
  {
   "cell_type": "code",
   "execution_count": 3,
   "metadata": {},
   "outputs": [],
   "source": [
    "df = load_cleaned_data()"
   ]
  },
  {
   "cell_type": "code",
   "execution_count": 4,
   "metadata": {},
   "outputs": [
    {
     "data": {
      "text/html": [
       "<div>\n",
       "<style scoped>\n",
       "    .dataframe tbody tr th:only-of-type {\n",
       "        vertical-align: middle;\n",
       "    }\n",
       "\n",
       "    .dataframe tbody tr th {\n",
       "        vertical-align: top;\n",
       "    }\n",
       "\n",
       "    .dataframe thead th {\n",
       "        text-align: right;\n",
       "    }\n",
       "</style>\n",
       "<table border=\"1\" class=\"dataframe\">\n",
       "  <thead>\n",
       "    <tr style=\"text-align: right;\">\n",
       "      <th></th>\n",
       "      <th>Annee</th>\n",
       "      <th>Debit</th>\n",
       "      <th>Hauteur</th>\n",
       "    </tr>\n",
       "  </thead>\n",
       "  <tbody>\n",
       "    <tr>\n",
       "      <th>0</th>\n",
       "      <td>1850</td>\n",
       "      <td>1256.402143</td>\n",
       "      <td>4.0</td>\n",
       "    </tr>\n",
       "    <tr>\n",
       "      <th>1</th>\n",
       "      <td>1851</td>\n",
       "      <td>1648.542191</td>\n",
       "      <td>4.5</td>\n",
       "    </tr>\n",
       "    <tr>\n",
       "      <th>2</th>\n",
       "      <td>1852</td>\n",
       "      <td>1604.857094</td>\n",
       "      <td>4.3</td>\n",
       "    </tr>\n",
       "    <tr>\n",
       "      <th>3</th>\n",
       "      <td>1853</td>\n",
       "      <td>341.157419</td>\n",
       "      <td>1.7</td>\n",
       "    </tr>\n",
       "    <tr>\n",
       "      <th>4</th>\n",
       "      <td>1854</td>\n",
       "      <td>1148.712945</td>\n",
       "      <td>3.4</td>\n",
       "    </tr>\n",
       "  </tbody>\n",
       "</table>\n",
       "</div>"
      ],
      "text/plain": [
       "   Annee        Debit  Hauteur\n",
       "0   1850  1256.402143      4.0\n",
       "1   1851  1648.542191      4.5\n",
       "2   1852  1604.857094      4.3\n",
       "3   1853   341.157419      1.7\n",
       "4   1854  1148.712945      3.4"
      ]
     },
     "execution_count": 4,
     "metadata": {},
     "output_type": "execute_result"
    }
   ],
   "source": [
    "df.head()"
   ]
  },
  {
   "cell_type": "markdown",
   "metadata": {},
   "source": [
    "\n",
    "| Paramètre dans le code | Notation mathématique | Explication |\n",
    "|------------------------|----------------------|-------------|\n",
    "| `params[\"L\"]`  | $L$  | Longueur du tronçon étudié (m) |\n",
    "| `params[\"B\"]`  | $B$  | Largeur moyenne de la rivière (m) |\n",
    "| `params[\"Ks\"]` | $K_s$ | Coefficient de Strickler (rugosité du lit) |\n",
    "| `params[\"Zm\"]` | $Z_m$ | Cote du fond en amont (m NGF) |\n",
    "| `params[\"Zv\"]` | $Z_v$ | Cote du fond en aval (m NGF) |\n",
    "| `params[\"Zb\"]` | $Z_b$ | Cote de la berge (m NGF) |\n",
    "| `params[\"hd\"]` | $h_d$ | Hauteur de la digue estimée (m) |"
   ]
  },
  {
   "cell_type": "code",
   "execution_count": 6,
   "metadata": {},
   "outputs": [
    {
     "name": "stdout",
     "output_type": "stream",
     "text": [
      "Paramètres du modèle hydraulique :\n",
      "{'L': 5000, 'B': 300, 'Ks': 30, 'Zm': 55, 'Zv': 50, 'Zb': 55.5, 'hd': 6.17}\n"
     ]
    }
   ],
   "source": [
    "L = params[\"L\"]\n",
    "B = params[\"B\"]\n",
    "Ks = params[\"Ks\"]\n",
    "Zm = params[\"Zm\"]\n",
    "Zv = params[\"Zv\"]\n",
    "Zb = params[\"Zb\"]\n",
    "hd = params[\"hd\"]\n",
    "print(\"Paramètres du modèle hydraulique :\")\n",
    "print(params)"
   ]
  },
  {
   "cell_type": "markdown",
   "metadata": {},
   "source": [
    "$$H = \\left( \\frac{Q}{K_s \\sqrt{\\frac{Z_m - Z_v}{L} B}} \\right)^{\\frac{3}{5}}$$"
   ]
  },
  {
   "cell_type": "code",
   "execution_count": 10,
   "metadata": {},
   "outputs": [
    {
     "data": {
      "text/html": [
       "<div>\n",
       "<style scoped>\n",
       "    .dataframe tbody tr th:only-of-type {\n",
       "        vertical-align: middle;\n",
       "    }\n",
       "\n",
       "    .dataframe tbody tr th {\n",
       "        vertical-align: top;\n",
       "    }\n",
       "\n",
       "    .dataframe thead th {\n",
       "        text-align: right;\n",
       "    }\n",
       "</style>\n",
       "<table border=\"1\" class=\"dataframe\">\n",
       "  <thead>\n",
       "    <tr style=\"text-align: right;\">\n",
       "      <th></th>\n",
       "      <th>Debit</th>\n",
       "      <th>H_calculé</th>\n",
       "    </tr>\n",
       "  </thead>\n",
       "  <tbody>\n",
       "    <tr>\n",
       "      <th>0</th>\n",
       "      <td>1256.402143</td>\n",
       "      <td>2.437427</td>\n",
       "    </tr>\n",
       "    <tr>\n",
       "      <th>1</th>\n",
       "      <td>1648.542191</td>\n",
       "      <td>2.868894</td>\n",
       "    </tr>\n",
       "    <tr>\n",
       "      <th>2</th>\n",
       "      <td>1604.857094</td>\n",
       "      <td>2.823035</td>\n",
       "    </tr>\n",
       "    <tr>\n",
       "      <th>3</th>\n",
       "      <td>341.157419</td>\n",
       "      <td>1.114878</td>\n",
       "    </tr>\n",
       "    <tr>\n",
       "      <th>4</th>\n",
       "      <td>1148.712945</td>\n",
       "      <td>2.309837</td>\n",
       "    </tr>\n",
       "  </tbody>\n",
       "</table>\n",
       "</div>"
      ],
      "text/plain": [
       "         Debit  H_calculé\n",
       "0  1256.402143   2.437427\n",
       "1  1648.542191   2.868894\n",
       "2  1604.857094   2.823035\n",
       "3   341.157419   1.114878\n",
       "4  1148.712945   2.309837"
      ]
     },
     "execution_count": 10,
     "metadata": {},
     "output_type": "execute_result"
    }
   ],
   "source": [
    "df[\"H_calculé\"] = (df[\"Debit\"] / (Ks * np.sqrt((Zm - Zv) / L) * B)) ** (3/5)\n",
    "df[[\"Debit\", \"H_calculé\"]].head()"
   ]
  },
  {
   "cell_type": "markdown",
   "metadata": {},
   "source": [
    "$$S = Z_v + H - h_d - Z_b$$\n"
   ]
  },
  {
   "cell_type": "code",
   "execution_count": 11,
   "metadata": {},
   "outputs": [
    {
     "data": {
      "text/html": [
       "<div>\n",
       "<style scoped>\n",
       "    .dataframe tbody tr th:only-of-type {\n",
       "        vertical-align: middle;\n",
       "    }\n",
       "\n",
       "    .dataframe tbody tr th {\n",
       "        vertical-align: top;\n",
       "    }\n",
       "\n",
       "    .dataframe thead th {\n",
       "        text-align: right;\n",
       "    }\n",
       "</style>\n",
       "<table border=\"1\" class=\"dataframe\">\n",
       "  <thead>\n",
       "    <tr style=\"text-align: right;\">\n",
       "      <th></th>\n",
       "      <th>Debit</th>\n",
       "      <th>H_calculé</th>\n",
       "      <th>S_calculé</th>\n",
       "    </tr>\n",
       "  </thead>\n",
       "  <tbody>\n",
       "    <tr>\n",
       "      <th>0</th>\n",
       "      <td>1256.402143</td>\n",
       "      <td>2.437427</td>\n",
       "      <td>-9.232573</td>\n",
       "    </tr>\n",
       "    <tr>\n",
       "      <th>1</th>\n",
       "      <td>1648.542191</td>\n",
       "      <td>2.868894</td>\n",
       "      <td>-8.801106</td>\n",
       "    </tr>\n",
       "    <tr>\n",
       "      <th>2</th>\n",
       "      <td>1604.857094</td>\n",
       "      <td>2.823035</td>\n",
       "      <td>-8.846965</td>\n",
       "    </tr>\n",
       "    <tr>\n",
       "      <th>3</th>\n",
       "      <td>341.157419</td>\n",
       "      <td>1.114878</td>\n",
       "      <td>-10.555122</td>\n",
       "    </tr>\n",
       "    <tr>\n",
       "      <th>4</th>\n",
       "      <td>1148.712945</td>\n",
       "      <td>2.309837</td>\n",
       "      <td>-9.360163</td>\n",
       "    </tr>\n",
       "  </tbody>\n",
       "</table>\n",
       "</div>"
      ],
      "text/plain": [
       "         Debit  H_calculé  S_calculé\n",
       "0  1256.402143   2.437427  -9.232573\n",
       "1  1648.542191   2.868894  -8.801106\n",
       "2  1604.857094   2.823035  -8.846965\n",
       "3   341.157419   1.114878 -10.555122\n",
       "4  1148.712945   2.309837  -9.360163"
      ]
     },
     "execution_count": 11,
     "metadata": {},
     "output_type": "execute_result"
    }
   ],
   "source": [
    "df[\"S_calculé\"] = Zv + df[\"H_calculé\"] - hd - Zb\n",
    "df[[\"Debit\", \"H_calculé\", \"S_calculé\"]].head()"
   ]
  },
  {
   "cell_type": "code",
   "execution_count": 13,
   "metadata": {},
   "outputs": [
    {
     "data": {
      "application/vnd.plotly.v1+json": {
       "config": {
        "plotlyServerURL": "https://plot.ly"
       },
       "data": [
        {
         "hovertemplate": "Débit (m³/s)=%{x}<br>Hauteur d'eau (m)=%{y}<extra></extra>",
         "legendgroup": "",
         "marker": {
          "color": "#636efa",
          "symbol": "circle"
         },
         "mode": "markers",
         "name": "",
         "orientation": "v",
         "showlegend": false,
         "type": "scatter",
         "x": {
          "bdata": "YKRry5uhk0DixBM0K8KZQAUW7qltE5lAFEFKyYRSdUAD4ioO2vKRQK/SzAYsIotAKXLq7oXvkUDiT9jg3S2TQJ9O2lGsGp9AWjZlPAWck0DsANAlV1iVQOFYnvkkL5FANlZOkOWznEArkP8E9uh1QDtinEwY8ZBA1Wc7P0sOnkB9SK2lV1WKQN7SoY0vraRAdz87tnR+k0Dio43RuuGiQOjSHU9x3pVAVx26++08oEBUL0waoGKWQPSQp/PSqYxAINf1Rpnnl0CZrHIo6RSjQAac6RXtzaBAZ+qKcKvVnUBzUag1o7KDQDOy89/8BaNAwhtbe3UAnkDlL+G416CXQI/Kv3/2hJVAAWy56PkEqkDnwg1I4AedQAlA0mF7PZVA2docI/tRhkBmP6vmHeCXQKRRhcJFK5BA5H8AAxAHkED0JGUdo52RQBh0KVoSvJxA8SIhXx8tgkDWclbDba+TQIK33NOBypRAK32WTJEMlECvLY9OZA+VQLDpoGGIYZBAG3kfqAcRlUCAYaVaSel3QE6dlX9O15dA0q7R24eriED4dJBZ/FWJQImIqoj4xZBA8zGDBFgkjkBLdmCoEleDQEve/t6CQqpAIm3QryVagECXE8TWz9J+QG8CaZcgfXpADXZO3m2Cn0BAFkMTB5meQKtroXPF76hAWkpsIbRRmEDqOuKU7EWSQH125ikvmpdA2KVLho+tl0Adqebo8nWjQOe8onYDhYtAhdn3nglsikBrguZ3PsOKQG6E7NlSMJBAE9sf25OYnECDPzsKELqVQMwj4lZL15RAJ2qQ5Xmfl0AxN3HIx/+bQDY0GKLh+GBAWnqsXwzUi0AqTguw2dqDQEw6HEej6IZAEtDxUdOvh0Bm3Ifyvl6VQGhNBUDsOI1AmxtLF6dSkkBzeS4T1RiBQMNQbitU6oRAoFu5/umsdEDqsojJrldsQAUYF1/h059AcPJNCSgvqUDDdn+s+9SXQOcQ96rt8IdAY9ilhAqbmEBQh9XCFbScQMpO8R6Ac5lALpzlkMEylkBvemXq3zehQAhy15Fb4o1Aj0qpTk5VjkC8t3bI3puVQIvcY+/j5oBAgp/6FBv2hUD8/flGwFSgQAn+PsZZ/4hA4/X4jlBXhEBwabPSQAOSQBzjHctT/YVA7GmDBc2qm0DjE9ESq2OWQFG4D6S7xm1APIhz3eCbXkApn7gPqmiUQA7LUsgq5oZAsanvLgrFiEDAD5zIUbyKQG2X/nERu51AXVW8aTzpmEDTSGf3bSGHQEP9WOTCyKdANIaYQ4+fkUB9xHwBNlGAQALCOkegEoRA",
          "dtype": "f8"
         },
         "xaxis": "x",
         "y": {
          "bdata": "wijA9Nl/A0DNAurOfvMGQL6krYyTlQZA45A2bIrW8T8AYOADjHoCQLU+ilJ8Pv8/DGQSkX14AkAfer8yjToDQMakZq5cswlAjRNVMoV8A0BA818R74AEQCYiOJqaAAJACAnTarF9CEA7QEITpSHyP6hhlKV92QFACW+ny2UtCUArAkqEH7D+P2nwJpttfQ5AyJpPP99qA0BZkmFTjt8MQPum5yjZzQRAv2fEhfZfCkDVX7Oh8RgFQHyWUzcNJQBA0GkMmwHyBUCqM3paag4NQGbxhvtM7ApAd/qBR+UQCUA2R/lwK8j5P/630trFAA1AoPobBnEmCUCKP78U8coFQEkIuy2cmgRAlJC8Rc5/EUBp8BjWlqgIQJlZy1RwcQRAob/7XSnK+z8XlmtR4u0FQGDk3IhFWwFAr6ZtuOhDAUBSTm8WtkUCQNOAZJnggQhAkxbgt16R+D+kqfRRFYgDQJlA3kzCLgRAAtTCuVO/A0BW9n7yxlYEQAzdbLEgfgFAefc47blXBEDIVgBckRvzP19ZNQcH6QVAa9i404KC/T+1jeAfMvz9P/suluosvgFA7X+jI6+jAEDJK4iZ/3/5PwU/mlKXmBFAVc40w60O9z8kZ7m6mED2P3mXjKJwUfQ/MjSf3armCUDjvBid4HIJQMbinRv/DhFAxCRNAkAsBkCHuPSmra0CQDgMuZZBxwVARybsDPrRBUA0FhhsuWYNQG56IfmUgv8/LEWnOvu//j8M93xBuPz+P3vjyiqGXgFAS0+tQ7JvCECfAkBaDrkEQJR7qAQ0NgRAuQmNey/KBUBmllkQBiEIQIme5GGehuQ/G/pEB8K4/z/lCDYXs+f5P2XQNLYeOvw/RYv3jWTM/D+6fvfwn4QEQAWYQac5VQBA2+zzCHu1AkAK1oyYkK73P7FS354Buvo/PtKJNeeC8T9ZFu6UnuvrP+KpskDCDgpA31hYF/YoEUC+EwEDv+cFQMdC91XI+/w/kUnEaEZUBkBJM5oXyn0IQIPvgHRWyQZA5CaZSdT9BEBgYpTNplELQJ5efWjKjQBABQ6jf+GzAEBTvpVFwqcEQMeZhp/2hPc/pmZLU06F+z/RCxniJncKQPPqPreCvv0/kIdVmKlI+j9/CHbTq4QCQC8cNP27ivs/dRl7mfr0B0AdM+aXiBkFQPtP+cJswuw/Doc4jm5K4z/qez5Pj/UDQC0dEhNLOPw/yuD66c2U/T91o/6A6Pf+P/0FAvp5AwlAIhNIDL9+BkBpOCROBmT8P7J+gETElBBAV1FDW+hGAkD6hO98HQf3P+F/R21EE/o/",
          "dtype": "f8"
         },
         "yaxis": "y"
        }
       ],
       "layout": {
        "legend": {
         "tracegroupgap": 0
        },
        "template": {
         "data": {
          "bar": [
           {
            "error_x": {
             "color": "#2a3f5f"
            },
            "error_y": {
             "color": "#2a3f5f"
            },
            "marker": {
             "line": {
              "color": "#E5ECF6",
              "width": 0.5
             },
             "pattern": {
              "fillmode": "overlay",
              "size": 10,
              "solidity": 0.2
             }
            },
            "type": "bar"
           }
          ],
          "barpolar": [
           {
            "marker": {
             "line": {
              "color": "#E5ECF6",
              "width": 0.5
             },
             "pattern": {
              "fillmode": "overlay",
              "size": 10,
              "solidity": 0.2
             }
            },
            "type": "barpolar"
           }
          ],
          "carpet": [
           {
            "aaxis": {
             "endlinecolor": "#2a3f5f",
             "gridcolor": "white",
             "linecolor": "white",
             "minorgridcolor": "white",
             "startlinecolor": "#2a3f5f"
            },
            "baxis": {
             "endlinecolor": "#2a3f5f",
             "gridcolor": "white",
             "linecolor": "white",
             "minorgridcolor": "white",
             "startlinecolor": "#2a3f5f"
            },
            "type": "carpet"
           }
          ],
          "choropleth": [
           {
            "colorbar": {
             "outlinewidth": 0,
             "ticks": ""
            },
            "type": "choropleth"
           }
          ],
          "contour": [
           {
            "colorbar": {
             "outlinewidth": 0,
             "ticks": ""
            },
            "colorscale": [
             [
              0,
              "#0d0887"
             ],
             [
              0.1111111111111111,
              "#46039f"
             ],
             [
              0.2222222222222222,
              "#7201a8"
             ],
             [
              0.3333333333333333,
              "#9c179e"
             ],
             [
              0.4444444444444444,
              "#bd3786"
             ],
             [
              0.5555555555555556,
              "#d8576b"
             ],
             [
              0.6666666666666666,
              "#ed7953"
             ],
             [
              0.7777777777777778,
              "#fb9f3a"
             ],
             [
              0.8888888888888888,
              "#fdca26"
             ],
             [
              1,
              "#f0f921"
             ]
            ],
            "type": "contour"
           }
          ],
          "contourcarpet": [
           {
            "colorbar": {
             "outlinewidth": 0,
             "ticks": ""
            },
            "type": "contourcarpet"
           }
          ],
          "heatmap": [
           {
            "colorbar": {
             "outlinewidth": 0,
             "ticks": ""
            },
            "colorscale": [
             [
              0,
              "#0d0887"
             ],
             [
              0.1111111111111111,
              "#46039f"
             ],
             [
              0.2222222222222222,
              "#7201a8"
             ],
             [
              0.3333333333333333,
              "#9c179e"
             ],
             [
              0.4444444444444444,
              "#bd3786"
             ],
             [
              0.5555555555555556,
              "#d8576b"
             ],
             [
              0.6666666666666666,
              "#ed7953"
             ],
             [
              0.7777777777777778,
              "#fb9f3a"
             ],
             [
              0.8888888888888888,
              "#fdca26"
             ],
             [
              1,
              "#f0f921"
             ]
            ],
            "type": "heatmap"
           }
          ],
          "histogram": [
           {
            "marker": {
             "pattern": {
              "fillmode": "overlay",
              "size": 10,
              "solidity": 0.2
             }
            },
            "type": "histogram"
           }
          ],
          "histogram2d": [
           {
            "colorbar": {
             "outlinewidth": 0,
             "ticks": ""
            },
            "colorscale": [
             [
              0,
              "#0d0887"
             ],
             [
              0.1111111111111111,
              "#46039f"
             ],
             [
              0.2222222222222222,
              "#7201a8"
             ],
             [
              0.3333333333333333,
              "#9c179e"
             ],
             [
              0.4444444444444444,
              "#bd3786"
             ],
             [
              0.5555555555555556,
              "#d8576b"
             ],
             [
              0.6666666666666666,
              "#ed7953"
             ],
             [
              0.7777777777777778,
              "#fb9f3a"
             ],
             [
              0.8888888888888888,
              "#fdca26"
             ],
             [
              1,
              "#f0f921"
             ]
            ],
            "type": "histogram2d"
           }
          ],
          "histogram2dcontour": [
           {
            "colorbar": {
             "outlinewidth": 0,
             "ticks": ""
            },
            "colorscale": [
             [
              0,
              "#0d0887"
             ],
             [
              0.1111111111111111,
              "#46039f"
             ],
             [
              0.2222222222222222,
              "#7201a8"
             ],
             [
              0.3333333333333333,
              "#9c179e"
             ],
             [
              0.4444444444444444,
              "#bd3786"
             ],
             [
              0.5555555555555556,
              "#d8576b"
             ],
             [
              0.6666666666666666,
              "#ed7953"
             ],
             [
              0.7777777777777778,
              "#fb9f3a"
             ],
             [
              0.8888888888888888,
              "#fdca26"
             ],
             [
              1,
              "#f0f921"
             ]
            ],
            "type": "histogram2dcontour"
           }
          ],
          "mesh3d": [
           {
            "colorbar": {
             "outlinewidth": 0,
             "ticks": ""
            },
            "type": "mesh3d"
           }
          ],
          "parcoords": [
           {
            "line": {
             "colorbar": {
              "outlinewidth": 0,
              "ticks": ""
             }
            },
            "type": "parcoords"
           }
          ],
          "pie": [
           {
            "automargin": true,
            "type": "pie"
           }
          ],
          "scatter": [
           {
            "fillpattern": {
             "fillmode": "overlay",
             "size": 10,
             "solidity": 0.2
            },
            "type": "scatter"
           }
          ],
          "scatter3d": [
           {
            "line": {
             "colorbar": {
              "outlinewidth": 0,
              "ticks": ""
             }
            },
            "marker": {
             "colorbar": {
              "outlinewidth": 0,
              "ticks": ""
             }
            },
            "type": "scatter3d"
           }
          ],
          "scattercarpet": [
           {
            "marker": {
             "colorbar": {
              "outlinewidth": 0,
              "ticks": ""
             }
            },
            "type": "scattercarpet"
           }
          ],
          "scattergeo": [
           {
            "marker": {
             "colorbar": {
              "outlinewidth": 0,
              "ticks": ""
             }
            },
            "type": "scattergeo"
           }
          ],
          "scattergl": [
           {
            "marker": {
             "colorbar": {
              "outlinewidth": 0,
              "ticks": ""
             }
            },
            "type": "scattergl"
           }
          ],
          "scattermap": [
           {
            "marker": {
             "colorbar": {
              "outlinewidth": 0,
              "ticks": ""
             }
            },
            "type": "scattermap"
           }
          ],
          "scattermapbox": [
           {
            "marker": {
             "colorbar": {
              "outlinewidth": 0,
              "ticks": ""
             }
            },
            "type": "scattermapbox"
           }
          ],
          "scatterpolar": [
           {
            "marker": {
             "colorbar": {
              "outlinewidth": 0,
              "ticks": ""
             }
            },
            "type": "scatterpolar"
           }
          ],
          "scatterpolargl": [
           {
            "marker": {
             "colorbar": {
              "outlinewidth": 0,
              "ticks": ""
             }
            },
            "type": "scatterpolargl"
           }
          ],
          "scatterternary": [
           {
            "marker": {
             "colorbar": {
              "outlinewidth": 0,
              "ticks": ""
             }
            },
            "type": "scatterternary"
           }
          ],
          "surface": [
           {
            "colorbar": {
             "outlinewidth": 0,
             "ticks": ""
            },
            "colorscale": [
             [
              0,
              "#0d0887"
             ],
             [
              0.1111111111111111,
              "#46039f"
             ],
             [
              0.2222222222222222,
              "#7201a8"
             ],
             [
              0.3333333333333333,
              "#9c179e"
             ],
             [
              0.4444444444444444,
              "#bd3786"
             ],
             [
              0.5555555555555556,
              "#d8576b"
             ],
             [
              0.6666666666666666,
              "#ed7953"
             ],
             [
              0.7777777777777778,
              "#fb9f3a"
             ],
             [
              0.8888888888888888,
              "#fdca26"
             ],
             [
              1,
              "#f0f921"
             ]
            ],
            "type": "surface"
           }
          ],
          "table": [
           {
            "cells": {
             "fill": {
              "color": "#EBF0F8"
             },
             "line": {
              "color": "white"
             }
            },
            "header": {
             "fill": {
              "color": "#C8D4E3"
             },
             "line": {
              "color": "white"
             }
            },
            "type": "table"
           }
          ]
         },
         "layout": {
          "annotationdefaults": {
           "arrowcolor": "#2a3f5f",
           "arrowhead": 0,
           "arrowwidth": 1
          },
          "autotypenumbers": "strict",
          "coloraxis": {
           "colorbar": {
            "outlinewidth": 0,
            "ticks": ""
           }
          },
          "colorscale": {
           "diverging": [
            [
             0,
             "#8e0152"
            ],
            [
             0.1,
             "#c51b7d"
            ],
            [
             0.2,
             "#de77ae"
            ],
            [
             0.3,
             "#f1b6da"
            ],
            [
             0.4,
             "#fde0ef"
            ],
            [
             0.5,
             "#f7f7f7"
            ],
            [
             0.6,
             "#e6f5d0"
            ],
            [
             0.7,
             "#b8e186"
            ],
            [
             0.8,
             "#7fbc41"
            ],
            [
             0.9,
             "#4d9221"
            ],
            [
             1,
             "#276419"
            ]
           ],
           "sequential": [
            [
             0,
             "#0d0887"
            ],
            [
             0.1111111111111111,
             "#46039f"
            ],
            [
             0.2222222222222222,
             "#7201a8"
            ],
            [
             0.3333333333333333,
             "#9c179e"
            ],
            [
             0.4444444444444444,
             "#bd3786"
            ],
            [
             0.5555555555555556,
             "#d8576b"
            ],
            [
             0.6666666666666666,
             "#ed7953"
            ],
            [
             0.7777777777777778,
             "#fb9f3a"
            ],
            [
             0.8888888888888888,
             "#fdca26"
            ],
            [
             1,
             "#f0f921"
            ]
           ],
           "sequentialminus": [
            [
             0,
             "#0d0887"
            ],
            [
             0.1111111111111111,
             "#46039f"
            ],
            [
             0.2222222222222222,
             "#7201a8"
            ],
            [
             0.3333333333333333,
             "#9c179e"
            ],
            [
             0.4444444444444444,
             "#bd3786"
            ],
            [
             0.5555555555555556,
             "#d8576b"
            ],
            [
             0.6666666666666666,
             "#ed7953"
            ],
            [
             0.7777777777777778,
             "#fb9f3a"
            ],
            [
             0.8888888888888888,
             "#fdca26"
            ],
            [
             1,
             "#f0f921"
            ]
           ]
          },
          "colorway": [
           "#636efa",
           "#EF553B",
           "#00cc96",
           "#ab63fa",
           "#FFA15A",
           "#19d3f3",
           "#FF6692",
           "#B6E880",
           "#FF97FF",
           "#FECB52"
          ],
          "font": {
           "color": "#2a3f5f"
          },
          "geo": {
           "bgcolor": "white",
           "lakecolor": "white",
           "landcolor": "#E5ECF6",
           "showlakes": true,
           "showland": true,
           "subunitcolor": "white"
          },
          "hoverlabel": {
           "align": "left"
          },
          "hovermode": "closest",
          "mapbox": {
           "style": "light"
          },
          "paper_bgcolor": "white",
          "plot_bgcolor": "#E5ECF6",
          "polar": {
           "angularaxis": {
            "gridcolor": "white",
            "linecolor": "white",
            "ticks": ""
           },
           "bgcolor": "#E5ECF6",
           "radialaxis": {
            "gridcolor": "white",
            "linecolor": "white",
            "ticks": ""
           }
          },
          "scene": {
           "xaxis": {
            "backgroundcolor": "#E5ECF6",
            "gridcolor": "white",
            "gridwidth": 2,
            "linecolor": "white",
            "showbackground": true,
            "ticks": "",
            "zerolinecolor": "white"
           },
           "yaxis": {
            "backgroundcolor": "#E5ECF6",
            "gridcolor": "white",
            "gridwidth": 2,
            "linecolor": "white",
            "showbackground": true,
            "ticks": "",
            "zerolinecolor": "white"
           },
           "zaxis": {
            "backgroundcolor": "#E5ECF6",
            "gridcolor": "white",
            "gridwidth": 2,
            "linecolor": "white",
            "showbackground": true,
            "ticks": "",
            "zerolinecolor": "white"
           }
          },
          "shapedefaults": {
           "line": {
            "color": "#2a3f5f"
           }
          },
          "ternary": {
           "aaxis": {
            "gridcolor": "white",
            "linecolor": "white",
            "ticks": ""
           },
           "baxis": {
            "gridcolor": "white",
            "linecolor": "white",
            "ticks": ""
           },
           "bgcolor": "#E5ECF6",
           "caxis": {
            "gridcolor": "white",
            "linecolor": "white",
            "ticks": ""
           }
          },
          "title": {
           "x": 0.05
          },
          "xaxis": {
           "automargin": true,
           "gridcolor": "white",
           "linecolor": "white",
           "ticks": "",
           "title": {
            "standoff": 15
           },
           "zerolinecolor": "white",
           "zerolinewidth": 2
          },
          "yaxis": {
           "automargin": true,
           "gridcolor": "white",
           "linecolor": "white",
           "ticks": "",
           "title": {
            "standoff": 15
           },
           "zerolinecolor": "white",
           "zerolinewidth": 2
          }
         }
        },
        "title": {
         "text": "Relation entre le débit et la hauteur d'eau"
        },
        "xaxis": {
         "anchor": "y",
         "domain": [
          0,
          1
         ],
         "title": {
          "text": "Débit (m³/s)"
         }
        },
        "yaxis": {
         "anchor": "x",
         "domain": [
          0,
          1
         ],
         "title": {
          "text": "Hauteur d'eau (m)"
         }
        }
       }
      }
     },
     "metadata": {},
     "output_type": "display_data"
    },
    {
     "data": {
      "application/vnd.plotly.v1+json": {
       "config": {
        "plotlyServerURL": "https://plot.ly"
       },
       "data": [
        {
         "hovertemplate": "Débit (m³/s)=%{x}<br>Surverse (m)=%{y}<extra></extra>",
         "legendgroup": "",
         "marker": {
          "color": "#636efa",
          "symbol": "circle"
         },
         "mode": "markers",
         "name": "",
         "orientation": "v",
         "showlegend": false,
         "type": "scatter",
         "x": {
          "bdata": "YKRry5uhk0DixBM0K8KZQAUW7qltE5lAFEFKyYRSdUAD4ioO2vKRQK/SzAYsIotAKXLq7oXvkUDiT9jg3S2TQJ9O2lGsGp9AWjZlPAWck0DsANAlV1iVQOFYnvkkL5FANlZOkOWznEArkP8E9uh1QDtinEwY8ZBA1Wc7P0sOnkB9SK2lV1WKQN7SoY0vraRAdz87tnR+k0Dio43RuuGiQOjSHU9x3pVAVx26++08oEBUL0waoGKWQPSQp/PSqYxAINf1Rpnnl0CZrHIo6RSjQAac6RXtzaBAZ+qKcKvVnUBzUag1o7KDQDOy89/8BaNAwhtbe3UAnkDlL+G416CXQI/Kv3/2hJVAAWy56PkEqkDnwg1I4AedQAlA0mF7PZVA2docI/tRhkBmP6vmHeCXQKRRhcJFK5BA5H8AAxAHkED0JGUdo52RQBh0KVoSvJxA8SIhXx8tgkDWclbDba+TQIK33NOBypRAK32WTJEMlECvLY9OZA+VQLDpoGGIYZBAG3kfqAcRlUCAYaVaSel3QE6dlX9O15dA0q7R24eriED4dJBZ/FWJQImIqoj4xZBA8zGDBFgkjkBLdmCoEleDQEve/t6CQqpAIm3QryVagECXE8TWz9J+QG8CaZcgfXpADXZO3m2Cn0BAFkMTB5meQKtroXPF76hAWkpsIbRRmEDqOuKU7EWSQH125ikvmpdA2KVLho+tl0Adqebo8nWjQOe8onYDhYtAhdn3nglsikBrguZ3PsOKQG6E7NlSMJBAE9sf25OYnECDPzsKELqVQMwj4lZL15RAJ2qQ5Xmfl0AxN3HIx/+bQDY0GKLh+GBAWnqsXwzUi0AqTguw2dqDQEw6HEej6IZAEtDxUdOvh0Bm3Ifyvl6VQGhNBUDsOI1AmxtLF6dSkkBzeS4T1RiBQMNQbitU6oRAoFu5/umsdEDqsojJrldsQAUYF1/h059AcPJNCSgvqUDDdn+s+9SXQOcQ96rt8IdAY9ilhAqbmEBQh9XCFbScQMpO8R6Ac5lALpzlkMEylkBvemXq3zehQAhy15Fb4o1Aj0qpTk5VjkC8t3bI3puVQIvcY+/j5oBAgp/6FBv2hUD8/flGwFSgQAn+PsZZ/4hA4/X4jlBXhEBwabPSQAOSQBzjHctT/YVA7GmDBc2qm0DjE9ESq2OWQFG4D6S7xm1APIhz3eCbXkApn7gPqmiUQA7LUsgq5oZAsanvLgrFiEDAD5zIUbyKQG2X/nERu51AXVW8aTzpmEDTSGf3bSGHQEP9WOTCyKdANIaYQ4+fkUB9xHwBNlGAQALCOkegEoRA",
          "dtype": "f8"
         },
         "xaxis": "x",
         "y": {
          "bdata": "qJlAwBN3IsAkI7aJKpohwKg6RVqlsSHAvNHp7zgcJcDYi3g8Z7giwABcH7M6byPA1Aos2eq4IsBQxcDwZogiwKj61hEz6iDA9F7b8Oh3IsAIpxh5zjYiwFCb4pbj1iLAmOG74p03IcDQWwib1RIlwHCLC9Sq4CLAFMiGyrALIcCUY+dMBoEjwHjPTa1dbx/AKL2cbVJ8IsBAP5ioJh8gwBi6NvOTIyLA6In/mwy/IMDkywPVzRAiwDi+m+/GTSPAZImt1onaIcDsFtKmbxMgwIDnjv72myDAPCWQ69ASIcDwelHPBB4kwNj1u8bYFiDAMKXp+20NIcD000D4TeQhwMThATJjMCLAILckNUYuHcC8Z+qH5CwhwHDNPSiuOiLA5CuxEcXdI8BUvhWpkdshwMBqOds4ACPALDpVDxAGI8BE0NS3nMUiwKSDFxeSNiHABKF0Zt5EJMBwefPoBHUiwLATOapZSyLA2O7/TjVnIsBE5tCAWEEiwJRsFRGC9yLA+GUiwhtBIsAAmfARmPMkwIBNo3vI3CHAzIj54rmmI8AgknT5g5cjwBgYywJ/5yLA3MOHdB4uI8Bgnj9KCickwKgIRyh9FR3ADAoKhTR1JMD0dhkm944kwOgQHynczCTAzNYIhl/dIMCgdCoWUvogwOhkQ18Vnx3AqFrdPPrLIcC4dbPTnqsiwMhgwtc55SHASJo1uoviIcCYPNXEt/ofwIx0TJ63ZiPANLsb1gp/I8D4BEE1c3cjwPjqvbJo/yLABFCFrB07IcAwo+CmxigiwPSERjx9SSLAaGGNXn7kIcBAPlq5yE4hwPBZUlegDibAlASI/PFfI8C84onaExokwMwJqmbGzyPAcLKxq329I8AoxDJB4jUiwNg9oNO7QSPAoKgze6upIsAYCV8qOGEkwIC5lAnK/yPAkGm/Vq0mJcB0wiFUUJglwGD5Q61Z0yDA0O6IYx6FHcDoXrB8Gt0hwIC7sTKRtyPAdJE/o/jBIcAEF4q3lzchwPhnUKC0pCHAIFoKK5UXIsBAiwuKoIIgwDBMUaOXMyPAWOCH3REqI8BENAusGS0iwKDQf2lrZiTABDcHc2DmI8DkYOqEQLkgwHjGiOY5nyPA6PJlCvUNJMC4IZNI37UiwFQgyr2y5SPAfN0Rl8tZIcAQF3cXqBAiwNgOQXHjiiXAaBuNVGMiJsDcBKFpplkiwDRgDtsA0CPAwEcxgHCkI8Boz1AtDXgjwFgi8L4rFiHAEJ9eelq3IcDMHKxzicojwADJYDZQGR7AhM+fJlDFIsA4s9KNJnYkwNyzx6+hFCTA",
          "dtype": "f8"
         },
         "yaxis": "y"
        }
       ],
       "layout": {
        "legend": {
         "tracegroupgap": 0
        },
        "template": {
         "data": {
          "bar": [
           {
            "error_x": {
             "color": "#2a3f5f"
            },
            "error_y": {
             "color": "#2a3f5f"
            },
            "marker": {
             "line": {
              "color": "#E5ECF6",
              "width": 0.5
             },
             "pattern": {
              "fillmode": "overlay",
              "size": 10,
              "solidity": 0.2
             }
            },
            "type": "bar"
           }
          ],
          "barpolar": [
           {
            "marker": {
             "line": {
              "color": "#E5ECF6",
              "width": 0.5
             },
             "pattern": {
              "fillmode": "overlay",
              "size": 10,
              "solidity": 0.2
             }
            },
            "type": "barpolar"
           }
          ],
          "carpet": [
           {
            "aaxis": {
             "endlinecolor": "#2a3f5f",
             "gridcolor": "white",
             "linecolor": "white",
             "minorgridcolor": "white",
             "startlinecolor": "#2a3f5f"
            },
            "baxis": {
             "endlinecolor": "#2a3f5f",
             "gridcolor": "white",
             "linecolor": "white",
             "minorgridcolor": "white",
             "startlinecolor": "#2a3f5f"
            },
            "type": "carpet"
           }
          ],
          "choropleth": [
           {
            "colorbar": {
             "outlinewidth": 0,
             "ticks": ""
            },
            "type": "choropleth"
           }
          ],
          "contour": [
           {
            "colorbar": {
             "outlinewidth": 0,
             "ticks": ""
            },
            "colorscale": [
             [
              0,
              "#0d0887"
             ],
             [
              0.1111111111111111,
              "#46039f"
             ],
             [
              0.2222222222222222,
              "#7201a8"
             ],
             [
              0.3333333333333333,
              "#9c179e"
             ],
             [
              0.4444444444444444,
              "#bd3786"
             ],
             [
              0.5555555555555556,
              "#d8576b"
             ],
             [
              0.6666666666666666,
              "#ed7953"
             ],
             [
              0.7777777777777778,
              "#fb9f3a"
             ],
             [
              0.8888888888888888,
              "#fdca26"
             ],
             [
              1,
              "#f0f921"
             ]
            ],
            "type": "contour"
           }
          ],
          "contourcarpet": [
           {
            "colorbar": {
             "outlinewidth": 0,
             "ticks": ""
            },
            "type": "contourcarpet"
           }
          ],
          "heatmap": [
           {
            "colorbar": {
             "outlinewidth": 0,
             "ticks": ""
            },
            "colorscale": [
             [
              0,
              "#0d0887"
             ],
             [
              0.1111111111111111,
              "#46039f"
             ],
             [
              0.2222222222222222,
              "#7201a8"
             ],
             [
              0.3333333333333333,
              "#9c179e"
             ],
             [
              0.4444444444444444,
              "#bd3786"
             ],
             [
              0.5555555555555556,
              "#d8576b"
             ],
             [
              0.6666666666666666,
              "#ed7953"
             ],
             [
              0.7777777777777778,
              "#fb9f3a"
             ],
             [
              0.8888888888888888,
              "#fdca26"
             ],
             [
              1,
              "#f0f921"
             ]
            ],
            "type": "heatmap"
           }
          ],
          "histogram": [
           {
            "marker": {
             "pattern": {
              "fillmode": "overlay",
              "size": 10,
              "solidity": 0.2
             }
            },
            "type": "histogram"
           }
          ],
          "histogram2d": [
           {
            "colorbar": {
             "outlinewidth": 0,
             "ticks": ""
            },
            "colorscale": [
             [
              0,
              "#0d0887"
             ],
             [
              0.1111111111111111,
              "#46039f"
             ],
             [
              0.2222222222222222,
              "#7201a8"
             ],
             [
              0.3333333333333333,
              "#9c179e"
             ],
             [
              0.4444444444444444,
              "#bd3786"
             ],
             [
              0.5555555555555556,
              "#d8576b"
             ],
             [
              0.6666666666666666,
              "#ed7953"
             ],
             [
              0.7777777777777778,
              "#fb9f3a"
             ],
             [
              0.8888888888888888,
              "#fdca26"
             ],
             [
              1,
              "#f0f921"
             ]
            ],
            "type": "histogram2d"
           }
          ],
          "histogram2dcontour": [
           {
            "colorbar": {
             "outlinewidth": 0,
             "ticks": ""
            },
            "colorscale": [
             [
              0,
              "#0d0887"
             ],
             [
              0.1111111111111111,
              "#46039f"
             ],
             [
              0.2222222222222222,
              "#7201a8"
             ],
             [
              0.3333333333333333,
              "#9c179e"
             ],
             [
              0.4444444444444444,
              "#bd3786"
             ],
             [
              0.5555555555555556,
              "#d8576b"
             ],
             [
              0.6666666666666666,
              "#ed7953"
             ],
             [
              0.7777777777777778,
              "#fb9f3a"
             ],
             [
              0.8888888888888888,
              "#fdca26"
             ],
             [
              1,
              "#f0f921"
             ]
            ],
            "type": "histogram2dcontour"
           }
          ],
          "mesh3d": [
           {
            "colorbar": {
             "outlinewidth": 0,
             "ticks": ""
            },
            "type": "mesh3d"
           }
          ],
          "parcoords": [
           {
            "line": {
             "colorbar": {
              "outlinewidth": 0,
              "ticks": ""
             }
            },
            "type": "parcoords"
           }
          ],
          "pie": [
           {
            "automargin": true,
            "type": "pie"
           }
          ],
          "scatter": [
           {
            "fillpattern": {
             "fillmode": "overlay",
             "size": 10,
             "solidity": 0.2
            },
            "type": "scatter"
           }
          ],
          "scatter3d": [
           {
            "line": {
             "colorbar": {
              "outlinewidth": 0,
              "ticks": ""
             }
            },
            "marker": {
             "colorbar": {
              "outlinewidth": 0,
              "ticks": ""
             }
            },
            "type": "scatter3d"
           }
          ],
          "scattercarpet": [
           {
            "marker": {
             "colorbar": {
              "outlinewidth": 0,
              "ticks": ""
             }
            },
            "type": "scattercarpet"
           }
          ],
          "scattergeo": [
           {
            "marker": {
             "colorbar": {
              "outlinewidth": 0,
              "ticks": ""
             }
            },
            "type": "scattergeo"
           }
          ],
          "scattergl": [
           {
            "marker": {
             "colorbar": {
              "outlinewidth": 0,
              "ticks": ""
             }
            },
            "type": "scattergl"
           }
          ],
          "scattermap": [
           {
            "marker": {
             "colorbar": {
              "outlinewidth": 0,
              "ticks": ""
             }
            },
            "type": "scattermap"
           }
          ],
          "scattermapbox": [
           {
            "marker": {
             "colorbar": {
              "outlinewidth": 0,
              "ticks": ""
             }
            },
            "type": "scattermapbox"
           }
          ],
          "scatterpolar": [
           {
            "marker": {
             "colorbar": {
              "outlinewidth": 0,
              "ticks": ""
             }
            },
            "type": "scatterpolar"
           }
          ],
          "scatterpolargl": [
           {
            "marker": {
             "colorbar": {
              "outlinewidth": 0,
              "ticks": ""
             }
            },
            "type": "scatterpolargl"
           }
          ],
          "scatterternary": [
           {
            "marker": {
             "colorbar": {
              "outlinewidth": 0,
              "ticks": ""
             }
            },
            "type": "scatterternary"
           }
          ],
          "surface": [
           {
            "colorbar": {
             "outlinewidth": 0,
             "ticks": ""
            },
            "colorscale": [
             [
              0,
              "#0d0887"
             ],
             [
              0.1111111111111111,
              "#46039f"
             ],
             [
              0.2222222222222222,
              "#7201a8"
             ],
             [
              0.3333333333333333,
              "#9c179e"
             ],
             [
              0.4444444444444444,
              "#bd3786"
             ],
             [
              0.5555555555555556,
              "#d8576b"
             ],
             [
              0.6666666666666666,
              "#ed7953"
             ],
             [
              0.7777777777777778,
              "#fb9f3a"
             ],
             [
              0.8888888888888888,
              "#fdca26"
             ],
             [
              1,
              "#f0f921"
             ]
            ],
            "type": "surface"
           }
          ],
          "table": [
           {
            "cells": {
             "fill": {
              "color": "#EBF0F8"
             },
             "line": {
              "color": "white"
             }
            },
            "header": {
             "fill": {
              "color": "#C8D4E3"
             },
             "line": {
              "color": "white"
             }
            },
            "type": "table"
           }
          ]
         },
         "layout": {
          "annotationdefaults": {
           "arrowcolor": "#2a3f5f",
           "arrowhead": 0,
           "arrowwidth": 1
          },
          "autotypenumbers": "strict",
          "coloraxis": {
           "colorbar": {
            "outlinewidth": 0,
            "ticks": ""
           }
          },
          "colorscale": {
           "diverging": [
            [
             0,
             "#8e0152"
            ],
            [
             0.1,
             "#c51b7d"
            ],
            [
             0.2,
             "#de77ae"
            ],
            [
             0.3,
             "#f1b6da"
            ],
            [
             0.4,
             "#fde0ef"
            ],
            [
             0.5,
             "#f7f7f7"
            ],
            [
             0.6,
             "#e6f5d0"
            ],
            [
             0.7,
             "#b8e186"
            ],
            [
             0.8,
             "#7fbc41"
            ],
            [
             0.9,
             "#4d9221"
            ],
            [
             1,
             "#276419"
            ]
           ],
           "sequential": [
            [
             0,
             "#0d0887"
            ],
            [
             0.1111111111111111,
             "#46039f"
            ],
            [
             0.2222222222222222,
             "#7201a8"
            ],
            [
             0.3333333333333333,
             "#9c179e"
            ],
            [
             0.4444444444444444,
             "#bd3786"
            ],
            [
             0.5555555555555556,
             "#d8576b"
            ],
            [
             0.6666666666666666,
             "#ed7953"
            ],
            [
             0.7777777777777778,
             "#fb9f3a"
            ],
            [
             0.8888888888888888,
             "#fdca26"
            ],
            [
             1,
             "#f0f921"
            ]
           ],
           "sequentialminus": [
            [
             0,
             "#0d0887"
            ],
            [
             0.1111111111111111,
             "#46039f"
            ],
            [
             0.2222222222222222,
             "#7201a8"
            ],
            [
             0.3333333333333333,
             "#9c179e"
            ],
            [
             0.4444444444444444,
             "#bd3786"
            ],
            [
             0.5555555555555556,
             "#d8576b"
            ],
            [
             0.6666666666666666,
             "#ed7953"
            ],
            [
             0.7777777777777778,
             "#fb9f3a"
            ],
            [
             0.8888888888888888,
             "#fdca26"
            ],
            [
             1,
             "#f0f921"
            ]
           ]
          },
          "colorway": [
           "#636efa",
           "#EF553B",
           "#00cc96",
           "#ab63fa",
           "#FFA15A",
           "#19d3f3",
           "#FF6692",
           "#B6E880",
           "#FF97FF",
           "#FECB52"
          ],
          "font": {
           "color": "#2a3f5f"
          },
          "geo": {
           "bgcolor": "white",
           "lakecolor": "white",
           "landcolor": "#E5ECF6",
           "showlakes": true,
           "showland": true,
           "subunitcolor": "white"
          },
          "hoverlabel": {
           "align": "left"
          },
          "hovermode": "closest",
          "mapbox": {
           "style": "light"
          },
          "paper_bgcolor": "white",
          "plot_bgcolor": "#E5ECF6",
          "polar": {
           "angularaxis": {
            "gridcolor": "white",
            "linecolor": "white",
            "ticks": ""
           },
           "bgcolor": "#E5ECF6",
           "radialaxis": {
            "gridcolor": "white",
            "linecolor": "white",
            "ticks": ""
           }
          },
          "scene": {
           "xaxis": {
            "backgroundcolor": "#E5ECF6",
            "gridcolor": "white",
            "gridwidth": 2,
            "linecolor": "white",
            "showbackground": true,
            "ticks": "",
            "zerolinecolor": "white"
           },
           "yaxis": {
            "backgroundcolor": "#E5ECF6",
            "gridcolor": "white",
            "gridwidth": 2,
            "linecolor": "white",
            "showbackground": true,
            "ticks": "",
            "zerolinecolor": "white"
           },
           "zaxis": {
            "backgroundcolor": "#E5ECF6",
            "gridcolor": "white",
            "gridwidth": 2,
            "linecolor": "white",
            "showbackground": true,
            "ticks": "",
            "zerolinecolor": "white"
           }
          },
          "shapedefaults": {
           "line": {
            "color": "#2a3f5f"
           }
          },
          "ternary": {
           "aaxis": {
            "gridcolor": "white",
            "linecolor": "white",
            "ticks": ""
           },
           "baxis": {
            "gridcolor": "white",
            "linecolor": "white",
            "ticks": ""
           },
           "bgcolor": "#E5ECF6",
           "caxis": {
            "gridcolor": "white",
            "linecolor": "white",
            "ticks": ""
           }
          },
          "title": {
           "x": 0.05
          },
          "xaxis": {
           "automargin": true,
           "gridcolor": "white",
           "linecolor": "white",
           "ticks": "",
           "title": {
            "standoff": 15
           },
           "zerolinecolor": "white",
           "zerolinewidth": 2
          },
          "yaxis": {
           "automargin": true,
           "gridcolor": "white",
           "linecolor": "white",
           "ticks": "",
           "title": {
            "standoff": 15
           },
           "zerolinecolor": "white",
           "zerolinewidth": 2
          }
         }
        },
        "title": {
         "text": "Relation entre le débit et la surverse"
        },
        "xaxis": {
         "anchor": "y",
         "domain": [
          0,
          1
         ],
         "title": {
          "text": "Débit (m³/s)"
         }
        },
        "yaxis": {
         "anchor": "x",
         "domain": [
          0,
          1
         ],
         "title": {
          "text": "Surverse (m)"
         }
        }
       }
      }
     },
     "metadata": {},
     "output_type": "display_data"
    }
   ],
   "source": [
    "fig_H = px.scatter(df, x=\"Debit\", y=\"H_calculé\", title=\"Relation entre le débit et la hauteur d'eau\",\n",
    "                   labels={\"Debit\": \"Débit (m³/s)\", \"H_calculé\": \"Hauteur d'eau (m)\"})\n",
    "fig_H.show()\n",
    "\n",
    "fig_S = px.scatter(df, x=\"Debit\", y=\"S_calculé\", title=\"Relation entre le débit et la surverse\",\n",
    "                   labels={\"Debit\": \"Débit (m³/s)\", \"S_calculé\": \"Surverse (m)\"})\n",
    "fig_S.show()"
   ]
  },
  {
   "cell_type": "markdown",
   "metadata": {},
   "source": [
    "> \tLa surverse  S  est toujours négative, ce qui signifie que l’eau ne dépasse jamais la digue"
   ]
  },
  {
   "cell_type": "markdown",
   "metadata": {},
   "source": [
    "💡 Les résultats montrent que la digue est bien dimensionnée pour les crues observées dans les données historiques. Toutefois, une analyse économique est nécessaire pour voir si cette hauteur de digue est optimale en termes de coûts de construction et de maintenance."
   ]
  }
 ],
 "metadata": {
  "kernelspec": {
   "display_name": "venv",
   "language": "python",
   "name": "python3"
  },
  "language_info": {
   "codemirror_mode": {
    "name": "ipython",
    "version": 3
   },
   "file_extension": ".py",
   "mimetype": "text/x-python",
   "name": "python",
   "nbconvert_exporter": "python",
   "pygments_lexer": "ipython3",
   "version": "3.13.1"
  }
 },
 "nbformat": 4,
 "nbformat_minor": 2
}
