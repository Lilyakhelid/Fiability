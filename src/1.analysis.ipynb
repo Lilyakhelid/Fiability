{
 "cells": [
  {
   "cell_type": "markdown",
   "metadata": {},
   "source": [
    "# 📊 Analyse des données\n",
    "\n",
    "## 📌 Introduction\n",
    "Ce notebook a pour objectif d'analyser les données afin d'en extraire des insights pertinents.\n"
   ]
  },
  {
   "cell_type": "markdown",
   "metadata": {},
   "source": [
    "### 📂 Importation des données & librairies"
   ]
  },
  {
   "cell_type": "code",
   "execution_count": 18,
   "metadata": {},
   "outputs": [],
   "source": [
    "from utils import *\n",
    "import numpy as np\n",
    "import scipy.stats as stats\n",
    "import pandas as pd\n",
    "import matplotlib.pyplot as plt\n",
    "import seaborn as sns\n",
    "#pour voir les visus, faire tourner les notebooks en local"
   ]
  },
  {
   "cell_type": "code",
   "execution_count": 19,
   "metadata": {},
   "outputs": [],
   "source": [
    "df = load_cleaned_data()"
   ]
  },
  {
   "cell_type": "markdown",
   "metadata": {},
   "source": [
    "## 📊 Visualisation des données"
   ]
  },
  {
   "cell_type": "markdown",
   "metadata": {},
   "source": [
    "### Détermination de la Hauteur Optimale de la Digue\n",
    "\n",
    " 🎯 Objectif : Nous cherchons à déterminer la hauteur optimale de la digue en analysant la distribution des hauteurs de crues.\n",
    "\n",
    " 📌 Méthodologie : Calculer le **percentile 95%** des hauteurs de crues.\n",
    "\n",
    " 💡 Interprétation : Une digue dimensionnée selon le **percentile 95%** couvre 95% des crues historiques. **5% des crues** risquent encore de dépasser cette hauteur, mais cela réduit considérablement les coûts de construction.\n",
    "\n"
   ]
  },
  {
   "cell_type": "code",
   "execution_count": 20,
   "metadata": {},
   "outputs": [
    {
     "name": "stdout",
     "output_type": "stream",
     "text": [
      "norm : Anderson-Darling Stat = 0.29832, seuil critique = 0.76300\n",
      "gumbel_r : Anderson-Darling Stat = 1.07553, seuil critique = 0.74400\n",
      "gumbel_l : Anderson-Darling Stat = 2.12803, seuil critique = 0.74400\n",
      "weibull_min : Anderson-Darling Stat = 0.27587, seuil critique = 0.51400\n",
      "expon : Anderson-Darling Stat = 25.58989, seuil critique = 1.33400\n",
      "logistic : Anderson-Darling Stat = 0.36275, seuil critique = 0.65900\n",
      "\n",
      "✅ Meilleure distribution selon le test d'Anderson-Darling : weibull_min (AD Stat = 0.27587)\n"
     ]
    },
    {
     "data": {
      "application/vnd.plotly.v1+json": {
       "config": {
        "plotlyServerURL": "https://plot.ly"
       },
       "data": [
        {
         "autobinx": false,
         "histnorm": "probability density",
         "legendgroup": "Données",
         "marker": {
          "color": "rgb(31, 119, 180)"
         },
         "name": "Données",
         "opacity": 0.7,
         "type": "histogram",
         "x": {
          "bdata": "AAAAAAAAEEAAAAAAAAASQDMzMzMzMxFAMzMzMzMz+z8zMzMzMzMLQDMzMzMzMwtAZmZmZmZmEEBmZmZmZmYQQDMzMzMzMxVAZmZmZmZmEEAzMzMzMzMPQGZmZmZmZg5AmpmZmZmZFUAzMzMzMzP7P5qZmZmZmQ1AmpmZmZmZE0BmZmZmZmYKQDMzMzMzMxlAAAAAAAAAEEAAAAAAAAAWQAAAAAAAABBAMzMzMzMzF0BmZmZmZmYQQDMzMzMzMwtAzczMzMzMEkDNzMzMzMwYQM3MzMzMzBZAzczMzMzMFEDNzMzMzMwEQGZmZmZmZhZAAAAAAAAAFkAzMzMzMzMTQDMzMzMzMw9AzczMzMzMGkAzMzMzMzMVQM3MzMzMzBBAzczMzMzMBEDNzMzMzMwQQGZmZmZmZgpAZmZmZmZmDkAAAAAAAAAMQM3MzMzMzBJAAAAAAAAABEAzMzMzMzMRQGZmZmZmZhBAMzMzMzMzD0BmZmZmZmYQQM3MzMzMzAxAZmZmZmZmEEDNzMzMzMwAQGZmZmZmZhBAZmZmZmZmCkDNzMzMzMwIQM3MzMzMzAxAmpmZmZmZCUAAAAAAAAAEQM3MzMzMzBpAAAAAAAAABEBmZmZmZmYCQM3MzMzMzABAzczMzMzMEkBmZmZmZmYUQJqZmZmZmRlAmpmZmZmZE0AzMzMzMzMLQDMzMzMzMxNAmpmZmZmZEUBmZmZmZmYWQDMzMzMzMwdAZmZmZmZmCkCamZmZmZkJQJqZmZmZmQ1AMzMzMzMzFUAAAAAAAAASQAAAAAAAABBAMzMzMzMzE0BmZmZmZmYSQAAAAAAAAPA/zczMzMzMCEAzMzMzMzMDQGZmZmZmZgZAmpmZmZmZBUAAAAAAAAASQJqZmZmZmQlAmpmZmZmZDUAAAAAAAAAEQM3MzMzMzARAzczMzMzM/D9mZmZmZmb2P5qZmZmZmRVAZmZmZmZmGkAAAAAAAAAQQJqZmZmZmQVAmpmZmZmZE0AzMzMzMzMVQGZmZmZmZhRAZmZmZmZmDkCamZmZmZkXQM3MzMzMzAhAMzMzMzMzC0BmZmZmZmYQQAAAAAAAAARAAAAAAAAABEAzMzMzMzMTQM3MzMzMzAhAMzMzMzMzA0AzMzMzMzMPQAAAAAAAAARAAAAAAAAAEkDNzMzMzMwQQAAAAAAAAPg/AAAAAAAA8D8AAAAAAAAQQM3MzMzMzAhAAAAAAAAACEAAAAAAAAAIQGZmZmZmZhRAAAAAAAAAEkDNzMzMzMwIQM3MzMzMzBxAAAAAAAAADEAAAAAAAAAEQAAAAAAAAARA",
          "dtype": "f8"
         },
         "xaxis": "x",
         "xbins": {
          "end": 7.2,
          "size": 1,
          "start": 1
         },
         "yaxis": "y"
        },
        {
         "legendgroup": "Données",
         "marker": {
          "color": "rgb(31, 119, 180)"
         },
         "mode": "lines",
         "name": "Données",
         "showlegend": false,
         "type": "scatter",
         "x": [
          1,
          1.0124,
          1.0248,
          1.0372,
          1.0496,
          1.062,
          1.0744,
          1.0868,
          1.0992,
          1.1116,
          1.124,
          1.1364,
          1.1488,
          1.1612,
          1.1736,
          1.186,
          1.1984,
          1.2108,
          1.2232,
          1.2356,
          1.248,
          1.2604,
          1.2728,
          1.2852000000000001,
          1.2976,
          1.31,
          1.3224,
          1.3348,
          1.3472,
          1.3596,
          1.3719999999999999,
          1.3844,
          1.3968,
          1.4092,
          1.4216,
          1.434,
          1.4464000000000001,
          1.4588,
          1.4712,
          1.4836,
          1.496,
          1.5084,
          1.5208,
          1.5332,
          1.5455999999999999,
          1.558,
          1.5704,
          1.5828000000000002,
          1.5952000000000002,
          1.6076000000000001,
          1.62,
          1.6324,
          1.6448,
          1.6572,
          1.6696,
          1.682,
          1.6944,
          1.7068,
          1.7192,
          1.7316,
          1.744,
          1.7564,
          1.7688000000000001,
          1.7812000000000001,
          1.7936,
          1.806,
          1.8184,
          1.8308,
          1.8432,
          1.8556,
          1.8679999999999999,
          1.8803999999999998,
          1.8928,
          1.9052,
          1.9176,
          1.9300000000000002,
          1.9424000000000001,
          1.9548,
          1.9672,
          1.9796,
          1.992,
          2.0044,
          2.0168,
          2.0292000000000003,
          2.0416,
          2.0540000000000003,
          2.0664,
          2.0788,
          2.0911999999999997,
          2.1036,
          2.116,
          2.1284,
          2.1408,
          2.1532,
          2.1656000000000004,
          2.178,
          2.1904000000000003,
          2.2028,
          2.2152000000000003,
          2.2276000000000002,
          2.24,
          2.2524,
          2.2648,
          2.2772,
          2.2896,
          2.302,
          2.3144,
          2.3268,
          2.3392,
          2.3516000000000004,
          2.364,
          2.3764000000000003,
          2.3888,
          2.4012000000000002,
          2.4136,
          2.426,
          2.4384,
          2.4508,
          2.4632,
          2.4756,
          2.488,
          2.5004,
          2.5128,
          2.5252,
          2.5376000000000003,
          2.55,
          2.5624000000000002,
          2.5747999999999998,
          2.5872,
          2.5996,
          2.612,
          2.6244,
          2.6368,
          2.6492,
          2.6616,
          2.674,
          2.6864,
          2.6988,
          2.7112,
          2.7236000000000002,
          2.7359999999999998,
          2.7484,
          2.7607999999999997,
          2.7732,
          2.7856,
          2.798,
          2.8104,
          2.8228,
          2.8352,
          2.8476,
          2.8600000000000003,
          2.8724,
          2.8848000000000003,
          2.8971999999999998,
          2.9096,
          2.9219999999999997,
          2.9344,
          2.9467999999999996,
          2.9592,
          2.9716000000000005,
          2.984,
          2.9964000000000004,
          3.0088,
          3.0212,
          3.0336000000000003,
          3.046,
          3.0584000000000002,
          3.0708,
          3.0832,
          3.0956,
          3.108,
          3.1204,
          3.1328,
          3.1452000000000004,
          3.1576,
          3.17,
          3.1824,
          3.1948000000000003,
          3.2072000000000003,
          3.2196,
          3.232,
          3.2444,
          3.2568,
          3.2692,
          3.2816,
          3.294,
          3.3064,
          3.3188,
          3.3312000000000004,
          3.3436,
          3.356,
          3.3684000000000003,
          3.3808000000000002,
          3.3932,
          3.4055999999999997,
          3.418,
          3.4304,
          3.4428,
          3.4552000000000005,
          3.4676,
          3.48,
          3.4924,
          3.5048000000000004,
          3.5172000000000003,
          3.5296,
          3.542,
          3.5544000000000002,
          3.5668,
          3.5792,
          3.5916,
          3.604,
          3.6164,
          3.6288,
          3.6412000000000004,
          3.6536,
          3.666,
          3.6784,
          3.6908000000000003,
          3.7032000000000003,
          3.7156,
          3.728,
          3.7404,
          3.7528,
          3.7652,
          3.7776,
          3.79,
          3.8024,
          3.8148,
          3.8272000000000004,
          3.8396,
          3.852,
          3.8644000000000003,
          3.8768000000000002,
          3.8892,
          3.9015999999999997,
          3.914,
          3.9264,
          3.9388,
          3.9512000000000005,
          3.9636,
          3.976,
          3.9884,
          4.0008,
          4.0132,
          4.0256,
          4.038,
          4.0504,
          4.0628,
          4.075200000000001,
          4.0876,
          4.1,
          4.1124,
          4.1248000000000005,
          4.1372,
          4.1495999999999995,
          4.162,
          4.1744,
          4.1868,
          4.1992,
          4.2116,
          4.224,
          4.2364,
          4.2488,
          4.2612000000000005,
          4.2736,
          4.286,
          4.2984,
          4.3108,
          4.3232,
          4.3355999999999995,
          4.348,
          4.3604,
          4.3728,
          4.3852,
          4.3976,
          4.41,
          4.4224,
          4.4348,
          4.4472000000000005,
          4.4596,
          4.4719999999999995,
          4.4844,
          4.4968,
          4.5092,
          4.521599999999999,
          4.534,
          4.5464,
          4.5588,
          4.5712,
          4.583600000000001,
          4.596,
          4.6084,
          4.6208,
          4.6332,
          4.6456,
          4.6579999999999995,
          4.6704,
          4.6828,
          4.6952,
          4.707599999999999,
          4.720000000000001,
          4.7324,
          4.7448,
          4.7572,
          4.7696000000000005,
          4.782,
          4.7943999999999996,
          4.8068,
          4.8192,
          4.8316,
          4.843999999999999,
          4.856400000000001,
          4.8688,
          4.8812,
          4.893599999999999,
          4.906000000000001,
          4.9184,
          4.9308,
          4.943200000000001,
          4.9556000000000004,
          4.968,
          4.9803999999999995,
          4.992800000000001,
          5.0052,
          5.0176,
          5.03,
          5.0424,
          5.0548,
          5.067200000000001,
          5.0796,
          5.092,
          5.104400000000001,
          5.1168000000000005,
          5.1292,
          5.1416,
          5.154,
          5.1664,
          5.1788,
          5.1912,
          5.203600000000001,
          5.216,
          5.228400000000001,
          5.2408,
          5.2532,
          5.2656,
          5.278,
          5.290400000000001,
          5.3028,
          5.3152,
          5.3276,
          5.34,
          5.3524,
          5.3648,
          5.3772,
          5.389600000000001,
          5.402,
          5.4144000000000005,
          5.4268,
          5.4392,
          5.4516,
          5.464,
          5.476400000000001,
          5.4888,
          5.5012,
          5.5136,
          5.526,
          5.5384,
          5.550800000000001,
          5.5632,
          5.5756000000000006,
          5.588,
          5.6004000000000005,
          5.6128,
          5.6251999999999995,
          5.6376,
          5.65,
          5.662400000000001,
          5.6748,
          5.6872,
          5.6996,
          5.712,
          5.7244,
          5.736800000000001,
          5.7492,
          5.7616000000000005,
          5.774,
          5.7864,
          5.7988,
          5.8111999999999995,
          5.823600000000001,
          5.836,
          5.848400000000001,
          5.8608,
          5.8732,
          5.8856,
          5.898,
          5.910400000000001,
          5.9228000000000005,
          5.9352,
          5.9476,
          5.96,
          5.9724,
          5.9848,
          5.997199999999999,
          6.009600000000001,
          6.022,
          6.034400000000001,
          6.0468,
          6.0592,
          6.0716,
          6.084,
          6.096400000000001,
          6.1088000000000005,
          6.1212,
          6.1336,
          6.146,
          6.1584,
          6.1708,
          6.1832,
          6.195600000000001,
          6.208,
          6.220400000000001,
          6.2328,
          6.2452,
          6.2576,
          6.27,
          6.282400000000001,
          6.2948,
          6.3072,
          6.3196,
          6.332,
          6.3444,
          6.3568,
          6.3692,
          6.381600000000001,
          6.394,
          6.4064000000000005,
          6.4188,
          6.4312,
          6.4436,
          6.456,
          6.468400000000001,
          6.4808,
          6.4932,
          6.5056,
          6.518,
          6.5304,
          6.542800000000001,
          6.5552,
          6.5676000000000005,
          6.58,
          6.5924000000000005,
          6.6048,
          6.6171999999999995,
          6.6296,
          6.642,
          6.654400000000001,
          6.6668,
          6.6792,
          6.6916,
          6.704,
          6.7164,
          6.728800000000001,
          6.7412,
          6.7536000000000005,
          6.766,
          6.7784,
          6.7908,
          6.8031999999999995,
          6.815600000000001,
          6.828,
          6.840400000000001,
          6.8528,
          6.8652,
          6.8776,
          6.89,
          6.902400000000001,
          6.9148000000000005,
          6.9272,
          6.9396,
          6.952,
          6.9644,
          6.9768,
          6.989199999999999,
          7.001600000000001,
          7.014,
          7.026400000000001,
          7.0388,
          7.0512,
          7.0636,
          7.076,
          7.088400000000001,
          7.1008000000000004,
          7.1132,
          7.1256,
          7.138,
          7.1504,
          7.1628,
          7.1752,
          7.187600000000001
         ],
         "xaxis": "x",
         "y": {
          "bdata": "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",
          "dtype": "f8"
         },
         "yaxis": "y"
        },
        {
         "legendgroup": "Données",
         "marker": {
          "color": "rgb(31, 119, 180)",
          "symbol": "line-ns-open"
         },
         "mode": "markers",
         "name": "Données",
         "showlegend": false,
         "type": "scatter",
         "x": {
          "bdata": "AAAAAAAAEEAAAAAAAAASQDMzMzMzMxFAMzMzMzMz+z8zMzMzMzMLQDMzMzMzMwtAZmZmZmZmEEBmZmZmZmYQQDMzMzMzMxVAZmZmZmZmEEAzMzMzMzMPQGZmZmZmZg5AmpmZmZmZFUAzMzMzMzP7P5qZmZmZmQ1AmpmZmZmZE0BmZmZmZmYKQDMzMzMzMxlAAAAAAAAAEEAAAAAAAAAWQAAAAAAAABBAMzMzMzMzF0BmZmZmZmYQQDMzMzMzMwtAzczMzMzMEkDNzMzMzMwYQM3MzMzMzBZAzczMzMzMFEDNzMzMzMwEQGZmZmZmZhZAAAAAAAAAFkAzMzMzMzMTQDMzMzMzMw9AzczMzMzMGkAzMzMzMzMVQM3MzMzMzBBAzczMzMzMBEDNzMzMzMwQQGZmZmZmZgpAZmZmZmZmDkAAAAAAAAAMQM3MzMzMzBJAAAAAAAAABEAzMzMzMzMRQGZmZmZmZhBAMzMzMzMzD0BmZmZmZmYQQM3MzMzMzAxAZmZmZmZmEEDNzMzMzMwAQGZmZmZmZhBAZmZmZmZmCkDNzMzMzMwIQM3MzMzMzAxAmpmZmZmZCUAAAAAAAAAEQM3MzMzMzBpAAAAAAAAABEBmZmZmZmYCQM3MzMzMzABAzczMzMzMEkBmZmZmZmYUQJqZmZmZmRlAmpmZmZmZE0AzMzMzMzMLQDMzMzMzMxNAmpmZmZmZEUBmZmZmZmYWQDMzMzMzMwdAZmZmZmZmCkCamZmZmZkJQJqZmZmZmQ1AMzMzMzMzFUAAAAAAAAASQAAAAAAAABBAMzMzMzMzE0BmZmZmZmYSQAAAAAAAAPA/zczMzMzMCEAzMzMzMzMDQGZmZmZmZgZAmpmZmZmZBUAAAAAAAAASQJqZmZmZmQlAmpmZmZmZDUAAAAAAAAAEQM3MzMzMzARAzczMzMzM/D9mZmZmZmb2P5qZmZmZmRVAZmZmZmZmGkAAAAAAAAAQQJqZmZmZmQVAmpmZmZmZE0AzMzMzMzMVQGZmZmZmZhRAZmZmZmZmDkCamZmZmZkXQM3MzMzMzAhAMzMzMzMzC0BmZmZmZmYQQAAAAAAAAARAAAAAAAAABEAzMzMzMzMTQM3MzMzMzAhAMzMzMzMzA0AzMzMzMzMPQAAAAAAAAARAAAAAAAAAEkDNzMzMzMwQQAAAAAAAAPg/AAAAAAAA8D8AAAAAAAAQQM3MzMzMzAhAAAAAAAAACEAAAAAAAAAIQGZmZmZmZhRAAAAAAAAAEkDNzMzMzMwIQM3MzMzMzBxAAAAAAAAADEAAAAAAAAAEQAAAAAAAAARA",
          "dtype": "f8"
         },
         "xaxis": "x",
         "y": [
          "Données",
          "Données",
          "Données",
          "Données",
          "Données",
          "Données",
          "Données",
          "Données",
          "Données",
          "Données",
          "Données",
          "Données",
          "Données",
          "Données",
          "Données",
          "Données",
          "Données",
          "Données",
          "Données",
          "Données",
          "Données",
          "Données",
          "Données",
          "Données",
          "Données",
          "Données",
          "Données",
          "Données",
          "Données",
          "Données",
          "Données",
          "Données",
          "Données",
          "Données",
          "Données",
          "Données",
          "Données",
          "Données",
          "Données",
          "Données",
          "Données",
          "Données",
          "Données",
          "Données",
          "Données",
          "Données",
          "Données",
          "Données",
          "Données",
          "Données",
          "Données",
          "Données",
          "Données",
          "Données",
          "Données",
          "Données",
          "Données",
          "Données",
          "Données",
          "Données",
          "Données",
          "Données",
          "Données",
          "Données",
          "Données",
          "Données",
          "Données",
          "Données",
          "Données",
          "Données",
          "Données",
          "Données",
          "Données",
          "Données",
          "Données",
          "Données",
          "Données",
          "Données",
          "Données",
          "Données",
          "Données",
          "Données",
          "Données",
          "Données",
          "Données",
          "Données",
          "Données",
          "Données",
          "Données",
          "Données",
          "Données",
          "Données",
          "Données",
          "Données",
          "Données",
          "Données",
          "Données",
          "Données",
          "Données",
          "Données",
          "Données",
          "Données",
          "Données",
          "Données",
          "Données",
          "Données",
          "Données",
          "Données",
          "Données",
          "Données",
          "Données",
          "Données",
          "Données",
          "Données",
          "Données",
          "Données",
          "Données",
          "Données",
          "Données",
          "Données",
          "Données",
          "Données",
          "Données"
         ],
         "yaxis": "y2"
        },
        {
         "mode": "lines",
         "name": "norm",
         "type": "scatter",
         "x": {
          "bdata": "AAAAAAAA8D+rm11lhADxP1Y3u8oIAfI/AtMYMI0B8z+tbnaVEQL0P1gK1PqVAvU/A6YxYBoD9j+uQY/FngP3P1rd7CojBPg/BHlKkKcE+T+wFKj1KwX6P1uwBVuwBfs/BkxjwDQG/D+y58AluQb9P1yDHos9B/4/CB988MEH/z9a3ewqIwQAQC+rm11lhABABHlKkKcEAUDaRvnC6YQBQLAUqPUrBQJAhuJWKG6FAkBbsAVbsAUDQDB+tI3yhQNABkxjwDQGBEDcGRLzdoYEQLLnwCW5BgVAh7VvWPuGBUBcgx6LPQcGQDJRzb1/hwZACB988MEHB0De7CojBIgHQLO62VVGCAhAiYiIiIiICEBeVje7yggJQDQk5u0MiQlACfKUIE8JCkDfv0NTkYkKQLWN8oXTCQtAiluhuBWKC0BgKVDrVwoMQDX3/h2aigxAC8WtUNwKDUDhklyDHosNQLZgC7ZgCw5AjC666KKLDkBh/Ggb5QsPQDfKF04njA9ABkxjwDQGEEDxsrrZVUYQQNwZEvN2hhBAxoBpDJjGEECy58AluQYRQJxOGD/aRhFAh7VvWPuGEUByHMdxHMcRQFyDHos9BxJASOp1pF5HEkAyUc29f4cSQB24JNegxxJACB988MEHE0DyhdMJ40cTQN7sKiMEiBNAyFOCPCXIE0CzutlVRggUQJ4hMW9nSBRAiYiIiIiIFEBz79+hqcgUQF5WN7vKCBVASb2O1OtIFUA0JObtDIkVQB+LPQcuyRVACfKUIE8JFkD0WOw5cEkWQN+/Q1ORiRZAyiabbLLJFkC1jfKF0wkXQJ/0SZ/0SRdAiluhuBWKF0B1wvjRNsoXQGApUOtXChhAS5CnBHlKGEA19/4dmooYQCBeVje7yhhAC8WtUNwKGUD2KwVq/UoZQOGSXIMeixlAy/mznD/LGUC2YAu2YAsaQKHHYs+BSxpAjC666KKLGkB3lRECxMsaQGH8aBvlCxtATGPANAZMG0A3yhdOJ4wbQCIxb2dIzBtADJjGgGkMHED3/h2aikwcQOJldbOrjBxAzczMzMzMHEA=",
          "dtype": "f8"
         },
         "y": {
          "bdata": "QqLUUwGjlz8ScpdugW6aP95goIomfJ0/q1Cd+8VnoD9j2uouFjaiP6g9rXSqKqQ/PE2MygtHpj+U7MBgnoyoP7BCxBma/Ko/pe4E1QKYrT8vcsNO0C+wP7HDKez7qbE/PnOtyKA6sz9v4+IDsuG0P2bjUc71nrY/hq4hJAJyuD+tOaPdOVq6P0PLTSjKVrw/p/Fseqhmvj9nS4KJSETAP3o0JguDXcE/7tLKqid+wj8PWbtnPaXDP8FWXfmu0cQ/FZDr1UsCxj9IPsygyTXHP0fsLQHGasg/4OvL38ifyT8Lx9wIR9PKP6izQy2lA8w/6ls0PDsvzT+6PZkMWFTOPz+2w0tFcc8/XWGi0iVC0D9tvSiL28XQP+BI6K7tQtE/lgmUPIy40T9eGZKO7yXSP+b474xaitI/Xr49zBzl0j+ertKQlDXTP3TzRa4we9M/YDBZO3K10z9rAy8T7uPTP5tTah1OBtQ/cfO4V1Ic1D8l+E+c0SXUP53N/CG6ItQ/PHSdsxET1D9a6Q2e9fbTP/6a2VSaztM/ce0+z0qa0z+tSUmgZ1rTP4Ao7c1lD9M/VMAibM250j/fovEBOFrSP/mpNL9O8dE/KuSNish/0T+uhIrvZwbRP+X7VPX4hdA/m0sMzZ3+zz8frVslhObOP97iDyRbxc0/ATIPJ9qczD/ii+F5tW7LPzi5SkiaPMo/OxY00CoIyT8vfTve+tLHP3xIg56MnsY/dQCKyU1sxT/imeoylT3EP4BJ+72gE8M/qJlbupPvwT8StKyoddLAP5W348tier8/7er1dClhvT/ZGY2PoFq7P4QGA5/vZ7k//xxpmQWKtz+LPZuumsG1P/KtDJMyD7Q/1gFiPB9zsj8V3GL9g+2wP5+EUt2x/K4/eBhWI91KrD9qq4g448SpPxstfLfdaac/1vq+Pq44pT9VaMA3BjCjP+m9A3VuTqE/hFiSIJ0knz+3SCfp5/ObP1tdgwYxB5k/bkl2jdFalj8us9lQE+uTP6eMvUU7tJE/ET5SriVljz+I30NM4MSLPzYc7W56gIg/86ERKvyQhT8=",
          "dtype": "f8"
         }
        },
        {
         "mode": "lines",
         "name": "gumbel_r",
         "type": "scatter",
         "x": {
          "bdata": "AAAAAAAA8D+rm11lhADxP1Y3u8oIAfI/AtMYMI0B8z+tbnaVEQL0P1gK1PqVAvU/A6YxYBoD9j+uQY/FngP3P1rd7CojBPg/BHlKkKcE+T+wFKj1KwX6P1uwBVuwBfs/BkxjwDQG/D+y58AluQb9P1yDHos9B/4/CB988MEH/z9a3ewqIwQAQC+rm11lhABABHlKkKcEAUDaRvnC6YQBQLAUqPUrBQJAhuJWKG6FAkBbsAVbsAUDQDB+tI3yhQNABkxjwDQGBEDcGRLzdoYEQLLnwCW5BgVAh7VvWPuGBUBcgx6LPQcGQDJRzb1/hwZACB988MEHB0De7CojBIgHQLO62VVGCAhAiYiIiIiICEBeVje7yggJQDQk5u0MiQlACfKUIE8JCkDfv0NTkYkKQLWN8oXTCQtAiluhuBWKC0BgKVDrVwoMQDX3/h2aigxAC8WtUNwKDUDhklyDHosNQLZgC7ZgCw5AjC666KKLDkBh/Ggb5QsPQDfKF04njA9ABkxjwDQGEEDxsrrZVUYQQNwZEvN2hhBAxoBpDJjGEECy58AluQYRQJxOGD/aRhFAh7VvWPuGEUByHMdxHMcRQFyDHos9BxJASOp1pF5HEkAyUc29f4cSQB24JNegxxJACB988MEHE0DyhdMJ40cTQN7sKiMEiBNAyFOCPCXIE0CzutlVRggUQJ4hMW9nSBRAiYiIiIiIFEBz79+hqcgUQF5WN7vKCBVASb2O1OtIFUA0JObtDIkVQB+LPQcuyRVACfKUIE8JFkD0WOw5cEkWQN+/Q1ORiRZAyiabbLLJFkC1jfKF0wkXQJ/0SZ/0SRdAiluhuBWKF0B1wvjRNsoXQGApUOtXChhAS5CnBHlKGEA19/4dmooYQCBeVje7yhhAC8WtUNwKGUD2KwVq/UoZQOGSXIMeixlAy/mznD/LGUC2YAu2YAsaQKHHYs+BSxpAjC666KKLGkB3lRECxMsaQGH8aBvlCxtATGPANAZMG0A3yhdOJ4wbQCIxb2dIzBtADJjGgGkMHED3/h2aikwcQOJldbOrjBxAzczMzMzMHEA=",
          "dtype": "f8"
         },
         "y": {
          "bdata": "HkH4y2YsfD8DRWTj3dOCP/mlJc89uog/xNzjg//wjz9RaMvnsU6UP5dNDXZAcJk/HGdKu8dqnz/79ytoFySjP9mitR0AB6c/xcydt3Veqz+bVoeLHRSwP5buGmu4r7I/IWSYAlF+tT/O+Xbq9Hq4P2OXb86Xn7s/G1TizTrlvj/eBtuGDSLBPyTIbo/y2cI/VLKHavWVxD9tTc6irFHGP/I+1W+2CMg/f3W37tC2yT+uvK/U71fLP7P0ghlP6Mw/ao1wR4Jkzj/zvRVLgMnPP5F0r+JVitA/SgWHAewh0T8ZwPRrparRPxc1n9fdI9I/CHwsGCiN0j8huUVuS+bSP5/1EQdAL9M/AW2Z3ipo0z9RYJk0WZHTPyO+ML87q9M/jwPhwWG20z+A4wAqdLPTP+OuPMwwo9M/O+5Y2WWG0z+WCk2b7V3TPxqmF4eqKtM/nNF5q4Pt0j9kFx2BYafSPw2ujR0rWdI/Ixrjx8MD0j9Id+brCKjRP2zK82bQRtE/yF+uKOfg0D9dntkgEHfQP+QEMnMDCtA/vm/f09s0zz/Y+UA/4VHOP7RGbbJBbM0/Tbf1EhCFzD9avO7uR53LP9aS1gPOtco/kMSu9HDPyT9jLHgl6urIP/YfT7PeCMg/njFtgeApxz9Oy1JUb07GP8ouSfX5dsU/UtBKWd+jxD8eISvHb9XDP6MYj/ntC8M/LBPtOZBHwj8iaF1ygYjBPwYuhjTizsA/vgZdtMkawD8FYLVrjdi+P5pxHdrAhr0/7uWOoC5AvD/am3i4ywS7P2cDsZSC1Lk/aAvVcjSvuD9AwjaSupS3P6MDUVHnhLY/kdLYMod/tT+nEZ7LYYS0P/i8fZo6k7M/kgWxy9Grsj9j88fo5M2xPy+anHYv+bA/RmyGgmstsD9qPBlApNSuP18ul7A3X60/0VppGAL6qz+c3IKVdKSqP++9STgBXqk/GqbrhRsmqD8g93voOPymP+C9kw7R36U//HINPF7QpD9m7FiNXc2jP7hBxy5P1qI/MvMSibbqoT8ne05kGgqhP5amSgIFNKA/d1/dYgjQnj8=",
          "dtype": "f8"
         }
        },
        {
         "mode": "lines",
         "name": "gumbel_l",
         "type": "scatter",
         "x": {
          "bdata": "AAAAAAAA8D+rm11lhADxP1Y3u8oIAfI/AtMYMI0B8z+tbnaVEQL0P1gK1PqVAvU/A6YxYBoD9j+uQY/FngP3P1rd7CojBPg/BHlKkKcE+T+wFKj1KwX6P1uwBVuwBfs/BkxjwDQG/D+y58AluQb9P1yDHos9B/4/CB988MEH/z9a3ewqIwQAQC+rm11lhABABHlKkKcEAUDaRvnC6YQBQLAUqPUrBQJAhuJWKG6FAkBbsAVbsAUDQDB+tI3yhQNABkxjwDQGBEDcGRLzdoYEQLLnwCW5BgVAh7VvWPuGBUBcgx6LPQcGQDJRzb1/hwZACB988MEHB0De7CojBIgHQLO62VVGCAhAiYiIiIiICEBeVje7yggJQDQk5u0MiQlACfKUIE8JCkDfv0NTkYkKQLWN8oXTCQtAiluhuBWKC0BgKVDrVwoMQDX3/h2aigxAC8WtUNwKDUDhklyDHosNQLZgC7ZgCw5AjC666KKLDkBh/Ggb5QsPQDfKF04njA9ABkxjwDQGEEDxsrrZVUYQQNwZEvN2hhBAxoBpDJjGEECy58AluQYRQJxOGD/aRhFAh7VvWPuGEUByHMdxHMcRQFyDHos9BxJASOp1pF5HEkAyUc29f4cSQB24JNegxxJACB988MEHE0DyhdMJ40cTQN7sKiMEiBNAyFOCPCXIE0CzutlVRggUQJ4hMW9nSBRAiYiIiIiIFEBz79+hqcgUQF5WN7vKCBVASb2O1OtIFUA0JObtDIkVQB+LPQcuyRVACfKUIE8JFkD0WOw5cEkWQN+/Q1ORiRZAyiabbLLJFkC1jfKF0wkXQJ/0SZ/0SRdAiluhuBWKF0B1wvjRNsoXQGApUOtXChhAS5CnBHlKGEA19/4dmooYQCBeVje7yhhAC8WtUNwKGUD2KwVq/UoZQOGSXIMeixlAy/mznD/LGUC2YAu2YAsaQKHHYs+BSxpAjC666KKLGkB3lRECxMsaQGH8aBvlCxtATGPANAZMG0A3yhdOJ4wbQCIxb2dIzBtADJjGgGkMHED3/h2aikwcQOJldbOrjBxAzczMzMzMHEA=",
          "dtype": "f8"
         },
         "y": {
          "bdata": "HfYNidaopz+V7R1BUcSoP1VHbY8D7Kk/4fIjsFggqz8HqHiXvGGsPz/7G5GbsK0/pzpj0mENrz9JOgN/PTywPyuFGswo+bA/E3TaNKe9sT92JFno64myP/ee7H4oXrM/qsgjjow6tD/1zW4xRR+1P2MBuIZ8DLY/XOktHlkCtz+QgIFc/QC4P/IE4c6GCLk/p6wAcA0Zuj9g4Y/dojK7P8f0i31RVbw/aWr5khuBvT8v2KtB+rW+P+306oDc878/fV55/lKdwD9D3cLzFkXBP9dQBtwe8cE/F2EH7kehwj+vRJYsZ1XDP9vRGLFIDcQ/6jKo8K7IxD+nihL9UYfFP00sX8PeSMY/pZ3MSfYMxz+PmKHvLNPHPwytlbEJm8g/nrkKdgVkyT/zmc1kii3KPz0umU7z9so/bcQhKYu/yz+a7v2kjIbMP+E9UuMhS80/ILuzUWQMzj9V+jyzXMnOPxgITl4Dgc8/5u5sWyAZ0D+NjLr29m3QP1ZrxAVrvtA/bAqIqtsJ0T/VkgmEok/RP4zfz8AUj9E/aVicZ4TH0T/jqEzZQfjRP2e/EI6dINI/9qchD+o/0j8UUOgsflXSP0DLAXC3YNI/7q3Gwfxg0j8EQ+xGwVXSP/97g2SHPtI/fwoJ5eMa0j+1I3cwgerRP/FeZIcirdE/wkFKLqdi0T/SIS5zDQvRPw6GO3V1ptA/EiOSkyM10D8G25XNBG/PP8p+eE9IXM4/l3AIzIYzzT/71CPkhfbLP8hA+8FZp8o/5EpVKWFIyT9F8xBxP9zHP7WOxFXUZcY/DF/qpzHoxD/K9qrtjmbDP82vYyg75ME/CzacB41kwD+5lAbao9W9P5JlhHt49Lo/Kw6OJqMruD9c8WbdsoC1P2etDjma+LI/Mm1Q8JKXsD9zBKvcDMKsP9Gfc0f5rqg/CoxfBST5pD+gcCKQ6qGhP3h6eE61UZ0/oYmdmZsXmD/KtPa5Jo6TPxfvF9acVo8/13QMkcjFiD+0yN34Qk6DP5QxxTHnpH0/3qJUlrFndj+dfY6iLKhwP+wiazyRV2g/5G+4S1N3YT8=",
          "dtype": "f8"
         }
        },
        {
         "mode": "lines",
         "name": "weibull_min",
         "type": "scatter",
         "x": {
          "bdata": "AAAAAAAA8D+rm11lhADxP1Y3u8oIAfI/AtMYMI0B8z+tbnaVEQL0P1gK1PqVAvU/A6YxYBoD9j+uQY/FngP3P1rd7CojBPg/BHlKkKcE+T+wFKj1KwX6P1uwBVuwBfs/BkxjwDQG/D+y58AluQb9P1yDHos9B/4/CB988MEH/z9a3ewqIwQAQC+rm11lhABABHlKkKcEAUDaRvnC6YQBQLAUqPUrBQJAhuJWKG6FAkBbsAVbsAUDQDB+tI3yhQNABkxjwDQGBEDcGRLzdoYEQLLnwCW5BgVAh7VvWPuGBUBcgx6LPQcGQDJRzb1/hwZACB988MEHB0De7CojBIgHQLO62VVGCAhAiYiIiIiICEBeVje7yggJQDQk5u0MiQlACfKUIE8JCkDfv0NTkYkKQLWN8oXTCQtAiluhuBWKC0BgKVDrVwoMQDX3/h2aigxAC8WtUNwKDUDhklyDHosNQLZgC7ZgCw5AjC666KKLDkBh/Ggb5QsPQDfKF04njA9ABkxjwDQGEEDxsrrZVUYQQNwZEvN2hhBAxoBpDJjGEECy58AluQYRQJxOGD/aRhFAh7VvWPuGEUByHMdxHMcRQFyDHos9BxJASOp1pF5HEkAyUc29f4cSQB24JNegxxJACB988MEHE0DyhdMJ40cTQN7sKiMEiBNAyFOCPCXIE0CzutlVRggUQJ4hMW9nSBRAiYiIiIiIFEBz79+hqcgUQF5WN7vKCBVASb2O1OtIFUA0JObtDIkVQB+LPQcuyRVACfKUIE8JFkD0WOw5cEkWQN+/Q1ORiRZAyiabbLLJFkC1jfKF0wkXQJ/0SZ/0SRdAiluhuBWKF0B1wvjRNsoXQGApUOtXChhAS5CnBHlKGEA19/4dmooYQCBeVje7yhhAC8WtUNwKGUD2KwVq/UoZQOGSXIMeixlAy/mznD/LGUC2YAu2YAsaQKHHYs+BSxpAjC666KKLGkB3lRECxMsaQGH8aBvlCxtATGPANAZMG0A3yhdOJ4wbQCIxb2dIzBtADJjGgGkMHED3/h2aikwcQOJldbOrjBxAzczMzMzMHEA=",
          "dtype": "f8"
         },
         "y": {
          "bdata": "DEDhW/Wmkz/xlWGeDZqXPxcPJM+v6Zs/M222GHRKoD8h6O+GOs2iP+FieHNhfKU/Z5OzVfRWqD/goIkC0lurPzjKyu6qia4/cq4UzH/vsD92dbKPD62yPyWDyA6TfLQ/LGzq3v5ctj+42EGSLU24P8W1+ZXfS7o/nzN5P7tXvD+VfRYMTW++P+8OSwuESMA/XpS2YqNdwT9LJSjaJXbCPzHvj20hkcM/knLceaGtxD9vDs6Pp8rFP1T822Ys58Y/zVX47yACyD+2AaKHbxrJPwCDT0b9Lso//ojVbas+yz/j9gDyWEjMP3csLxrkSs0/6yJCOSxFzj+NCeJ4EzbPP4uYSlpADtA/FolpsLB70D96/ey81eLQP1Ut3bovQ9E/OVRgGkWc0T/Js5R1o+3RP5TObX/gNtI/Pm7j6Zp30j+0MbpAe6/SP070L7Y03tI/zuTi3oUD0z+m/GBaOR/TP6ft7mUmMdM/opZBVzE50z+ldxv9SzfTP8EWAOR1K9M/dj15fbwV0z+UpLwoO/bSP14L2xsbzdI/7qcCLZOa0j97+sR7517SPy7LufpoGtI/bcxE2nTN0T/sOa/Vc3jRP7/4MGTZG9E/KU/rzyK40D8tXDg11k3QP0lRGNoCu88/LHDpynHPzj/0ehjXLNrNP/0a1NRv3Mw/YJqVRXzXyz8+UIu+lszKP+OY5FEEvck/axfDAAiqyD8SWHE94JTHP9WzO4XEfsY/KpjmGONoxT+duz7aXlTEP2aaplRNQsM/oLLT9bQzwj9WvCh7iynBP0xWRJe0JMA/+vrypAFMvj/sGPpPWVy8P8/+S8G/e7o/uNZjVlqruD9vAzHiI+y2P0vlOMzsPrU/9Tjzn1uksz80vKcF7hyyP7mgxBz6qLA/WjILXWCRrj/MRq5dOfirP2oXWAFVhqk/lDP75Eo7pz81ctPOeRalP1WFqUINF6M/Fk04QQM8oT/fDwM5ZAifPzHu25ec3Js/MT/pWODxmD+Bq1M1M0WWP90+6ax205M/zeFkRHSZkT91ZuNEziePP2Hwc+8Jf4s/cNaSRQwyiD8=",
          "dtype": "f8"
         }
        },
        {
         "mode": "lines",
         "name": "expon",
         "type": "scatter",
         "x": {
          "bdata": "AAAAAAAA8D+rm11lhADxP1Y3u8oIAfI/AtMYMI0B8z+tbnaVEQL0P1gK1PqVAvU/A6YxYBoD9j+uQY/FngP3P1rd7CojBPg/BHlKkKcE+T+wFKj1KwX6P1uwBVuwBfs/BkxjwDQG/D+y58AluQb9P1yDHos9B/4/CB988MEH/z9a3ewqIwQAQC+rm11lhABABHlKkKcEAUDaRvnC6YQBQLAUqPUrBQJAhuJWKG6FAkBbsAVbsAUDQDB+tI3yhQNABkxjwDQGBEDcGRLzdoYEQLLnwCW5BgVAh7VvWPuGBUBcgx6LPQcGQDJRzb1/hwZACB988MEHB0De7CojBIgHQLO62VVGCAhAiYiIiIiICEBeVje7yggJQDQk5u0MiQlACfKUIE8JCkDfv0NTkYkKQLWN8oXTCQtAiluhuBWKC0BgKVDrVwoMQDX3/h2aigxAC8WtUNwKDUDhklyDHosNQLZgC7ZgCw5AjC666KKLDkBh/Ggb5QsPQDfKF04njA9ABkxjwDQGEEDxsrrZVUYQQNwZEvN2hhBAxoBpDJjGEECy58AluQYRQJxOGD/aRhFAh7VvWPuGEUByHMdxHMcRQFyDHos9BxJASOp1pF5HEkAyUc29f4cSQB24JNegxxJACB988MEHE0DyhdMJ40cTQN7sKiMEiBNAyFOCPCXIE0CzutlVRggUQJ4hMW9nSBRAiYiIiIiIFEBz79+hqcgUQF5WN7vKCBVASb2O1OtIFUA0JObtDIkVQB+LPQcuyRVACfKUIE8JFkD0WOw5cEkWQN+/Q1ORiRZAyiabbLLJFkC1jfKF0wkXQJ/0SZ/0SRdAiluhuBWKF0B1wvjRNsoXQGApUOtXChhAS5CnBHlKGEA19/4dmooYQCBeVje7yhhAC8WtUNwKGUD2KwVq/UoZQOGSXIMeixlAy/mznD/LGUC2YAu2YAsaQKHHYs+BSxpAjC666KKLGkB3lRECxMsaQGH8aBvlCxtATGPANAZMG0A3yhdOJ4wbQCIxb2dIzBtADJjGgGkMHED3/h2aikwcQOJldbOrjBxAzczMzMzMHEA=",
          "dtype": "f8"
         },
         "y": {
          "bdata": "oSLabP8X1j9IvA68B5/VP1lcaF2mKNU/vgGRJs201D/lkME6bkPUP0YuGQl81NM/B679Suln0z/Y5oQCqf3SP3O35niuldI/MY/3PO0v0j/pSqshWczRP7Q4oDzmatE/1BWy5IgL0T8U25SwNa7QP+4sd3XhUtA/NItYiwLzzz8yYLreFETPP19YgvbkmM4/LSi6Vl7xzT8XO5PzbE3NP2ihAC/9rMw/IiBe1vsPzD8uGyQgVnbLP2UTqKn538o/pXPpdNRMyj+JaWrm1LzJP72HFMPpL8k/g/EoLgKmyD8v0DunDR/IP8PUOgj8msc/RIl+g70Zxz+GNuahQpvGP4Mk/kB8H8Y/lfwvkVumxT8OFv0T0i/FP/B2QprRu8Q/l1OGQkxKxD9j2U53NNvDP30Rgu18bsM/4KnOohgEwz8BdB3c+pvCP1ppCyQXNsI/KQdsSWHSwT/G09NdzXDBP9ngKrRPEcE/qR5H39yzwD/PVY6waVjAP5o6P23W/b8/aUgIeK1Ovz8LTc6LQ6O+P5jMqSWE+70/oAQBM1tXvT/SCSEPtba8P1IM5IB+Gbw/hXpkuKR/uz8cvLxMFem6P0hA0zm+Vbo/mpsy3o3FuT+sc+34cji5P6P3jadcrrg/s6YQZDonuD9eJuoC/KK3PyXsF7GRIbc/UH878uuitj+lGMCe+ya2P41nCuKxrbU/6ESyOAA3tT9QHcZu2MK0P3jdF54sUbQ/yiyTLO/hsz8Uw5zKEnWzP6KnenGKCrM/zyjFYUmisj9fXOAhQzyyP/n5fXxr2LE/12Enf7Z2sT8so894GBexPzhWbfiFubA/VB+cy/NdsD8CsUX9VgSwP8pHpKhJWa8/D/m+pKWtrj87bwBlrQWuP4hsAdBMYa0/RMlmOnDArD827IZkBCOsP9wlHHj2iKs/LKgDBjTyqj+d1QgEq16qPw+kvMpJzqk/W9FYE/9AqT/EqK71ubaoPykaIeZpL6g/uOSps/6qpz/PmOmFaCmnP2Y1QtuXqqY/FCf8hn0upj/Wb3WvCrWlP++/WswwPqU/gknqpOHJpD8=",
          "dtype": "f8"
         }
        },
        {
         "mode": "lines",
         "name": "logistic",
         "type": "scatter",
         "x": {
          "bdata": "AAAAAAAA8D+rm11lhADxP1Y3u8oIAfI/AtMYMI0B8z+tbnaVEQL0P1gK1PqVAvU/A6YxYBoD9j+uQY/FngP3P1rd7CojBPg/BHlKkKcE+T+wFKj1KwX6P1uwBVuwBfs/BkxjwDQG/D+y58AluQb9P1yDHos9B/4/CB988MEH/z9a3ewqIwQAQC+rm11lhABABHlKkKcEAUDaRvnC6YQBQLAUqPUrBQJAhuJWKG6FAkBbsAVbsAUDQDB+tI3yhQNABkxjwDQGBEDcGRLzdoYEQLLnwCW5BgVAh7VvWPuGBUBcgx6LPQcGQDJRzb1/hwZACB988MEHB0De7CojBIgHQLO62VVGCAhAiYiIiIiICEBeVje7yggJQDQk5u0MiQlACfKUIE8JCkDfv0NTkYkKQLWN8oXTCQtAiluhuBWKC0BgKVDrVwoMQDX3/h2aigxAC8WtUNwKDUDhklyDHosNQLZgC7ZgCw5AjC666KKLDkBh/Ggb5QsPQDfKF04njA9ABkxjwDQGEEDxsrrZVUYQQNwZEvN2hhBAxoBpDJjGEECy58AluQYRQJxOGD/aRhFAh7VvWPuGEUByHMdxHMcRQFyDHos9BxJASOp1pF5HEkAyUc29f4cSQB24JNegxxJACB988MEHE0DyhdMJ40cTQN7sKiMEiBNAyFOCPCXIE0CzutlVRggUQJ4hMW9nSBRAiYiIiIiIFEBz79+hqcgUQF5WN7vKCBVASb2O1OtIFUA0JObtDIkVQB+LPQcuyRVACfKUIE8JFkD0WOw5cEkWQN+/Q1ORiRZAyiabbLLJFkC1jfKF0wkXQJ/0SZ/0SRdAiluhuBWKF0B1wvjRNsoXQGApUOtXChhAS5CnBHlKGEA19/4dmooYQCBeVje7yhhAC8WtUNwKGUD2KwVq/UoZQOGSXIMeixlAy/mznD/LGUC2YAu2YAsaQKHHYs+BSxpAjC666KKLGkB3lRECxMsaQGH8aBvlCxtATGPANAZMG0A3yhdOJ4wbQCIxb2dIzBtADJjGgGkMHED3/h2aikwcQOJldbOrjBxAzczMzMzMHEA=",
          "dtype": "f8"
         },
         "y": {
          "bdata": "mO1zm3oemj9aWZRChl6cP54S+jzXzZ4/atb1SPC3oD/TIK27ICSiP5148MhhraM/RNQPG6xVpT/IH/I9Ch+nP0WbN/eVC6k/VREV0HQdqz/Iv9Gx01atPwmo+HPhua8/ID8LHWQksT/iQ0e/0oKyP2zMf1RA+bM/pUmhCKCItT8gJFcqzjG3Pz+oPvWI9bg/rrA5d2jUuj8U5liT1c68P9yjwS0A5b4/LDGIS2qLwD8wh44t+LHBP25XVFPL5cI/ImORRFImxD+fmHa1wnLFPxtbSRIUysY/IQqcm/oqyD/B4mBc45PJPyUUfkrxAss/rrBA5/t1zD9gOvW1j+rNP2cI69rwXc8/0vqcFZBm0D+1o4JycRrRP2lqKJjmyNE/mqgBtSdw0j9yiyQLYw7TP5tncRfGodM/qLq6q4co1D/7amWs8qDUPwhg1Q9xCdU/aAMesJZg1T/MwIp3K6XVP+q4/W801tU/Mf6cRPvy1T8PltnUE/vVP5Vnw45f7tU/R3BRYw7N1T8gu5pHnZfVP7wBX1fSTtU/hE37zLbz1D8N4Hwej4fUP52U56TRC9Q/UK+VQByC0z+Doz9zKezSPwYg72XFS9I/wn7IR8Oi0T+RqJ5j8/LQPxbJbjcaPtA/0McFiNELzz8szaVr7JfNPzG8keh1I8w/tRLlJRqxyj8oZ1EjPEPJP8E9VJvz28c/Y546/Ax9xj+7L08kCyjFPy3+vIoq3sM/PA+LgGWgwj8s0Hw6eW/BP+QkglzrS8A/pTN2kR9svj9lyCL8HFy8Pyg8xrjSZ7o/rCphWwOPuD+NGLq4OtG2P4hkSozXLbU/isq+QxSksz8xItHmDjOyP4JzthrQ2bA/o9y1jaIurz8ST9LKA9WsP/N6yBqYpKo/wIxbjDCbqD8YKctqobamP6IEw3DH9KQ/wplt9ItToz9QDTwt6NChP7eVALLnaqA/7g1Ol1Q/nj/iYKdsytqbP4r9ONDHpJk/HKcH5BCalz+YVdIal7eVPxdkqst4+pM/6FrJWQBgkj/ed0YIo+WQP3Pqlxv/EY8/ZSyW8riPjD8=",
          "dtype": "f8"
         }
        }
       ],
       "layout": {
        "barmode": "overlay",
        "hovermode": "closest",
        "legend": {
         "title": {
          "text": "Distributions"
         },
         "traceorder": "reversed"
        },
        "template": {
         "data": {
          "bar": [
           {
            "error_x": {
             "color": "#2a3f5f"
            },
            "error_y": {
             "color": "#2a3f5f"
            },
            "marker": {
             "line": {
              "color": "#E5ECF6",
              "width": 0.5
             },
             "pattern": {
              "fillmode": "overlay",
              "size": 10,
              "solidity": 0.2
             }
            },
            "type": "bar"
           }
          ],
          "barpolar": [
           {
            "marker": {
             "line": {
              "color": "#E5ECF6",
              "width": 0.5
             },
             "pattern": {
              "fillmode": "overlay",
              "size": 10,
              "solidity": 0.2
             }
            },
            "type": "barpolar"
           }
          ],
          "carpet": [
           {
            "aaxis": {
             "endlinecolor": "#2a3f5f",
             "gridcolor": "white",
             "linecolor": "white",
             "minorgridcolor": "white",
             "startlinecolor": "#2a3f5f"
            },
            "baxis": {
             "endlinecolor": "#2a3f5f",
             "gridcolor": "white",
             "linecolor": "white",
             "minorgridcolor": "white",
             "startlinecolor": "#2a3f5f"
            },
            "type": "carpet"
           }
          ],
          "choropleth": [
           {
            "colorbar": {
             "outlinewidth": 0,
             "ticks": ""
            },
            "type": "choropleth"
           }
          ],
          "contour": [
           {
            "colorbar": {
             "outlinewidth": 0,
             "ticks": ""
            },
            "colorscale": [
             [
              0,
              "#0d0887"
             ],
             [
              0.1111111111111111,
              "#46039f"
             ],
             [
              0.2222222222222222,
              "#7201a8"
             ],
             [
              0.3333333333333333,
              "#9c179e"
             ],
             [
              0.4444444444444444,
              "#bd3786"
             ],
             [
              0.5555555555555556,
              "#d8576b"
             ],
             [
              0.6666666666666666,
              "#ed7953"
             ],
             [
              0.7777777777777778,
              "#fb9f3a"
             ],
             [
              0.8888888888888888,
              "#fdca26"
             ],
             [
              1,
              "#f0f921"
             ]
            ],
            "type": "contour"
           }
          ],
          "contourcarpet": [
           {
            "colorbar": {
             "outlinewidth": 0,
             "ticks": ""
            },
            "type": "contourcarpet"
           }
          ],
          "heatmap": [
           {
            "colorbar": {
             "outlinewidth": 0,
             "ticks": ""
            },
            "colorscale": [
             [
              0,
              "#0d0887"
             ],
             [
              0.1111111111111111,
              "#46039f"
             ],
             [
              0.2222222222222222,
              "#7201a8"
             ],
             [
              0.3333333333333333,
              "#9c179e"
             ],
             [
              0.4444444444444444,
              "#bd3786"
             ],
             [
              0.5555555555555556,
              "#d8576b"
             ],
             [
              0.6666666666666666,
              "#ed7953"
             ],
             [
              0.7777777777777778,
              "#fb9f3a"
             ],
             [
              0.8888888888888888,
              "#fdca26"
             ],
             [
              1,
              "#f0f921"
             ]
            ],
            "type": "heatmap"
           }
          ],
          "histogram": [
           {
            "marker": {
             "pattern": {
              "fillmode": "overlay",
              "size": 10,
              "solidity": 0.2
             }
            },
            "type": "histogram"
           }
          ],
          "histogram2d": [
           {
            "colorbar": {
             "outlinewidth": 0,
             "ticks": ""
            },
            "colorscale": [
             [
              0,
              "#0d0887"
             ],
             [
              0.1111111111111111,
              "#46039f"
             ],
             [
              0.2222222222222222,
              "#7201a8"
             ],
             [
              0.3333333333333333,
              "#9c179e"
             ],
             [
              0.4444444444444444,
              "#bd3786"
             ],
             [
              0.5555555555555556,
              "#d8576b"
             ],
             [
              0.6666666666666666,
              "#ed7953"
             ],
             [
              0.7777777777777778,
              "#fb9f3a"
             ],
             [
              0.8888888888888888,
              "#fdca26"
             ],
             [
              1,
              "#f0f921"
             ]
            ],
            "type": "histogram2d"
           }
          ],
          "histogram2dcontour": [
           {
            "colorbar": {
             "outlinewidth": 0,
             "ticks": ""
            },
            "colorscale": [
             [
              0,
              "#0d0887"
             ],
             [
              0.1111111111111111,
              "#46039f"
             ],
             [
              0.2222222222222222,
              "#7201a8"
             ],
             [
              0.3333333333333333,
              "#9c179e"
             ],
             [
              0.4444444444444444,
              "#bd3786"
             ],
             [
              0.5555555555555556,
              "#d8576b"
             ],
             [
              0.6666666666666666,
              "#ed7953"
             ],
             [
              0.7777777777777778,
              "#fb9f3a"
             ],
             [
              0.8888888888888888,
              "#fdca26"
             ],
             [
              1,
              "#f0f921"
             ]
            ],
            "type": "histogram2dcontour"
           }
          ],
          "mesh3d": [
           {
            "colorbar": {
             "outlinewidth": 0,
             "ticks": ""
            },
            "type": "mesh3d"
           }
          ],
          "parcoords": [
           {
            "line": {
             "colorbar": {
              "outlinewidth": 0,
              "ticks": ""
             }
            },
            "type": "parcoords"
           }
          ],
          "pie": [
           {
            "automargin": true,
            "type": "pie"
           }
          ],
          "scatter": [
           {
            "fillpattern": {
             "fillmode": "overlay",
             "size": 10,
             "solidity": 0.2
            },
            "type": "scatter"
           }
          ],
          "scatter3d": [
           {
            "line": {
             "colorbar": {
              "outlinewidth": 0,
              "ticks": ""
             }
            },
            "marker": {
             "colorbar": {
              "outlinewidth": 0,
              "ticks": ""
             }
            },
            "type": "scatter3d"
           }
          ],
          "scattercarpet": [
           {
            "marker": {
             "colorbar": {
              "outlinewidth": 0,
              "ticks": ""
             }
            },
            "type": "scattercarpet"
           }
          ],
          "scattergeo": [
           {
            "marker": {
             "colorbar": {
              "outlinewidth": 0,
              "ticks": ""
             }
            },
            "type": "scattergeo"
           }
          ],
          "scattergl": [
           {
            "marker": {
             "colorbar": {
              "outlinewidth": 0,
              "ticks": ""
             }
            },
            "type": "scattergl"
           }
          ],
          "scattermap": [
           {
            "marker": {
             "colorbar": {
              "outlinewidth": 0,
              "ticks": ""
             }
            },
            "type": "scattermap"
           }
          ],
          "scattermapbox": [
           {
            "marker": {
             "colorbar": {
              "outlinewidth": 0,
              "ticks": ""
             }
            },
            "type": "scattermapbox"
           }
          ],
          "scatterpolar": [
           {
            "marker": {
             "colorbar": {
              "outlinewidth": 0,
              "ticks": ""
             }
            },
            "type": "scatterpolar"
           }
          ],
          "scatterpolargl": [
           {
            "marker": {
             "colorbar": {
              "outlinewidth": 0,
              "ticks": ""
             }
            },
            "type": "scatterpolargl"
           }
          ],
          "scatterternary": [
           {
            "marker": {
             "colorbar": {
              "outlinewidth": 0,
              "ticks": ""
             }
            },
            "type": "scatterternary"
           }
          ],
          "surface": [
           {
            "colorbar": {
             "outlinewidth": 0,
             "ticks": ""
            },
            "colorscale": [
             [
              0,
              "#0d0887"
             ],
             [
              0.1111111111111111,
              "#46039f"
             ],
             [
              0.2222222222222222,
              "#7201a8"
             ],
             [
              0.3333333333333333,
              "#9c179e"
             ],
             [
              0.4444444444444444,
              "#bd3786"
             ],
             [
              0.5555555555555556,
              "#d8576b"
             ],
             [
              0.6666666666666666,
              "#ed7953"
             ],
             [
              0.7777777777777778,
              "#fb9f3a"
             ],
             [
              0.8888888888888888,
              "#fdca26"
             ],
             [
              1,
              "#f0f921"
             ]
            ],
            "type": "surface"
           }
          ],
          "table": [
           {
            "cells": {
             "fill": {
              "color": "#EBF0F8"
             },
             "line": {
              "color": "white"
             }
            },
            "header": {
             "fill": {
              "color": "#C8D4E3"
             },
             "line": {
              "color": "white"
             }
            },
            "type": "table"
           }
          ]
         },
         "layout": {
          "annotationdefaults": {
           "arrowcolor": "#2a3f5f",
           "arrowhead": 0,
           "arrowwidth": 1
          },
          "autotypenumbers": "strict",
          "coloraxis": {
           "colorbar": {
            "outlinewidth": 0,
            "ticks": ""
           }
          },
          "colorscale": {
           "diverging": [
            [
             0,
             "#8e0152"
            ],
            [
             0.1,
             "#c51b7d"
            ],
            [
             0.2,
             "#de77ae"
            ],
            [
             0.3,
             "#f1b6da"
            ],
            [
             0.4,
             "#fde0ef"
            ],
            [
             0.5,
             "#f7f7f7"
            ],
            [
             0.6,
             "#e6f5d0"
            ],
            [
             0.7,
             "#b8e186"
            ],
            [
             0.8,
             "#7fbc41"
            ],
            [
             0.9,
             "#4d9221"
            ],
            [
             1,
             "#276419"
            ]
           ],
           "sequential": [
            [
             0,
             "#0d0887"
            ],
            [
             0.1111111111111111,
             "#46039f"
            ],
            [
             0.2222222222222222,
             "#7201a8"
            ],
            [
             0.3333333333333333,
             "#9c179e"
            ],
            [
             0.4444444444444444,
             "#bd3786"
            ],
            [
             0.5555555555555556,
             "#d8576b"
            ],
            [
             0.6666666666666666,
             "#ed7953"
            ],
            [
             0.7777777777777778,
             "#fb9f3a"
            ],
            [
             0.8888888888888888,
             "#fdca26"
            ],
            [
             1,
             "#f0f921"
            ]
           ],
           "sequentialminus": [
            [
             0,
             "#0d0887"
            ],
            [
             0.1111111111111111,
             "#46039f"
            ],
            [
             0.2222222222222222,
             "#7201a8"
            ],
            [
             0.3333333333333333,
             "#9c179e"
            ],
            [
             0.4444444444444444,
             "#bd3786"
            ],
            [
             0.5555555555555556,
             "#d8576b"
            ],
            [
             0.6666666666666666,
             "#ed7953"
            ],
            [
             0.7777777777777778,
             "#fb9f3a"
            ],
            [
             0.8888888888888888,
             "#fdca26"
            ],
            [
             1,
             "#f0f921"
            ]
           ]
          },
          "colorway": [
           "#636efa",
           "#EF553B",
           "#00cc96",
           "#ab63fa",
           "#FFA15A",
           "#19d3f3",
           "#FF6692",
           "#B6E880",
           "#FF97FF",
           "#FECB52"
          ],
          "font": {
           "color": "#2a3f5f"
          },
          "geo": {
           "bgcolor": "white",
           "lakecolor": "white",
           "landcolor": "#E5ECF6",
           "showlakes": true,
           "showland": true,
           "subunitcolor": "white"
          },
          "hoverlabel": {
           "align": "left"
          },
          "hovermode": "closest",
          "mapbox": {
           "style": "light"
          },
          "paper_bgcolor": "white",
          "plot_bgcolor": "#E5ECF6",
          "polar": {
           "angularaxis": {
            "gridcolor": "white",
            "linecolor": "white",
            "ticks": ""
           },
           "bgcolor": "#E5ECF6",
           "radialaxis": {
            "gridcolor": "white",
            "linecolor": "white",
            "ticks": ""
           }
          },
          "scene": {
           "xaxis": {
            "backgroundcolor": "#E5ECF6",
            "gridcolor": "white",
            "gridwidth": 2,
            "linecolor": "white",
            "showbackground": true,
            "ticks": "",
            "zerolinecolor": "white"
           },
           "yaxis": {
            "backgroundcolor": "#E5ECF6",
            "gridcolor": "white",
            "gridwidth": 2,
            "linecolor": "white",
            "showbackground": true,
            "ticks": "",
            "zerolinecolor": "white"
           },
           "zaxis": {
            "backgroundcolor": "#E5ECF6",
            "gridcolor": "white",
            "gridwidth": 2,
            "linecolor": "white",
            "showbackground": true,
            "ticks": "",
            "zerolinecolor": "white"
           }
          },
          "shapedefaults": {
           "line": {
            "color": "#2a3f5f"
           }
          },
          "ternary": {
           "aaxis": {
            "gridcolor": "white",
            "linecolor": "white",
            "ticks": ""
           },
           "baxis": {
            "gridcolor": "white",
            "linecolor": "white",
            "ticks": ""
           },
           "bgcolor": "#E5ECF6",
           "caxis": {
            "gridcolor": "white",
            "linecolor": "white",
            "ticks": ""
           }
          },
          "title": {
           "x": 0.05
          },
          "xaxis": {
           "automargin": true,
           "gridcolor": "white",
           "linecolor": "white",
           "ticks": "",
           "title": {
            "standoff": 15
           },
           "zerolinecolor": "white",
           "zerolinewidth": 2
          },
          "yaxis": {
           "automargin": true,
           "gridcolor": "white",
           "linecolor": "white",
           "ticks": "",
           "title": {
            "standoff": 15
           },
           "zerolinecolor": "white",
           "zerolinewidth": 2
          }
         }
        },
        "title": {
         "text": "Comparaison des distributions ajustées pour Données"
        },
        "xaxis": {
         "anchor": "y2",
         "domain": [
          0,
          1
         ],
         "title": {
          "text": "Données"
         },
         "zeroline": false
        },
        "yaxis": {
         "anchor": "free",
         "domain": [
          0.35,
          1
         ],
         "position": 0,
         "title": {
          "text": "Densité"
         }
        },
        "yaxis2": {
         "anchor": "x",
         "domain": [
          0,
          0.25
         ],
         "dtick": 1,
         "showticklabels": false
        }
       }
      }
     },
     "metadata": {},
     "output_type": "display_data"
    }
   ],
   "source": [
    "data = df[\"Hauteur\"]\n",
    "\n",
    "distributions = {\n",
    "    \"norm\": stats.norm,\n",
    "    \"gumbel_r\": stats.gumbel_r,\n",
    "    \"gumbel_l\": stats.gumbel_l,\n",
    "    \"weibull_min\": stats.weibull_min,\n",
    "    \"expon\": stats.expon,\n",
    "    \"logistic\": stats.logistic\n",
    "}\n",
    "\n",
    "best_dist = None \n",
    "best_stat = float(\"inf\")\n",
    "\n",
    "#Anderson-Darling adequation sur valeurs extremes\n",
    "for name, dist in distributions.items():\n",
    "    params = dist.fit(data)  \n",
    "    ad_stat, critical_values, significance = stats.anderson(data, dist=name)\n",
    "    print(f\"{name} : Anderson-Darling Stat = {ad_stat:.5f}, seuil critique = {critical_values[2]:.5f}\")\n",
    "\n",
    "    #plus petite stat AD\n",
    "    if ad_stat < best_stat:\n",
    "        best_stat = ad_stat\n",
    "        best_dist = name\n",
    "\n",
    "print(f\"\\n✅ Meilleure distribution selon le test d'Anderson-Darling : {best_dist} (AD Stat = {best_stat:.5f})\")\n",
    "plot_fitted_distributions(data, distributions)"
   ]
  },
  {
   "cell_type": "code",
   "execution_count": null,
   "metadata": {},
   "outputs": [
    {
     "name": "stdout",
     "output_type": "stream",
     "text": [
      "Hauteur optimale de la digue pour 90.0% de protection : 5.57 m\n"
     ]
    }
   ],
   "source": [
    "dist_finale = distributions[best_dist]\n",
    "seuil_risque = 0.10  # 10% de crues qui dépassent (arbitraire)\n",
    "h_optimal = get_optimal_digue_height(df, dist_finale, seuil_risque)\n",
    "\n",
    "print(f\"Hauteur optimale de la digue pour {100*(1-seuil_risque)}% de protection : {h_optimal:.2f} m\")"
   ]
  },
  {
   "cell_type": "code",
   "execution_count": 22,
   "metadata": {},
   "outputs": [
    {
     "data": {
      "application/vnd.plotly.v1+json": {
       "config": {
        "plotlyServerURL": "https://plot.ly"
       },
       "data": [
        {
         "bingroup": "x",
         "hovertemplate": "Hauteur de crue (m)=%{x}<br>count=%{y}<extra></extra>",
         "legendgroup": "",
         "marker": {
          "color": "#636efa",
          "opacity": 0.7,
          "pattern": {
           "shape": ""
          }
         },
         "name": "",
         "nbinsx": 20,
         "orientation": "v",
         "showlegend": false,
         "type": "histogram",
         "x": {
          "bdata": "AAAAAAAAEEAAAAAAAAASQDMzMzMzMxFAMzMzMzMz+z8zMzMzMzMLQDMzMzMzMwtAZmZmZmZmEEBmZmZmZmYQQDMzMzMzMxVAZmZmZmZmEEAzMzMzMzMPQGZmZmZmZg5AmpmZmZmZFUAzMzMzMzP7P5qZmZmZmQ1AmpmZmZmZE0BmZmZmZmYKQDMzMzMzMxlAAAAAAAAAEEAAAAAAAAAWQAAAAAAAABBAMzMzMzMzF0BmZmZmZmYQQDMzMzMzMwtAzczMzMzMEkDNzMzMzMwYQM3MzMzMzBZAzczMzMzMFEDNzMzMzMwEQGZmZmZmZhZAAAAAAAAAFkAzMzMzMzMTQDMzMzMzMw9AzczMzMzMGkAzMzMzMzMVQM3MzMzMzBBAzczMzMzMBEDNzMzMzMwQQGZmZmZmZgpAZmZmZmZmDkAAAAAAAAAMQM3MzMzMzBJAAAAAAAAABEAzMzMzMzMRQGZmZmZmZhBAMzMzMzMzD0BmZmZmZmYQQM3MzMzMzAxAZmZmZmZmEEDNzMzMzMwAQGZmZmZmZhBAZmZmZmZmCkDNzMzMzMwIQM3MzMzMzAxAmpmZmZmZCUAAAAAAAAAEQM3MzMzMzBpAAAAAAAAABEBmZmZmZmYCQM3MzMzMzABAzczMzMzMEkBmZmZmZmYUQJqZmZmZmRlAmpmZmZmZE0AzMzMzMzMLQDMzMzMzMxNAmpmZmZmZEUBmZmZmZmYWQDMzMzMzMwdAZmZmZmZmCkCamZmZmZkJQJqZmZmZmQ1AMzMzMzMzFUAAAAAAAAASQAAAAAAAABBAMzMzMzMzE0BmZmZmZmYSQAAAAAAAAPA/zczMzMzMCEAzMzMzMzMDQGZmZmZmZgZAmpmZmZmZBUAAAAAAAAASQJqZmZmZmQlAmpmZmZmZDUAAAAAAAAAEQM3MzMzMzARAzczMzMzM/D9mZmZmZmb2P5qZmZmZmRVAZmZmZmZmGkAAAAAAAAAQQJqZmZmZmQVAmpmZmZmZE0AzMzMzMzMVQGZmZmZmZhRAZmZmZmZmDkCamZmZmZkXQM3MzMzMzAhAMzMzMzMzC0BmZmZmZmYQQAAAAAAAAARAAAAAAAAABEAzMzMzMzMTQM3MzMzMzAhAMzMzMzMzA0AzMzMzMzMPQAAAAAAAAARAAAAAAAAAEkDNzMzMzMwQQAAAAAAAAPg/AAAAAAAA8D8AAAAAAAAQQM3MzMzMzAhAAAAAAAAACEAAAAAAAAAIQGZmZmZmZhRAAAAAAAAAEkDNzMzMzMwIQM3MzMzMzBxAAAAAAAAADEAAAAAAAAAEQAAAAAAAAARA",
          "dtype": "f8"
         },
         "xaxis": "x",
         "yaxis": "y"
        }
       ],
       "layout": {
        "annotations": [
         {
          "showarrow": false,
          "text": "Hauteur optimale: 5.57 m",
          "x": 5.565198584825985,
          "xanchor": "left",
          "xref": "x",
          "y": 1,
          "yanchor": "top",
          "yref": "y domain"
         }
        ],
        "bargap": 0.1,
        "barmode": "relative",
        "legend": {
         "tracegroupgap": 0
        },
        "shapes": [
         {
          "line": {
           "color": "red",
           "dash": "dash"
          },
          "type": "line",
          "x0": 5.565198584825985,
          "x1": 5.565198584825985,
          "xref": "x",
          "y0": 0,
          "y1": 1,
          "yref": "y domain"
         }
        ],
        "template": {
         "data": {
          "bar": [
           {
            "error_x": {
             "color": "#2a3f5f"
            },
            "error_y": {
             "color": "#2a3f5f"
            },
            "marker": {
             "line": {
              "color": "#E5ECF6",
              "width": 0.5
             },
             "pattern": {
              "fillmode": "overlay",
              "size": 10,
              "solidity": 0.2
             }
            },
            "type": "bar"
           }
          ],
          "barpolar": [
           {
            "marker": {
             "line": {
              "color": "#E5ECF6",
              "width": 0.5
             },
             "pattern": {
              "fillmode": "overlay",
              "size": 10,
              "solidity": 0.2
             }
            },
            "type": "barpolar"
           }
          ],
          "carpet": [
           {
            "aaxis": {
             "endlinecolor": "#2a3f5f",
             "gridcolor": "white",
             "linecolor": "white",
             "minorgridcolor": "white",
             "startlinecolor": "#2a3f5f"
            },
            "baxis": {
             "endlinecolor": "#2a3f5f",
             "gridcolor": "white",
             "linecolor": "white",
             "minorgridcolor": "white",
             "startlinecolor": "#2a3f5f"
            },
            "type": "carpet"
           }
          ],
          "choropleth": [
           {
            "colorbar": {
             "outlinewidth": 0,
             "ticks": ""
            },
            "type": "choropleth"
           }
          ],
          "contour": [
           {
            "colorbar": {
             "outlinewidth": 0,
             "ticks": ""
            },
            "colorscale": [
             [
              0,
              "#0d0887"
             ],
             [
              0.1111111111111111,
              "#46039f"
             ],
             [
              0.2222222222222222,
              "#7201a8"
             ],
             [
              0.3333333333333333,
              "#9c179e"
             ],
             [
              0.4444444444444444,
              "#bd3786"
             ],
             [
              0.5555555555555556,
              "#d8576b"
             ],
             [
              0.6666666666666666,
              "#ed7953"
             ],
             [
              0.7777777777777778,
              "#fb9f3a"
             ],
             [
              0.8888888888888888,
              "#fdca26"
             ],
             [
              1,
              "#f0f921"
             ]
            ],
            "type": "contour"
           }
          ],
          "contourcarpet": [
           {
            "colorbar": {
             "outlinewidth": 0,
             "ticks": ""
            },
            "type": "contourcarpet"
           }
          ],
          "heatmap": [
           {
            "colorbar": {
             "outlinewidth": 0,
             "ticks": ""
            },
            "colorscale": [
             [
              0,
              "#0d0887"
             ],
             [
              0.1111111111111111,
              "#46039f"
             ],
             [
              0.2222222222222222,
              "#7201a8"
             ],
             [
              0.3333333333333333,
              "#9c179e"
             ],
             [
              0.4444444444444444,
              "#bd3786"
             ],
             [
              0.5555555555555556,
              "#d8576b"
             ],
             [
              0.6666666666666666,
              "#ed7953"
             ],
             [
              0.7777777777777778,
              "#fb9f3a"
             ],
             [
              0.8888888888888888,
              "#fdca26"
             ],
             [
              1,
              "#f0f921"
             ]
            ],
            "type": "heatmap"
           }
          ],
          "histogram": [
           {
            "marker": {
             "pattern": {
              "fillmode": "overlay",
              "size": 10,
              "solidity": 0.2
             }
            },
            "type": "histogram"
           }
          ],
          "histogram2d": [
           {
            "colorbar": {
             "outlinewidth": 0,
             "ticks": ""
            },
            "colorscale": [
             [
              0,
              "#0d0887"
             ],
             [
              0.1111111111111111,
              "#46039f"
             ],
             [
              0.2222222222222222,
              "#7201a8"
             ],
             [
              0.3333333333333333,
              "#9c179e"
             ],
             [
              0.4444444444444444,
              "#bd3786"
             ],
             [
              0.5555555555555556,
              "#d8576b"
             ],
             [
              0.6666666666666666,
              "#ed7953"
             ],
             [
              0.7777777777777778,
              "#fb9f3a"
             ],
             [
              0.8888888888888888,
              "#fdca26"
             ],
             [
              1,
              "#f0f921"
             ]
            ],
            "type": "histogram2d"
           }
          ],
          "histogram2dcontour": [
           {
            "colorbar": {
             "outlinewidth": 0,
             "ticks": ""
            },
            "colorscale": [
             [
              0,
              "#0d0887"
             ],
             [
              0.1111111111111111,
              "#46039f"
             ],
             [
              0.2222222222222222,
              "#7201a8"
             ],
             [
              0.3333333333333333,
              "#9c179e"
             ],
             [
              0.4444444444444444,
              "#bd3786"
             ],
             [
              0.5555555555555556,
              "#d8576b"
             ],
             [
              0.6666666666666666,
              "#ed7953"
             ],
             [
              0.7777777777777778,
              "#fb9f3a"
             ],
             [
              0.8888888888888888,
              "#fdca26"
             ],
             [
              1,
              "#f0f921"
             ]
            ],
            "type": "histogram2dcontour"
           }
          ],
          "mesh3d": [
           {
            "colorbar": {
             "outlinewidth": 0,
             "ticks": ""
            },
            "type": "mesh3d"
           }
          ],
          "parcoords": [
           {
            "line": {
             "colorbar": {
              "outlinewidth": 0,
              "ticks": ""
             }
            },
            "type": "parcoords"
           }
          ],
          "pie": [
           {
            "automargin": true,
            "type": "pie"
           }
          ],
          "scatter": [
           {
            "fillpattern": {
             "fillmode": "overlay",
             "size": 10,
             "solidity": 0.2
            },
            "type": "scatter"
           }
          ],
          "scatter3d": [
           {
            "line": {
             "colorbar": {
              "outlinewidth": 0,
              "ticks": ""
             }
            },
            "marker": {
             "colorbar": {
              "outlinewidth": 0,
              "ticks": ""
             }
            },
            "type": "scatter3d"
           }
          ],
          "scattercarpet": [
           {
            "marker": {
             "colorbar": {
              "outlinewidth": 0,
              "ticks": ""
             }
            },
            "type": "scattercarpet"
           }
          ],
          "scattergeo": [
           {
            "marker": {
             "colorbar": {
              "outlinewidth": 0,
              "ticks": ""
             }
            },
            "type": "scattergeo"
           }
          ],
          "scattergl": [
           {
            "marker": {
             "colorbar": {
              "outlinewidth": 0,
              "ticks": ""
             }
            },
            "type": "scattergl"
           }
          ],
          "scattermap": [
           {
            "marker": {
             "colorbar": {
              "outlinewidth": 0,
              "ticks": ""
             }
            },
            "type": "scattermap"
           }
          ],
          "scattermapbox": [
           {
            "marker": {
             "colorbar": {
              "outlinewidth": 0,
              "ticks": ""
             }
            },
            "type": "scattermapbox"
           }
          ],
          "scatterpolar": [
           {
            "marker": {
             "colorbar": {
              "outlinewidth": 0,
              "ticks": ""
             }
            },
            "type": "scatterpolar"
           }
          ],
          "scatterpolargl": [
           {
            "marker": {
             "colorbar": {
              "outlinewidth": 0,
              "ticks": ""
             }
            },
            "type": "scatterpolargl"
           }
          ],
          "scatterternary": [
           {
            "marker": {
             "colorbar": {
              "outlinewidth": 0,
              "ticks": ""
             }
            },
            "type": "scatterternary"
           }
          ],
          "surface": [
           {
            "colorbar": {
             "outlinewidth": 0,
             "ticks": ""
            },
            "colorscale": [
             [
              0,
              "#0d0887"
             ],
             [
              0.1111111111111111,
              "#46039f"
             ],
             [
              0.2222222222222222,
              "#7201a8"
             ],
             [
              0.3333333333333333,
              "#9c179e"
             ],
             [
              0.4444444444444444,
              "#bd3786"
             ],
             [
              0.5555555555555556,
              "#d8576b"
             ],
             [
              0.6666666666666666,
              "#ed7953"
             ],
             [
              0.7777777777777778,
              "#fb9f3a"
             ],
             [
              0.8888888888888888,
              "#fdca26"
             ],
             [
              1,
              "#f0f921"
             ]
            ],
            "type": "surface"
           }
          ],
          "table": [
           {
            "cells": {
             "fill": {
              "color": "#EBF0F8"
             },
             "line": {
              "color": "white"
             }
            },
            "header": {
             "fill": {
              "color": "#C8D4E3"
             },
             "line": {
              "color": "white"
             }
            },
            "type": "table"
           }
          ]
         },
         "layout": {
          "annotationdefaults": {
           "arrowcolor": "#2a3f5f",
           "arrowhead": 0,
           "arrowwidth": 1
          },
          "autotypenumbers": "strict",
          "coloraxis": {
           "colorbar": {
            "outlinewidth": 0,
            "ticks": ""
           }
          },
          "colorscale": {
           "diverging": [
            [
             0,
             "#8e0152"
            ],
            [
             0.1,
             "#c51b7d"
            ],
            [
             0.2,
             "#de77ae"
            ],
            [
             0.3,
             "#f1b6da"
            ],
            [
             0.4,
             "#fde0ef"
            ],
            [
             0.5,
             "#f7f7f7"
            ],
            [
             0.6,
             "#e6f5d0"
            ],
            [
             0.7,
             "#b8e186"
            ],
            [
             0.8,
             "#7fbc41"
            ],
            [
             0.9,
             "#4d9221"
            ],
            [
             1,
             "#276419"
            ]
           ],
           "sequential": [
            [
             0,
             "#0d0887"
            ],
            [
             0.1111111111111111,
             "#46039f"
            ],
            [
             0.2222222222222222,
             "#7201a8"
            ],
            [
             0.3333333333333333,
             "#9c179e"
            ],
            [
             0.4444444444444444,
             "#bd3786"
            ],
            [
             0.5555555555555556,
             "#d8576b"
            ],
            [
             0.6666666666666666,
             "#ed7953"
            ],
            [
             0.7777777777777778,
             "#fb9f3a"
            ],
            [
             0.8888888888888888,
             "#fdca26"
            ],
            [
             1,
             "#f0f921"
            ]
           ],
           "sequentialminus": [
            [
             0,
             "#0d0887"
            ],
            [
             0.1111111111111111,
             "#46039f"
            ],
            [
             0.2222222222222222,
             "#7201a8"
            ],
            [
             0.3333333333333333,
             "#9c179e"
            ],
            [
             0.4444444444444444,
             "#bd3786"
            ],
            [
             0.5555555555555556,
             "#d8576b"
            ],
            [
             0.6666666666666666,
             "#ed7953"
            ],
            [
             0.7777777777777778,
             "#fb9f3a"
            ],
            [
             0.8888888888888888,
             "#fdca26"
            ],
            [
             1,
             "#f0f921"
            ]
           ]
          },
          "colorway": [
           "#636efa",
           "#EF553B",
           "#00cc96",
           "#ab63fa",
           "#FFA15A",
           "#19d3f3",
           "#FF6692",
           "#B6E880",
           "#FF97FF",
           "#FECB52"
          ],
          "font": {
           "color": "#2a3f5f"
          },
          "geo": {
           "bgcolor": "white",
           "lakecolor": "white",
           "landcolor": "#E5ECF6",
           "showlakes": true,
           "showland": true,
           "subunitcolor": "white"
          },
          "hoverlabel": {
           "align": "left"
          },
          "hovermode": "closest",
          "mapbox": {
           "style": "light"
          },
          "paper_bgcolor": "white",
          "plot_bgcolor": "#E5ECF6",
          "polar": {
           "angularaxis": {
            "gridcolor": "white",
            "linecolor": "white",
            "ticks": ""
           },
           "bgcolor": "#E5ECF6",
           "radialaxis": {
            "gridcolor": "white",
            "linecolor": "white",
            "ticks": ""
           }
          },
          "scene": {
           "xaxis": {
            "backgroundcolor": "#E5ECF6",
            "gridcolor": "white",
            "gridwidth": 2,
            "linecolor": "white",
            "showbackground": true,
            "ticks": "",
            "zerolinecolor": "white"
           },
           "yaxis": {
            "backgroundcolor": "#E5ECF6",
            "gridcolor": "white",
            "gridwidth": 2,
            "linecolor": "white",
            "showbackground": true,
            "ticks": "",
            "zerolinecolor": "white"
           },
           "zaxis": {
            "backgroundcolor": "#E5ECF6",
            "gridcolor": "white",
            "gridwidth": 2,
            "linecolor": "white",
            "showbackground": true,
            "ticks": "",
            "zerolinecolor": "white"
           }
          },
          "shapedefaults": {
           "line": {
            "color": "#2a3f5f"
           }
          },
          "ternary": {
           "aaxis": {
            "gridcolor": "white",
            "linecolor": "white",
            "ticks": ""
           },
           "baxis": {
            "gridcolor": "white",
            "linecolor": "white",
            "ticks": ""
           },
           "bgcolor": "#E5ECF6",
           "caxis": {
            "gridcolor": "white",
            "linecolor": "white",
            "ticks": ""
           }
          },
          "title": {
           "x": 0.05
          },
          "xaxis": {
           "automargin": true,
           "gridcolor": "white",
           "linecolor": "white",
           "ticks": "",
           "title": {
            "standoff": 15
           },
           "zerolinecolor": "white",
           "zerolinewidth": 2
          },
          "yaxis": {
           "automargin": true,
           "gridcolor": "white",
           "linecolor": "white",
           "ticks": "",
           "title": {
            "standoff": 15
           },
           "zerolinecolor": "white",
           "zerolinewidth": 2
          }
         }
        },
        "title": {
         "text": "Distribution des hauteurs de crue avec seuil optimal"
        },
        "xaxis": {
         "anchor": "y",
         "domain": [
          0,
          1
         ],
         "title": {
          "text": "Hauteur de crue (m)"
         }
        },
        "yaxis": {
         "anchor": "x",
         "domain": [
          0,
          1
         ],
         "title": {
          "text": "count"
         }
        }
       }
      }
     },
     "metadata": {},
     "output_type": "display_data"
    }
   ],
   "source": [
    "#---seuil optimal---\n",
    "visualize_distribution_with_threshold(df, h_optimal)"
   ]
  },
  {
   "cell_type": "code",
   "execution_count": 23,
   "metadata": {},
   "outputs": [
    {
     "data": {
      "application/vnd.plotly.v1+json": {
       "config": {
        "plotlyServerURL": "https://plot.ly"
       },
       "data": [
        {
         "alignmentgroup": "True",
         "hovertemplate": "Hauteur de crue (m)=%{y}<extra></extra>",
         "legendgroup": "",
         "marker": {
          "color": "#636efa"
         },
         "name": "",
         "notched": false,
         "offsetgroup": "",
         "orientation": "v",
         "showlegend": false,
         "type": "box",
         "x0": " ",
         "xaxis": "x",
         "y": {
          "bdata": "AAAAAAAAEEAAAAAAAAASQDMzMzMzMxFAMzMzMzMz+z8zMzMzMzMLQDMzMzMzMwtAZmZmZmZmEEBmZmZmZmYQQDMzMzMzMxVAZmZmZmZmEEAzMzMzMzMPQGZmZmZmZg5AmpmZmZmZFUAzMzMzMzP7P5qZmZmZmQ1AmpmZmZmZE0BmZmZmZmYKQDMzMzMzMxlAAAAAAAAAEEAAAAAAAAAWQAAAAAAAABBAMzMzMzMzF0BmZmZmZmYQQDMzMzMzMwtAzczMzMzMEkDNzMzMzMwYQM3MzMzMzBZAzczMzMzMFEDNzMzMzMwEQGZmZmZmZhZAAAAAAAAAFkAzMzMzMzMTQDMzMzMzMw9AzczMzMzMGkAzMzMzMzMVQM3MzMzMzBBAzczMzMzMBEDNzMzMzMwQQGZmZmZmZgpAZmZmZmZmDkAAAAAAAAAMQM3MzMzMzBJAAAAAAAAABEAzMzMzMzMRQGZmZmZmZhBAMzMzMzMzD0BmZmZmZmYQQM3MzMzMzAxAZmZmZmZmEEDNzMzMzMwAQGZmZmZmZhBAZmZmZmZmCkDNzMzMzMwIQM3MzMzMzAxAmpmZmZmZCUAAAAAAAAAEQM3MzMzMzBpAAAAAAAAABEBmZmZmZmYCQM3MzMzMzABAzczMzMzMEkBmZmZmZmYUQJqZmZmZmRlAmpmZmZmZE0AzMzMzMzMLQDMzMzMzMxNAmpmZmZmZEUBmZmZmZmYWQDMzMzMzMwdAZmZmZmZmCkCamZmZmZkJQJqZmZmZmQ1AMzMzMzMzFUAAAAAAAAASQAAAAAAAABBAMzMzMzMzE0BmZmZmZmYSQAAAAAAAAPA/zczMzMzMCEAzMzMzMzMDQGZmZmZmZgZAmpmZmZmZBUAAAAAAAAASQJqZmZmZmQlAmpmZmZmZDUAAAAAAAAAEQM3MzMzMzARAzczMzMzM/D9mZmZmZmb2P5qZmZmZmRVAZmZmZmZmGkAAAAAAAAAQQJqZmZmZmQVAmpmZmZmZE0AzMzMzMzMVQGZmZmZmZhRAZmZmZmZmDkCamZmZmZkXQM3MzMzMzAhAMzMzMzMzC0BmZmZmZmYQQAAAAAAAAARAAAAAAAAABEAzMzMzMzMTQM3MzMzMzAhAMzMzMzMzA0AzMzMzMzMPQAAAAAAAAARAAAAAAAAAEkDNzMzMzMwQQAAAAAAAAPg/AAAAAAAA8D8AAAAAAAAQQM3MzMzMzAhAAAAAAAAACEAAAAAAAAAIQGZmZmZmZhRAAAAAAAAAEkDNzMzMzMwIQM3MzMzMzBxAAAAAAAAADEAAAAAAAAAEQAAAAAAAAARA",
          "dtype": "f8"
         },
         "y0": " ",
         "yaxis": "y"
        }
       ],
       "layout": {
        "boxmode": "group",
        "legend": {
         "tracegroupgap": 0
        },
        "template": {
         "data": {
          "bar": [
           {
            "error_x": {
             "color": "#2a3f5f"
            },
            "error_y": {
             "color": "#2a3f5f"
            },
            "marker": {
             "line": {
              "color": "#E5ECF6",
              "width": 0.5
             },
             "pattern": {
              "fillmode": "overlay",
              "size": 10,
              "solidity": 0.2
             }
            },
            "type": "bar"
           }
          ],
          "barpolar": [
           {
            "marker": {
             "line": {
              "color": "#E5ECF6",
              "width": 0.5
             },
             "pattern": {
              "fillmode": "overlay",
              "size": 10,
              "solidity": 0.2
             }
            },
            "type": "barpolar"
           }
          ],
          "carpet": [
           {
            "aaxis": {
             "endlinecolor": "#2a3f5f",
             "gridcolor": "white",
             "linecolor": "white",
             "minorgridcolor": "white",
             "startlinecolor": "#2a3f5f"
            },
            "baxis": {
             "endlinecolor": "#2a3f5f",
             "gridcolor": "white",
             "linecolor": "white",
             "minorgridcolor": "white",
             "startlinecolor": "#2a3f5f"
            },
            "type": "carpet"
           }
          ],
          "choropleth": [
           {
            "colorbar": {
             "outlinewidth": 0,
             "ticks": ""
            },
            "type": "choropleth"
           }
          ],
          "contour": [
           {
            "colorbar": {
             "outlinewidth": 0,
             "ticks": ""
            },
            "colorscale": [
             [
              0,
              "#0d0887"
             ],
             [
              0.1111111111111111,
              "#46039f"
             ],
             [
              0.2222222222222222,
              "#7201a8"
             ],
             [
              0.3333333333333333,
              "#9c179e"
             ],
             [
              0.4444444444444444,
              "#bd3786"
             ],
             [
              0.5555555555555556,
              "#d8576b"
             ],
             [
              0.6666666666666666,
              "#ed7953"
             ],
             [
              0.7777777777777778,
              "#fb9f3a"
             ],
             [
              0.8888888888888888,
              "#fdca26"
             ],
             [
              1,
              "#f0f921"
             ]
            ],
            "type": "contour"
           }
          ],
          "contourcarpet": [
           {
            "colorbar": {
             "outlinewidth": 0,
             "ticks": ""
            },
            "type": "contourcarpet"
           }
          ],
          "heatmap": [
           {
            "colorbar": {
             "outlinewidth": 0,
             "ticks": ""
            },
            "colorscale": [
             [
              0,
              "#0d0887"
             ],
             [
              0.1111111111111111,
              "#46039f"
             ],
             [
              0.2222222222222222,
              "#7201a8"
             ],
             [
              0.3333333333333333,
              "#9c179e"
             ],
             [
              0.4444444444444444,
              "#bd3786"
             ],
             [
              0.5555555555555556,
              "#d8576b"
             ],
             [
              0.6666666666666666,
              "#ed7953"
             ],
             [
              0.7777777777777778,
              "#fb9f3a"
             ],
             [
              0.8888888888888888,
              "#fdca26"
             ],
             [
              1,
              "#f0f921"
             ]
            ],
            "type": "heatmap"
           }
          ],
          "histogram": [
           {
            "marker": {
             "pattern": {
              "fillmode": "overlay",
              "size": 10,
              "solidity": 0.2
             }
            },
            "type": "histogram"
           }
          ],
          "histogram2d": [
           {
            "colorbar": {
             "outlinewidth": 0,
             "ticks": ""
            },
            "colorscale": [
             [
              0,
              "#0d0887"
             ],
             [
              0.1111111111111111,
              "#46039f"
             ],
             [
              0.2222222222222222,
              "#7201a8"
             ],
             [
              0.3333333333333333,
              "#9c179e"
             ],
             [
              0.4444444444444444,
              "#bd3786"
             ],
             [
              0.5555555555555556,
              "#d8576b"
             ],
             [
              0.6666666666666666,
              "#ed7953"
             ],
             [
              0.7777777777777778,
              "#fb9f3a"
             ],
             [
              0.8888888888888888,
              "#fdca26"
             ],
             [
              1,
              "#f0f921"
             ]
            ],
            "type": "histogram2d"
           }
          ],
          "histogram2dcontour": [
           {
            "colorbar": {
             "outlinewidth": 0,
             "ticks": ""
            },
            "colorscale": [
             [
              0,
              "#0d0887"
             ],
             [
              0.1111111111111111,
              "#46039f"
             ],
             [
              0.2222222222222222,
              "#7201a8"
             ],
             [
              0.3333333333333333,
              "#9c179e"
             ],
             [
              0.4444444444444444,
              "#bd3786"
             ],
             [
              0.5555555555555556,
              "#d8576b"
             ],
             [
              0.6666666666666666,
              "#ed7953"
             ],
             [
              0.7777777777777778,
              "#fb9f3a"
             ],
             [
              0.8888888888888888,
              "#fdca26"
             ],
             [
              1,
              "#f0f921"
             ]
            ],
            "type": "histogram2dcontour"
           }
          ],
          "mesh3d": [
           {
            "colorbar": {
             "outlinewidth": 0,
             "ticks": ""
            },
            "type": "mesh3d"
           }
          ],
          "parcoords": [
           {
            "line": {
             "colorbar": {
              "outlinewidth": 0,
              "ticks": ""
             }
            },
            "type": "parcoords"
           }
          ],
          "pie": [
           {
            "automargin": true,
            "type": "pie"
           }
          ],
          "scatter": [
           {
            "fillpattern": {
             "fillmode": "overlay",
             "size": 10,
             "solidity": 0.2
            },
            "type": "scatter"
           }
          ],
          "scatter3d": [
           {
            "line": {
             "colorbar": {
              "outlinewidth": 0,
              "ticks": ""
             }
            },
            "marker": {
             "colorbar": {
              "outlinewidth": 0,
              "ticks": ""
             }
            },
            "type": "scatter3d"
           }
          ],
          "scattercarpet": [
           {
            "marker": {
             "colorbar": {
              "outlinewidth": 0,
              "ticks": ""
             }
            },
            "type": "scattercarpet"
           }
          ],
          "scattergeo": [
           {
            "marker": {
             "colorbar": {
              "outlinewidth": 0,
              "ticks": ""
             }
            },
            "type": "scattergeo"
           }
          ],
          "scattergl": [
           {
            "marker": {
             "colorbar": {
              "outlinewidth": 0,
              "ticks": ""
             }
            },
            "type": "scattergl"
           }
          ],
          "scattermap": [
           {
            "marker": {
             "colorbar": {
              "outlinewidth": 0,
              "ticks": ""
             }
            },
            "type": "scattermap"
           }
          ],
          "scattermapbox": [
           {
            "marker": {
             "colorbar": {
              "outlinewidth": 0,
              "ticks": ""
             }
            },
            "type": "scattermapbox"
           }
          ],
          "scatterpolar": [
           {
            "marker": {
             "colorbar": {
              "outlinewidth": 0,
              "ticks": ""
             }
            },
            "type": "scatterpolar"
           }
          ],
          "scatterpolargl": [
           {
            "marker": {
             "colorbar": {
              "outlinewidth": 0,
              "ticks": ""
             }
            },
            "type": "scatterpolargl"
           }
          ],
          "scatterternary": [
           {
            "marker": {
             "colorbar": {
              "outlinewidth": 0,
              "ticks": ""
             }
            },
            "type": "scatterternary"
           }
          ],
          "surface": [
           {
            "colorbar": {
             "outlinewidth": 0,
             "ticks": ""
            },
            "colorscale": [
             [
              0,
              "#0d0887"
             ],
             [
              0.1111111111111111,
              "#46039f"
             ],
             [
              0.2222222222222222,
              "#7201a8"
             ],
             [
              0.3333333333333333,
              "#9c179e"
             ],
             [
              0.4444444444444444,
              "#bd3786"
             ],
             [
              0.5555555555555556,
              "#d8576b"
             ],
             [
              0.6666666666666666,
              "#ed7953"
             ],
             [
              0.7777777777777778,
              "#fb9f3a"
             ],
             [
              0.8888888888888888,
              "#fdca26"
             ],
             [
              1,
              "#f0f921"
             ]
            ],
            "type": "surface"
           }
          ],
          "table": [
           {
            "cells": {
             "fill": {
              "color": "#EBF0F8"
             },
             "line": {
              "color": "white"
             }
            },
            "header": {
             "fill": {
              "color": "#C8D4E3"
             },
             "line": {
              "color": "white"
             }
            },
            "type": "table"
           }
          ]
         },
         "layout": {
          "annotationdefaults": {
           "arrowcolor": "#2a3f5f",
           "arrowhead": 0,
           "arrowwidth": 1
          },
          "autotypenumbers": "strict",
          "coloraxis": {
           "colorbar": {
            "outlinewidth": 0,
            "ticks": ""
           }
          },
          "colorscale": {
           "diverging": [
            [
             0,
             "#8e0152"
            ],
            [
             0.1,
             "#c51b7d"
            ],
            [
             0.2,
             "#de77ae"
            ],
            [
             0.3,
             "#f1b6da"
            ],
            [
             0.4,
             "#fde0ef"
            ],
            [
             0.5,
             "#f7f7f7"
            ],
            [
             0.6,
             "#e6f5d0"
            ],
            [
             0.7,
             "#b8e186"
            ],
            [
             0.8,
             "#7fbc41"
            ],
            [
             0.9,
             "#4d9221"
            ],
            [
             1,
             "#276419"
            ]
           ],
           "sequential": [
            [
             0,
             "#0d0887"
            ],
            [
             0.1111111111111111,
             "#46039f"
            ],
            [
             0.2222222222222222,
             "#7201a8"
            ],
            [
             0.3333333333333333,
             "#9c179e"
            ],
            [
             0.4444444444444444,
             "#bd3786"
            ],
            [
             0.5555555555555556,
             "#d8576b"
            ],
            [
             0.6666666666666666,
             "#ed7953"
            ],
            [
             0.7777777777777778,
             "#fb9f3a"
            ],
            [
             0.8888888888888888,
             "#fdca26"
            ],
            [
             1,
             "#f0f921"
            ]
           ],
           "sequentialminus": [
            [
             0,
             "#0d0887"
            ],
            [
             0.1111111111111111,
             "#46039f"
            ],
            [
             0.2222222222222222,
             "#7201a8"
            ],
            [
             0.3333333333333333,
             "#9c179e"
            ],
            [
             0.4444444444444444,
             "#bd3786"
            ],
            [
             0.5555555555555556,
             "#d8576b"
            ],
            [
             0.6666666666666666,
             "#ed7953"
            ],
            [
             0.7777777777777778,
             "#fb9f3a"
            ],
            [
             0.8888888888888888,
             "#fdca26"
            ],
            [
             1,
             "#f0f921"
            ]
           ]
          },
          "colorway": [
           "#636efa",
           "#EF553B",
           "#00cc96",
           "#ab63fa",
           "#FFA15A",
           "#19d3f3",
           "#FF6692",
           "#B6E880",
           "#FF97FF",
           "#FECB52"
          ],
          "font": {
           "color": "#2a3f5f"
          },
          "geo": {
           "bgcolor": "white",
           "lakecolor": "white",
           "landcolor": "#E5ECF6",
           "showlakes": true,
           "showland": true,
           "subunitcolor": "white"
          },
          "hoverlabel": {
           "align": "left"
          },
          "hovermode": "closest",
          "mapbox": {
           "style": "light"
          },
          "paper_bgcolor": "white",
          "plot_bgcolor": "#E5ECF6",
          "polar": {
           "angularaxis": {
            "gridcolor": "white",
            "linecolor": "white",
            "ticks": ""
           },
           "bgcolor": "#E5ECF6",
           "radialaxis": {
            "gridcolor": "white",
            "linecolor": "white",
            "ticks": ""
           }
          },
          "scene": {
           "xaxis": {
            "backgroundcolor": "#E5ECF6",
            "gridcolor": "white",
            "gridwidth": 2,
            "linecolor": "white",
            "showbackground": true,
            "ticks": "",
            "zerolinecolor": "white"
           },
           "yaxis": {
            "backgroundcolor": "#E5ECF6",
            "gridcolor": "white",
            "gridwidth": 2,
            "linecolor": "white",
            "showbackground": true,
            "ticks": "",
            "zerolinecolor": "white"
           },
           "zaxis": {
            "backgroundcolor": "#E5ECF6",
            "gridcolor": "white",
            "gridwidth": 2,
            "linecolor": "white",
            "showbackground": true,
            "ticks": "",
            "zerolinecolor": "white"
           }
          },
          "shapedefaults": {
           "line": {
            "color": "#2a3f5f"
           }
          },
          "ternary": {
           "aaxis": {
            "gridcolor": "white",
            "linecolor": "white",
            "ticks": ""
           },
           "baxis": {
            "gridcolor": "white",
            "linecolor": "white",
            "ticks": ""
           },
           "bgcolor": "#E5ECF6",
           "caxis": {
            "gridcolor": "white",
            "linecolor": "white",
            "ticks": ""
           }
          },
          "title": {
           "x": 0.05
          },
          "xaxis": {
           "automargin": true,
           "gridcolor": "white",
           "linecolor": "white",
           "ticks": "",
           "title": {
            "standoff": 15
           },
           "zerolinecolor": "white",
           "zerolinewidth": 2
          },
          "yaxis": {
           "automargin": true,
           "gridcolor": "white",
           "linecolor": "white",
           "ticks": "",
           "title": {
            "standoff": 15
           },
           "zerolinecolor": "white",
           "zerolinewidth": 2
          }
         }
        },
        "title": {
         "text": "Boxplot des hauteurs de crue"
        },
        "xaxis": {
         "anchor": "y",
         "domain": [
          0,
          1
         ]
        },
        "yaxis": {
         "anchor": "x",
         "domain": [
          0,
          1
         ],
         "title": {
          "text": "Hauteur de crue (m)"
         }
        }
       }
      }
     },
     "metadata": {},
     "output_type": "display_data"
    }
   ],
   "source": [
    "visualize_boxplot(df)"
   ]
  },
  {
   "cell_type": "markdown",
   "metadata": {},
   "source": [
    "> Aucun outlier particulier n'est détecté. La médiane est d'environ 4 mètres."
   ]
  },
  {
   "cell_type": "code",
   "execution_count": 24,
   "metadata": {},
   "outputs": [
    {
     "data": {
      "application/vnd.plotly.v1+json": {
       "config": {
        "plotlyServerURL": "https://plot.ly"
       },
       "data": [
        {
         "hovertemplate": "Année=%{x}<br>Hauteur de crue (m)=%{y}<extra></extra>",
         "legendgroup": "",
         "line": {
          "color": "#636efa",
          "dash": "solid"
         },
         "marker": {
          "symbol": "circle"
         },
         "mode": "lines",
         "name": "",
         "orientation": "v",
         "showlegend": false,
         "type": "scatter",
         "x": {
          "bdata": "Ogc7BzwHPQc+Bz8HQAdBB0IHQwdEB0UHRgdHB0gHSQdKB0sHTAdNB1QHVQdWB1cHWAdZB1oHWwdcB10HXgdfB2AHYQdiB2MHZAdlB2YHZwdoB2kHeAd5B3oHewd8B30Hfgd/B4AHgQeCB4MHhAeFB4YHhweIB4kHigeLB4wHjQeOB48HkAeRB5IHkweUB5UHlgeXB5gHmQeaB5sHnAedB54HnwegB6EHogejB6QHpQemB6cHqAepB6oHqwexB7IHswe0B7UHtge3B7gHuQe6B7sHvAe9B74HvwfAB8EHwgfDB8QHxQfGB8cHyAfJB8oHywfMB80H",
          "dtype": "i2"
         },
         "xaxis": "x",
         "y": {
          "bdata": "AAAAAAAAEEAAAAAAAAASQDMzMzMzMxFAMzMzMzMz+z8zMzMzMzMLQDMzMzMzMwtAZmZmZmZmEEBmZmZmZmYQQDMzMzMzMxVAZmZmZmZmEEAzMzMzMzMPQGZmZmZmZg5AmpmZmZmZFUAzMzMzMzP7P5qZmZmZmQ1AmpmZmZmZE0BmZmZmZmYKQDMzMzMzMxlAAAAAAAAAEEAAAAAAAAAWQAAAAAAAABBAMzMzMzMzF0BmZmZmZmYQQDMzMzMzMwtAzczMzMzMEkDNzMzMzMwYQM3MzMzMzBZAzczMzMzMFEDNzMzMzMwEQGZmZmZmZhZAAAAAAAAAFkAzMzMzMzMTQDMzMzMzMw9AzczMzMzMGkAzMzMzMzMVQM3MzMzMzBBAzczMzMzMBEDNzMzMzMwQQGZmZmZmZgpAZmZmZmZmDkAAAAAAAAAMQM3MzMzMzBJAAAAAAAAABEAzMzMzMzMRQGZmZmZmZhBAMzMzMzMzD0BmZmZmZmYQQM3MzMzMzAxAZmZmZmZmEEDNzMzMzMwAQGZmZmZmZhBAZmZmZmZmCkDNzMzMzMwIQM3MzMzMzAxAmpmZmZmZCUAAAAAAAAAEQM3MzMzMzBpAAAAAAAAABEBmZmZmZmYCQM3MzMzMzABAzczMzMzMEkBmZmZmZmYUQJqZmZmZmRlAmpmZmZmZE0AzMzMzMzMLQDMzMzMzMxNAmpmZmZmZEUBmZmZmZmYWQDMzMzMzMwdAZmZmZmZmCkCamZmZmZkJQJqZmZmZmQ1AMzMzMzMzFUAAAAAAAAASQAAAAAAAABBAMzMzMzMzE0BmZmZmZmYSQAAAAAAAAPA/zczMzMzMCEAzMzMzMzMDQGZmZmZmZgZAmpmZmZmZBUAAAAAAAAASQJqZmZmZmQlAmpmZmZmZDUAAAAAAAAAEQM3MzMzMzARAzczMzMzM/D9mZmZmZmb2P5qZmZmZmRVAZmZmZmZmGkAAAAAAAAAQQJqZmZmZmQVAmpmZmZmZE0AzMzMzMzMVQGZmZmZmZhRAZmZmZmZmDkCamZmZmZkXQM3MzMzMzAhAMzMzMzMzC0BmZmZmZmYQQAAAAAAAAARAAAAAAAAABEAzMzMzMzMTQM3MzMzMzAhAMzMzMzMzA0AzMzMzMzMPQAAAAAAAAARAAAAAAAAAEkDNzMzMzMwQQAAAAAAAAPg/AAAAAAAA8D8AAAAAAAAQQM3MzMzMzAhAAAAAAAAACEAAAAAAAAAIQGZmZmZmZhRAAAAAAAAAEkDNzMzMzMwIQM3MzMzMzBxAAAAAAAAADEAAAAAAAAAEQAAAAAAAAARA",
          "dtype": "f8"
         },
         "yaxis": "y"
        }
       ],
       "layout": {
        "legend": {
         "tracegroupgap": 0
        },
        "template": {
         "data": {
          "bar": [
           {
            "error_x": {
             "color": "#2a3f5f"
            },
            "error_y": {
             "color": "#2a3f5f"
            },
            "marker": {
             "line": {
              "color": "#E5ECF6",
              "width": 0.5
             },
             "pattern": {
              "fillmode": "overlay",
              "size": 10,
              "solidity": 0.2
             }
            },
            "type": "bar"
           }
          ],
          "barpolar": [
           {
            "marker": {
             "line": {
              "color": "#E5ECF6",
              "width": 0.5
             },
             "pattern": {
              "fillmode": "overlay",
              "size": 10,
              "solidity": 0.2
             }
            },
            "type": "barpolar"
           }
          ],
          "carpet": [
           {
            "aaxis": {
             "endlinecolor": "#2a3f5f",
             "gridcolor": "white",
             "linecolor": "white",
             "minorgridcolor": "white",
             "startlinecolor": "#2a3f5f"
            },
            "baxis": {
             "endlinecolor": "#2a3f5f",
             "gridcolor": "white",
             "linecolor": "white",
             "minorgridcolor": "white",
             "startlinecolor": "#2a3f5f"
            },
            "type": "carpet"
           }
          ],
          "choropleth": [
           {
            "colorbar": {
             "outlinewidth": 0,
             "ticks": ""
            },
            "type": "choropleth"
           }
          ],
          "contour": [
           {
            "colorbar": {
             "outlinewidth": 0,
             "ticks": ""
            },
            "colorscale": [
             [
              0,
              "#0d0887"
             ],
             [
              0.1111111111111111,
              "#46039f"
             ],
             [
              0.2222222222222222,
              "#7201a8"
             ],
             [
              0.3333333333333333,
              "#9c179e"
             ],
             [
              0.4444444444444444,
              "#bd3786"
             ],
             [
              0.5555555555555556,
              "#d8576b"
             ],
             [
              0.6666666666666666,
              "#ed7953"
             ],
             [
              0.7777777777777778,
              "#fb9f3a"
             ],
             [
              0.8888888888888888,
              "#fdca26"
             ],
             [
              1,
              "#f0f921"
             ]
            ],
            "type": "contour"
           }
          ],
          "contourcarpet": [
           {
            "colorbar": {
             "outlinewidth": 0,
             "ticks": ""
            },
            "type": "contourcarpet"
           }
          ],
          "heatmap": [
           {
            "colorbar": {
             "outlinewidth": 0,
             "ticks": ""
            },
            "colorscale": [
             [
              0,
              "#0d0887"
             ],
             [
              0.1111111111111111,
              "#46039f"
             ],
             [
              0.2222222222222222,
              "#7201a8"
             ],
             [
              0.3333333333333333,
              "#9c179e"
             ],
             [
              0.4444444444444444,
              "#bd3786"
             ],
             [
              0.5555555555555556,
              "#d8576b"
             ],
             [
              0.6666666666666666,
              "#ed7953"
             ],
             [
              0.7777777777777778,
              "#fb9f3a"
             ],
             [
              0.8888888888888888,
              "#fdca26"
             ],
             [
              1,
              "#f0f921"
             ]
            ],
            "type": "heatmap"
           }
          ],
          "histogram": [
           {
            "marker": {
             "pattern": {
              "fillmode": "overlay",
              "size": 10,
              "solidity": 0.2
             }
            },
            "type": "histogram"
           }
          ],
          "histogram2d": [
           {
            "colorbar": {
             "outlinewidth": 0,
             "ticks": ""
            },
            "colorscale": [
             [
              0,
              "#0d0887"
             ],
             [
              0.1111111111111111,
              "#46039f"
             ],
             [
              0.2222222222222222,
              "#7201a8"
             ],
             [
              0.3333333333333333,
              "#9c179e"
             ],
             [
              0.4444444444444444,
              "#bd3786"
             ],
             [
              0.5555555555555556,
              "#d8576b"
             ],
             [
              0.6666666666666666,
              "#ed7953"
             ],
             [
              0.7777777777777778,
              "#fb9f3a"
             ],
             [
              0.8888888888888888,
              "#fdca26"
             ],
             [
              1,
              "#f0f921"
             ]
            ],
            "type": "histogram2d"
           }
          ],
          "histogram2dcontour": [
           {
            "colorbar": {
             "outlinewidth": 0,
             "ticks": ""
            },
            "colorscale": [
             [
              0,
              "#0d0887"
             ],
             [
              0.1111111111111111,
              "#46039f"
             ],
             [
              0.2222222222222222,
              "#7201a8"
             ],
             [
              0.3333333333333333,
              "#9c179e"
             ],
             [
              0.4444444444444444,
              "#bd3786"
             ],
             [
              0.5555555555555556,
              "#d8576b"
             ],
             [
              0.6666666666666666,
              "#ed7953"
             ],
             [
              0.7777777777777778,
              "#fb9f3a"
             ],
             [
              0.8888888888888888,
              "#fdca26"
             ],
             [
              1,
              "#f0f921"
             ]
            ],
            "type": "histogram2dcontour"
           }
          ],
          "mesh3d": [
           {
            "colorbar": {
             "outlinewidth": 0,
             "ticks": ""
            },
            "type": "mesh3d"
           }
          ],
          "parcoords": [
           {
            "line": {
             "colorbar": {
              "outlinewidth": 0,
              "ticks": ""
             }
            },
            "type": "parcoords"
           }
          ],
          "pie": [
           {
            "automargin": true,
            "type": "pie"
           }
          ],
          "scatter": [
           {
            "fillpattern": {
             "fillmode": "overlay",
             "size": 10,
             "solidity": 0.2
            },
            "type": "scatter"
           }
          ],
          "scatter3d": [
           {
            "line": {
             "colorbar": {
              "outlinewidth": 0,
              "ticks": ""
             }
            },
            "marker": {
             "colorbar": {
              "outlinewidth": 0,
              "ticks": ""
             }
            },
            "type": "scatter3d"
           }
          ],
          "scattercarpet": [
           {
            "marker": {
             "colorbar": {
              "outlinewidth": 0,
              "ticks": ""
             }
            },
            "type": "scattercarpet"
           }
          ],
          "scattergeo": [
           {
            "marker": {
             "colorbar": {
              "outlinewidth": 0,
              "ticks": ""
             }
            },
            "type": "scattergeo"
           }
          ],
          "scattergl": [
           {
            "marker": {
             "colorbar": {
              "outlinewidth": 0,
              "ticks": ""
             }
            },
            "type": "scattergl"
           }
          ],
          "scattermap": [
           {
            "marker": {
             "colorbar": {
              "outlinewidth": 0,
              "ticks": ""
             }
            },
            "type": "scattermap"
           }
          ],
          "scattermapbox": [
           {
            "marker": {
             "colorbar": {
              "outlinewidth": 0,
              "ticks": ""
             }
            },
            "type": "scattermapbox"
           }
          ],
          "scatterpolar": [
           {
            "marker": {
             "colorbar": {
              "outlinewidth": 0,
              "ticks": ""
             }
            },
            "type": "scatterpolar"
           }
          ],
          "scatterpolargl": [
           {
            "marker": {
             "colorbar": {
              "outlinewidth": 0,
              "ticks": ""
             }
            },
            "type": "scatterpolargl"
           }
          ],
          "scatterternary": [
           {
            "marker": {
             "colorbar": {
              "outlinewidth": 0,
              "ticks": ""
             }
            },
            "type": "scatterternary"
           }
          ],
          "surface": [
           {
            "colorbar": {
             "outlinewidth": 0,
             "ticks": ""
            },
            "colorscale": [
             [
              0,
              "#0d0887"
             ],
             [
              0.1111111111111111,
              "#46039f"
             ],
             [
              0.2222222222222222,
              "#7201a8"
             ],
             [
              0.3333333333333333,
              "#9c179e"
             ],
             [
              0.4444444444444444,
              "#bd3786"
             ],
             [
              0.5555555555555556,
              "#d8576b"
             ],
             [
              0.6666666666666666,
              "#ed7953"
             ],
             [
              0.7777777777777778,
              "#fb9f3a"
             ],
             [
              0.8888888888888888,
              "#fdca26"
             ],
             [
              1,
              "#f0f921"
             ]
            ],
            "type": "surface"
           }
          ],
          "table": [
           {
            "cells": {
             "fill": {
              "color": "#EBF0F8"
             },
             "line": {
              "color": "white"
             }
            },
            "header": {
             "fill": {
              "color": "#C8D4E3"
             },
             "line": {
              "color": "white"
             }
            },
            "type": "table"
           }
          ]
         },
         "layout": {
          "annotationdefaults": {
           "arrowcolor": "#2a3f5f",
           "arrowhead": 0,
           "arrowwidth": 1
          },
          "autotypenumbers": "strict",
          "coloraxis": {
           "colorbar": {
            "outlinewidth": 0,
            "ticks": ""
           }
          },
          "colorscale": {
           "diverging": [
            [
             0,
             "#8e0152"
            ],
            [
             0.1,
             "#c51b7d"
            ],
            [
             0.2,
             "#de77ae"
            ],
            [
             0.3,
             "#f1b6da"
            ],
            [
             0.4,
             "#fde0ef"
            ],
            [
             0.5,
             "#f7f7f7"
            ],
            [
             0.6,
             "#e6f5d0"
            ],
            [
             0.7,
             "#b8e186"
            ],
            [
             0.8,
             "#7fbc41"
            ],
            [
             0.9,
             "#4d9221"
            ],
            [
             1,
             "#276419"
            ]
           ],
           "sequential": [
            [
             0,
             "#0d0887"
            ],
            [
             0.1111111111111111,
             "#46039f"
            ],
            [
             0.2222222222222222,
             "#7201a8"
            ],
            [
             0.3333333333333333,
             "#9c179e"
            ],
            [
             0.4444444444444444,
             "#bd3786"
            ],
            [
             0.5555555555555556,
             "#d8576b"
            ],
            [
             0.6666666666666666,
             "#ed7953"
            ],
            [
             0.7777777777777778,
             "#fb9f3a"
            ],
            [
             0.8888888888888888,
             "#fdca26"
            ],
            [
             1,
             "#f0f921"
            ]
           ],
           "sequentialminus": [
            [
             0,
             "#0d0887"
            ],
            [
             0.1111111111111111,
             "#46039f"
            ],
            [
             0.2222222222222222,
             "#7201a8"
            ],
            [
             0.3333333333333333,
             "#9c179e"
            ],
            [
             0.4444444444444444,
             "#bd3786"
            ],
            [
             0.5555555555555556,
             "#d8576b"
            ],
            [
             0.6666666666666666,
             "#ed7953"
            ],
            [
             0.7777777777777778,
             "#fb9f3a"
            ],
            [
             0.8888888888888888,
             "#fdca26"
            ],
            [
             1,
             "#f0f921"
            ]
           ]
          },
          "colorway": [
           "#636efa",
           "#EF553B",
           "#00cc96",
           "#ab63fa",
           "#FFA15A",
           "#19d3f3",
           "#FF6692",
           "#B6E880",
           "#FF97FF",
           "#FECB52"
          ],
          "font": {
           "color": "#2a3f5f"
          },
          "geo": {
           "bgcolor": "white",
           "lakecolor": "white",
           "landcolor": "#E5ECF6",
           "showlakes": true,
           "showland": true,
           "subunitcolor": "white"
          },
          "hoverlabel": {
           "align": "left"
          },
          "hovermode": "closest",
          "mapbox": {
           "style": "light"
          },
          "paper_bgcolor": "white",
          "plot_bgcolor": "#E5ECF6",
          "polar": {
           "angularaxis": {
            "gridcolor": "white",
            "linecolor": "white",
            "ticks": ""
           },
           "bgcolor": "#E5ECF6",
           "radialaxis": {
            "gridcolor": "white",
            "linecolor": "white",
            "ticks": ""
           }
          },
          "scene": {
           "xaxis": {
            "backgroundcolor": "#E5ECF6",
            "gridcolor": "white",
            "gridwidth": 2,
            "linecolor": "white",
            "showbackground": true,
            "ticks": "",
            "zerolinecolor": "white"
           },
           "yaxis": {
            "backgroundcolor": "#E5ECF6",
            "gridcolor": "white",
            "gridwidth": 2,
            "linecolor": "white",
            "showbackground": true,
            "ticks": "",
            "zerolinecolor": "white"
           },
           "zaxis": {
            "backgroundcolor": "#E5ECF6",
            "gridcolor": "white",
            "gridwidth": 2,
            "linecolor": "white",
            "showbackground": true,
            "ticks": "",
            "zerolinecolor": "white"
           }
          },
          "shapedefaults": {
           "line": {
            "color": "#2a3f5f"
           }
          },
          "ternary": {
           "aaxis": {
            "gridcolor": "white",
            "linecolor": "white",
            "ticks": ""
           },
           "baxis": {
            "gridcolor": "white",
            "linecolor": "white",
            "ticks": ""
           },
           "bgcolor": "#E5ECF6",
           "caxis": {
            "gridcolor": "white",
            "linecolor": "white",
            "ticks": ""
           }
          },
          "title": {
           "x": 0.05
          },
          "xaxis": {
           "automargin": true,
           "gridcolor": "white",
           "linecolor": "white",
           "ticks": "",
           "title": {
            "standoff": 15
           },
           "zerolinecolor": "white",
           "zerolinewidth": 2
          },
          "yaxis": {
           "automargin": true,
           "gridcolor": "white",
           "linecolor": "white",
           "ticks": "",
           "title": {
            "standoff": 15
           },
           "zerolinecolor": "white",
           "zerolinewidth": 2
          }
         }
        },
        "title": {
         "text": "Évolution des hauteurs de crue au fil du temps"
        },
        "xaxis": {
         "anchor": "y",
         "domain": [
          0,
          1
         ],
         "title": {
          "text": "Année"
         }
        },
        "yaxis": {
         "anchor": "x",
         "domain": [
          0,
          1
         ],
         "title": {
          "text": "Hauteur de crue (m)"
         }
        }
       }
      }
     },
     "metadata": {},
     "output_type": "display_data"
    }
   ],
   "source": [
    "visualize_time_series(df)"
   ]
  },
  {
   "cell_type": "markdown",
   "metadata": {},
   "source": [
    "> On observe une certaine périodicité, mise en évidence par la récurrence des pics."
   ]
  }
 ],
 "metadata": {
  "kernelspec": {
   "display_name": "venv",
   "language": "python",
   "name": "python3"
  },
  "language_info": {
   "codemirror_mode": {
    "name": "ipython",
    "version": 3
   },
   "file_extension": ".py",
   "mimetype": "text/x-python",
   "name": "python",
   "nbconvert_exporter": "python",
   "pygments_lexer": "ipython3",
   "version": "3.9.6"
  }
 },
 "nbformat": 4,
 "nbformat_minor": 2
}
